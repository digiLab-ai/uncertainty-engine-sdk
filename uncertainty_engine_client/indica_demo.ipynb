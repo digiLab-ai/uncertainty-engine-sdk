{
 "cells": [
  {
   "cell_type": "markdown",
   "metadata": {},
   "source": [
    "## Bayesian Experimental Design of Soft X-Ray Crystal Spectroscopy of Sight\n",
    "\n",
    "Using INDICA, we have generated several emission distributions for the same flat topic equilibrium from ST-40.\n",
    "\n",
    "<img width=\"90%\" src=\"/Users/ethanhargrove/Desktop/repos/uncertainty-engine-sdk/uncertainty_engine_client/Screenshot 2025-02-11 at 9.59.00 pm.png\">\n",
    "\n",
    "We wish to identify the best three lines of sight from a fan of an x-ray camera system from the 20 candidate lines of sight (left).\n",
    "\n",
    "<img width=\"90%\" src=\"/Users/ethanhargrove/Desktop/repos/uncertainty-engine-sdk/uncertainty_engine_client/Screenshot 2025-02-11 at 10.10.30 pm.png\">\n",
    "\n",
    "The <strong><i>best</i></strong> sensor configuration is the one that maximises the <strong>E</strong>xpected <strong>I</strong>nformation <strong>G</strong>ain (EIG) from those sensors' measurements.\n",
    "\n",
    "With our new framework, this can be achieved in 5 easy steps.\n",
    "<ol> \n",
    "    <li>Basic setup</li>\n",
    "    <li>Define dataset and measurement uncertainty</li>\n",
    "    <li>Setup the designer</li>\n",
    "    <li>Suggest a sensor design</li>\n",
    "    <li>Examine suggested designs</li>\n",
    "</ol>"
   ]
  },
  {
   "cell_type": "markdown",
   "metadata": {},
   "source": [
    "### 1. Basic setup\n",
    "\n",
    "First let's import and install all the packages we'll need.<br/>\n",
    "We have hidden this code, but it can be seen by clicking 'Show code'."
   ]
  },
  {
   "cell_type": "code",
   "execution_count": 1,
   "metadata": {},
   "outputs": [
    {
     "name": "stderr",
     "output_type": "stream",
     "text": [
      "/Users/ethanhargrove/Desktop/repos/uncertainty-engine-sdk/.venv/lib/python3.12/site-packages/typeguard/__init__.py:1016: UserWarning: no type annotations present -- not typechecking workflow_types.vector_store.VectorStoreManager.connect\n",
      "  warn('no type annotations present -- not typechecking {}'.format(function_name(func)))\n"
     ]
    }
   ],
   "source": [
    "# Click '▷' to import packages\n",
    "from bed_client import Designer\n",
    "import numpy as np\n",
    "import pandas as pd"
   ]
  },
  {
   "cell_type": "markdown",
   "metadata": {},
   "source": [
    "### 2. Define dataset and measurement uncertainty\n",
    "\n",
    "This data-driven approach relies on samples of simulated sensor readings for each candidate sensor configuration. These samples are provided to the framework as a pandas DataFrame imported from a CSV file.\n",
    "\n",
    "A sensor configuration may vary the physical attributes of the sensor, such as its location or angle, but it can also encompass variations in precision or entirely different types of sensors measuring distinct quantities.\n",
    "\n",
    "For this demonstration, each candidate sensor configuration corresponds to a unique line of sight. In the DataFrame, each row represents simulated readings at a specific time, while each column corresponds to a simulated sensor."
   ]
  },
  {
   "cell_type": "code",
   "execution_count": 2,
   "metadata": {},
   "outputs": [
    {
     "data": {
      "text/html": [
       "<div>\n",
       "<style scoped>\n",
       "    .dataframe tbody tr th:only-of-type {\n",
       "        vertical-align: middle;\n",
       "    }\n",
       "\n",
       "    .dataframe tbody tr th {\n",
       "        vertical-align: top;\n",
       "    }\n",
       "\n",
       "    .dataframe thead th {\n",
       "        text-align: right;\n",
       "    }\n",
       "</style>\n",
       "<table border=\"1\" class=\"dataframe\">\n",
       "  <thead>\n",
       "    <tr style=\"text-align: right;\">\n",
       "      <th></th>\n",
       "      <th>LOS_0_0</th>\n",
       "      <th>LOS_0_1</th>\n",
       "      <th>LOS_0_2</th>\n",
       "      <th>LOS_0_3</th>\n",
       "      <th>LOS_0_4</th>\n",
       "      <th>LOS_0_5</th>\n",
       "      <th>LOS_0_6</th>\n",
       "      <th>LOS_0_7</th>\n",
       "      <th>LOS_0_8</th>\n",
       "      <th>LOS_0_9</th>\n",
       "      <th>LOS_0_10</th>\n",
       "      <th>LOS_0_11</th>\n",
       "      <th>LOS_0_12</th>\n",
       "      <th>LOS_0_13</th>\n",
       "      <th>LOS_0_14</th>\n",
       "      <th>LOS_0_15</th>\n",
       "      <th>LOS_0_16</th>\n",
       "      <th>LOS_0_17</th>\n",
       "      <th>LOS_0_18</th>\n",
       "      <th>LOS_0_19</th>\n",
       "    </tr>\n",
       "  </thead>\n",
       "  <tbody>\n",
       "    <tr>\n",
       "      <th>0</th>\n",
       "      <td>126083.529963</td>\n",
       "      <td>126303.698848</td>\n",
       "      <td>126431.013860</td>\n",
       "      <td>126469.947093</td>\n",
       "      <td>126437.430911</td>\n",
       "      <td>126317.921522</td>\n",
       "      <td>126120.021730</td>\n",
       "      <td>125864.080519</td>\n",
       "      <td>125581.628427</td>\n",
       "      <td>125235.747870</td>\n",
       "      <td>124861.310341</td>\n",
       "      <td>124418.774644</td>\n",
       "      <td>123950.068844</td>\n",
       "      <td>123437.668436</td>\n",
       "      <td>122885.087738</td>\n",
       "      <td>122278.617807</td>\n",
       "      <td>121635.273254</td>\n",
       "      <td>120948.922662</td>\n",
       "      <td>120269.321939</td>\n",
       "      <td>119522.332487</td>\n",
       "    </tr>\n",
       "    <tr>\n",
       "      <th>1</th>\n",
       "      <td>126626.635217</td>\n",
       "      <td>126854.791769</td>\n",
       "      <td>126988.860422</td>\n",
       "      <td>127033.268508</td>\n",
       "      <td>127005.184336</td>\n",
       "      <td>126888.854287</td>\n",
       "      <td>126693.128194</td>\n",
       "      <td>126438.403393</td>\n",
       "      <td>126156.025736</td>\n",
       "      <td>125809.042155</td>\n",
       "      <td>125432.600901</td>\n",
       "      <td>124986.966918</td>\n",
       "      <td>124514.468807</td>\n",
       "      <td>123997.556143</td>\n",
       "      <td>123439.394512</td>\n",
       "      <td>122826.281666</td>\n",
       "      <td>122175.476985</td>\n",
       "      <td>121481.242934</td>\n",
       "      <td>120793.094855</td>\n",
       "      <td>120036.986462</td>\n",
       "    </tr>\n",
       "    <tr>\n",
       "      <th>2</th>\n",
       "      <td>127167.397814</td>\n",
       "      <td>127403.592540</td>\n",
       "      <td>127544.462267</td>\n",
       "      <td>127594.387056</td>\n",
       "      <td>127570.772384</td>\n",
       "      <td>127457.654974</td>\n",
       "      <td>127264.130677</td>\n",
       "      <td>127010.644224</td>\n",
       "      <td>126728.355833</td>\n",
       "      <td>126380.279223</td>\n",
       "      <td>126001.837979</td>\n",
       "      <td>125553.104227</td>\n",
       "      <td>125076.807451</td>\n",
       "      <td>124555.372820</td>\n",
       "      <td>123991.614086</td>\n",
       "      <td>123371.837413</td>\n",
       "      <td>122713.547967</td>\n",
       "      <td>122011.403878</td>\n",
       "      <td>121314.675933</td>\n",
       "      <td>120549.416257</td>\n",
       "    </tr>\n",
       "    <tr>\n",
       "      <th>3</th>\n",
       "      <td>127705.833935</td>\n",
       "      <td>127950.117011</td>\n",
       "      <td>128097.834970</td>\n",
       "      <td>128153.318064</td>\n",
       "      <td>128134.210166</td>\n",
       "      <td>128024.338519</td>\n",
       "      <td>127833.043951</td>\n",
       "      <td>127580.817631</td>\n",
       "      <td>127298.633233</td>\n",
       "      <td>126949.473531</td>\n",
       "      <td>126569.036001</td>\n",
       "      <td>126117.200997</td>\n",
       "      <td>125637.099218</td>\n",
       "      <td>125111.132940</td>\n",
       "      <td>124541.761006</td>\n",
       "      <td>123915.299708</td>\n",
       "      <td>123249.501007</td>\n",
       "      <td>122539.420449</td>\n",
       "      <td>121834.080311</td>\n",
       "      <td>121059.637207</td>\n",
       "    </tr>\n",
       "    <tr>\n",
       "      <th>4</th>\n",
       "      <td>128242.462284</td>\n",
       "      <td>128494.968554</td>\n",
       "      <td>128649.677107</td>\n",
       "      <td>128710.767002</td>\n",
       "      <td>128696.115734</td>\n",
       "      <td>128589.457564</td>\n",
       "      <td>128400.369089</td>\n",
       "      <td>128149.396790</td>\n",
       "      <td>127867.295237</td>\n",
       "      <td>127517.099639</td>\n",
       "      <td>127134.702318</td>\n",
       "      <td>126679.797223</td>\n",
       "      <td>126195.901927</td>\n",
       "      <td>125665.412863</td>\n",
       "      <td>125090.374313</td>\n",
       "      <td>124457.197628</td>\n",
       "      <td>123783.852077</td>\n",
       "      <td>123065.789466</td>\n",
       "      <td>122351.800764</td>\n",
       "      <td>121568.107092</td>\n",
       "    </tr>\n",
       "    <tr>\n",
       "      <th>...</th>\n",
       "      <td>...</td>\n",
       "      <td>...</td>\n",
       "      <td>...</td>\n",
       "      <td>...</td>\n",
       "      <td>...</td>\n",
       "      <td>...</td>\n",
       "      <td>...</td>\n",
       "      <td>...</td>\n",
       "      <td>...</td>\n",
       "      <td>...</td>\n",
       "      <td>...</td>\n",
       "      <td>...</td>\n",
       "      <td>...</td>\n",
       "      <td>...</td>\n",
       "      <td>...</td>\n",
       "      <td>...</td>\n",
       "      <td>...</td>\n",
       "      <td>...</td>\n",
       "      <td>...</td>\n",
       "      <td>...</td>\n",
       "    </tr>\n",
       "    <tr>\n",
       "      <th>997</th>\n",
       "      <td>173105.591854</td>\n",
       "      <td>178190.418794</td>\n",
       "      <td>185855.923299</td>\n",
       "      <td>195822.242080</td>\n",
       "      <td>208575.232416</td>\n",
       "      <td>222401.603391</td>\n",
       "      <td>236295.436263</td>\n",
       "      <td>248040.427814</td>\n",
       "      <td>254053.078552</td>\n",
       "      <td>253697.292946</td>\n",
       "      <td>250757.856836</td>\n",
       "      <td>247253.316252</td>\n",
       "      <td>240056.311991</td>\n",
       "      <td>226861.109301</td>\n",
       "      <td>212019.476551</td>\n",
       "      <td>198795.471059</td>\n",
       "      <td>187256.365367</td>\n",
       "      <td>177671.833346</td>\n",
       "      <td>170538.693035</td>\n",
       "      <td>165268.524937</td>\n",
       "    </tr>\n",
       "    <tr>\n",
       "      <th>998</th>\n",
       "      <td>172988.857868</td>\n",
       "      <td>178020.446096</td>\n",
       "      <td>185640.342516</td>\n",
       "      <td>195581.700430</td>\n",
       "      <td>208331.198391</td>\n",
       "      <td>222166.932478</td>\n",
       "      <td>236087.284936</td>\n",
       "      <td>247865.838651</td>\n",
       "      <td>253894.286562</td>\n",
       "      <td>253531.577174</td>\n",
       "      <td>250585.090618</td>\n",
       "      <td>247079.101721</td>\n",
       "      <td>239871.988711</td>\n",
       "      <td>226648.608468</td>\n",
       "      <td>211786.299155</td>\n",
       "      <td>198556.150284</td>\n",
       "      <td>187024.393812</td>\n",
       "      <td>177466.478467</td>\n",
       "      <td>170374.505302</td>\n",
       "      <td>165150.748305</td>\n",
       "    </tr>\n",
       "    <tr>\n",
       "      <th>999</th>\n",
       "      <td>172872.818298</td>\n",
       "      <td>177851.041192</td>\n",
       "      <td>185425.155166</td>\n",
       "      <td>195341.416336</td>\n",
       "      <td>208087.328052</td>\n",
       "      <td>221932.354516</td>\n",
       "      <td>235879.208302</td>\n",
       "      <td>247691.346039</td>\n",
       "      <td>253735.593763</td>\n",
       "      <td>253365.939752</td>\n",
       "      <td>250412.403675</td>\n",
       "      <td>246904.965399</td>\n",
       "      <td>239687.748155</td>\n",
       "      <td>226436.186299</td>\n",
       "      <td>211553.233593</td>\n",
       "      <td>198317.006647</td>\n",
       "      <td>186792.686856</td>\n",
       "      <td>177261.527790</td>\n",
       "      <td>170210.852606</td>\n",
       "      <td>165033.625346</td>\n",
       "    </tr>\n",
       "    <tr>\n",
       "      <th>1000</th>\n",
       "      <td>172757.474241</td>\n",
       "      <td>177682.209611</td>\n",
       "      <td>185210.371113</td>\n",
       "      <td>195101.402632</td>\n",
       "      <td>207843.635850</td>\n",
       "      <td>221697.884765</td>\n",
       "      <td>235671.221069</td>\n",
       "      <td>247516.963322</td>\n",
       "      <td>253577.012959</td>\n",
       "      <td>253200.394043</td>\n",
       "      <td>250239.809656</td>\n",
       "      <td>246730.920823</td>\n",
       "      <td>239503.604011</td>\n",
       "      <td>226223.857381</td>\n",
       "      <td>211320.294551</td>\n",
       "      <td>198078.054003</td>\n",
       "      <td>186561.256686</td>\n",
       "      <td>177056.990462</td>\n",
       "      <td>170047.740348</td>\n",
       "      <td>164917.157616</td>\n",
       "    </tr>\n",
       "    <tr>\n",
       "      <th>1001</th>\n",
       "      <td>172642.826712</td>\n",
       "      <td>177513.956875</td>\n",
       "      <td>184996.000297</td>\n",
       "      <td>194861.672290</td>\n",
       "      <td>207600.136408</td>\n",
       "      <td>221463.538681</td>\n",
       "      <td>235463.338136</td>\n",
       "      <td>247342.704021</td>\n",
       "      <td>253418.557120</td>\n",
       "      <td>253034.953588</td>\n",
       "      <td>250067.322387</td>\n",
       "      <td>246556.981704</td>\n",
       "      <td>239319.570144</td>\n",
       "      <td>226011.636494</td>\n",
       "      <td>211087.496905</td>\n",
       "      <td>197839.306368</td>\n",
       "      <td>186330.115615</td>\n",
       "      <td>176852.875691</td>\n",
       "      <td>169885.173929</td>\n",
       "      <td>164801.346602</td>\n",
       "    </tr>\n",
       "  </tbody>\n",
       "</table>\n",
       "<p>1002 rows × 20 columns</p>\n",
       "</div>"
      ],
      "text/plain": [
       "            LOS_0_0        LOS_0_1        LOS_0_2        LOS_0_3  \\\n",
       "0     126083.529963  126303.698848  126431.013860  126469.947093   \n",
       "1     126626.635217  126854.791769  126988.860422  127033.268508   \n",
       "2     127167.397814  127403.592540  127544.462267  127594.387056   \n",
       "3     127705.833935  127950.117011  128097.834970  128153.318064   \n",
       "4     128242.462284  128494.968554  128649.677107  128710.767002   \n",
       "...             ...            ...            ...            ...   \n",
       "997   173105.591854  178190.418794  185855.923299  195822.242080   \n",
       "998   172988.857868  178020.446096  185640.342516  195581.700430   \n",
       "999   172872.818298  177851.041192  185425.155166  195341.416336   \n",
       "1000  172757.474241  177682.209611  185210.371113  195101.402632   \n",
       "1001  172642.826712  177513.956875  184996.000297  194861.672290   \n",
       "\n",
       "            LOS_0_4        LOS_0_5        LOS_0_6        LOS_0_7  \\\n",
       "0     126437.430911  126317.921522  126120.021730  125864.080519   \n",
       "1     127005.184336  126888.854287  126693.128194  126438.403393   \n",
       "2     127570.772384  127457.654974  127264.130677  127010.644224   \n",
       "3     128134.210166  128024.338519  127833.043951  127580.817631   \n",
       "4     128696.115734  128589.457564  128400.369089  128149.396790   \n",
       "...             ...            ...            ...            ...   \n",
       "997   208575.232416  222401.603391  236295.436263  248040.427814   \n",
       "998   208331.198391  222166.932478  236087.284936  247865.838651   \n",
       "999   208087.328052  221932.354516  235879.208302  247691.346039   \n",
       "1000  207843.635850  221697.884765  235671.221069  247516.963322   \n",
       "1001  207600.136408  221463.538681  235463.338136  247342.704021   \n",
       "\n",
       "            LOS_0_8        LOS_0_9       LOS_0_10       LOS_0_11  \\\n",
       "0     125581.628427  125235.747870  124861.310341  124418.774644   \n",
       "1     126156.025736  125809.042155  125432.600901  124986.966918   \n",
       "2     126728.355833  126380.279223  126001.837979  125553.104227   \n",
       "3     127298.633233  126949.473531  126569.036001  126117.200997   \n",
       "4     127867.295237  127517.099639  127134.702318  126679.797223   \n",
       "...             ...            ...            ...            ...   \n",
       "997   254053.078552  253697.292946  250757.856836  247253.316252   \n",
       "998   253894.286562  253531.577174  250585.090618  247079.101721   \n",
       "999   253735.593763  253365.939752  250412.403675  246904.965399   \n",
       "1000  253577.012959  253200.394043  250239.809656  246730.920823   \n",
       "1001  253418.557120  253034.953588  250067.322387  246556.981704   \n",
       "\n",
       "           LOS_0_12       LOS_0_13       LOS_0_14       LOS_0_15  \\\n",
       "0     123950.068844  123437.668436  122885.087738  122278.617807   \n",
       "1     124514.468807  123997.556143  123439.394512  122826.281666   \n",
       "2     125076.807451  124555.372820  123991.614086  123371.837413   \n",
       "3     125637.099218  125111.132940  124541.761006  123915.299708   \n",
       "4     126195.901927  125665.412863  125090.374313  124457.197628   \n",
       "...             ...            ...            ...            ...   \n",
       "997   240056.311991  226861.109301  212019.476551  198795.471059   \n",
       "998   239871.988711  226648.608468  211786.299155  198556.150284   \n",
       "999   239687.748155  226436.186299  211553.233593  198317.006647   \n",
       "1000  239503.604011  226223.857381  211320.294551  198078.054003   \n",
       "1001  239319.570144  226011.636494  211087.496905  197839.306368   \n",
       "\n",
       "           LOS_0_16       LOS_0_17       LOS_0_18       LOS_0_19  \n",
       "0     121635.273254  120948.922662  120269.321939  119522.332487  \n",
       "1     122175.476985  121481.242934  120793.094855  120036.986462  \n",
       "2     122713.547967  122011.403878  121314.675933  120549.416257  \n",
       "3     123249.501007  122539.420449  121834.080311  121059.637207  \n",
       "4     123783.852077  123065.789466  122351.800764  121568.107092  \n",
       "...             ...            ...            ...            ...  \n",
       "997   187256.365367  177671.833346  170538.693035  165268.524937  \n",
       "998   187024.393812  177466.478467  170374.505302  165150.748305  \n",
       "999   186792.686856  177261.527790  170210.852606  165033.625346  \n",
       "1000  186561.256686  177056.990462  170047.740348  164917.157616  \n",
       "1001  186330.115615  176852.875691  169885.173929  164801.346602  \n",
       "\n",
       "[1002 rows x 20 columns]"
      ]
     },
     "execution_count": 2,
     "metadata": {},
     "output_type": "execute_result"
    }
   ],
   "source": [
    "sensor_df = pd.read_csv(\n",
    "    \"LOS_demo_data.csv\"\n",
    ")\n",
    "sensor_df"
   ]
  },
  {
   "cell_type": "markdown",
   "metadata": {},
   "source": [
    "Let's define the standard deviation of our sensor measurements to be 5% of the median measurement. When optimising real-world sensors, consult each candidate sensor's datasheet for its precision or uncertainty."
   ]
  },
  {
   "cell_type": "code",
   "execution_count": 3,
   "metadata": {},
   "outputs": [
    {
     "data": {
      "text/plain": [
       "11771.072769960936"
      ]
     },
     "execution_count": 3,
     "metadata": {},
     "output_type": "execute_result"
    }
   ],
   "source": [
    "sigma = float(0.05 * np.median(sensor_df.values))\n",
    "sigma"
   ]
  },
  {
   "cell_type": "markdown",
   "metadata": {},
   "source": [
    "### 3. Setup the designer\n",
    "\n",
    "To access this cloud tool, your registered email is required. If you have not been registered speak to a member of the team for assistance."
   ]
  },
  {
   "cell_type": "code",
   "execution_count": 4,
   "metadata": {},
   "outputs": [],
   "source": [
    "email = \"ethan@digilab.ai\"  # ENTER YOUR EMAIL HERE\n",
    "designer = Designer(email=email, observables=sensor_df, sigma=sigma)"
   ]
  },
  {
   "cell_type": "markdown",
   "metadata": {},
   "source": [
    "### 4. Get suggested sensor designs\n",
    "\n",
    "Define the number of sensors you wish to place and how many different sensor sets you wish to evaluate. Using a genetic algorithm, sensor sets are intelligently selected for evaluation.\n",
    "\n",
    "The top 5 of the evaluated sensor sets is returned for examination.\n",
    "\n",
    "Let's suggest some 3-sensor sets after evaluating 100 different sets.<br/><br/>\n",
    "(This should take approximately 4 minutes)"
   ]
  },
  {
   "cell_type": "code",
   "execution_count": 5,
   "metadata": {},
   "outputs": [
    {
     "data": {
      "text/plain": [
       "{('LOS_0_1', 'LOS_0_9', 'LOS_0_10'): {'mean_score': 1.748167793688342,\n",
       "  'score_var': 0},\n",
       " ('LOS_0_0', 'LOS_0_9', 'LOS_0_13'): {'mean_score': 1.7435128487923013,\n",
       "  'score_var': 0.0006981698877032525},\n",
       " ('LOS_0_0', 'LOS_0_8', 'LOS_0_15'): {'mean_score': 1.7377147015999606,\n",
       "  'score_var': 0},\n",
       " ('LOS_0_2', 'LOS_0_8', 'LOS_0_10'): {'mean_score': 1.7333821369824836,\n",
       "  'score_var': 0},\n",
       " ('LOS_0_1', 'LOS_0_8', 'LOS_0_14'): {'mean_score': 1.7300884740556164,\n",
       "  'score_var': 0.001318775327078451}}"
      ]
     },
     "execution_count": 5,
     "metadata": {},
     "output_type": "execute_result"
    }
   ],
   "source": [
    "suggestions = designer.suggest(num_sensors=3, num_eval=100)\n",
    "suggestions"
   ]
  },
  {
   "cell_type": "markdown",
   "metadata": {},
   "source": [
    "### 5. Examine suggested designs\n",
    "\n",
    "Instead of just recommending the 'best' sensor set, we empower you with the insights and tools to make an informed decision yourself.\n",
    "\n",
    "Let's begin by <strong>visualising the suggested sensor sets</strong> to build intuition about the features that contribute to higher information gain."
   ]
  },
  {
   "cell_type": "code",
   "execution_count": 6,
   "metadata": {},
   "outputs": [],
   "source": [
    "# Line of sight visualisation code here"
   ]
  },
  {
   "cell_type": "markdown",
   "metadata": {},
   "source": [
    "Next let's <strong>visualise the distribution of Expected Information Gain (EIG) scores</strong> of the evaluated sensor sets, providing valuable insights for decision-making:\n",
    "\n",
    "<ol>\n",
    "    <li><strong>Cluster Identification:</strong> Identify clusters of high-performing sets for further examination</li>\n",
    "    <li><strong>Distribution Width:</strong> A narrow distribution suggests flexibility, while a broad one signals the need for careful placement.</li>\n",
    "    <li><strong>Decision Confidence:</strong> Gain confidence in the robustness of a chosen sensor set based on its position relative to other evaluated sets.</li>\n",
    "</ol>"
   ]
  },
  {
   "cell_type": "code",
   "execution_count": 7,
   "metadata": {},
   "outputs": [
    {
     "data": {
      "image/png": "[encoded data removed]",
      "text/plain": [
       "<Figure size 640x480 with 1 Axes>"
      ]
     },
     "metadata": {},
     "output_type": "display_data"
    }
   ],
   "source": [
    "designer.visualise_score_distribution()"
   ]
  },
  {
   "cell_type": "markdown",
   "metadata": {},
   "source": [
    "Now let's perform some <strong>redundancy analysis</strong> on the suggested designs. This helps:\n",
    "\n",
    "<ol>\n",
    "    <li><strong>Resilience Assessment:</strong> Determine how resilient a sensor set is to failure. If performance drops significantly when a sensor is removed, the system is less robust.</li>\n",
    "    <li><strong>Failure Tolerance:</strong> Allows you to assess which set can better tolerate individual sensor failures.</li>\n",
    "    <li><strong>Critical Sensor Identification:</strong> Identify the most critical sensors, helping prioritize maintenance or redundancy planning.</li>\n",
    "</ol>"
   ]
  },
  {
   "cell_type": "code",
   "execution_count": 8,
   "metadata": {},
   "outputs": [
    {
     "data": {
      "image/png": "[encoded data removed]",
      "text/plain": [
       "<Figure size 1000x1000 with 1 Axes>"
      ]
     },
     "metadata": {},
     "output_type": "display_data"
    }
   ],
   "source": [
    "designer.redundancy_analysis([list(s) for s in suggestions.keys()], num_iter=3)"
   ]
  },
  {
   "cell_type": "markdown",
   "metadata": {},
   "source": [
    "# Training Grounds\n",
    "\n",
    "Don't treat the code below as finished or polished, it is in training and will be in the big leagues soon"
   ]
  },
  {
   "cell_type": "code",
   "execution_count": 9,
   "metadata": {},
   "outputs": [
    {
     "data": {
      "application/vnd.jupyter.widget-view+json": {
       "model_id": "d975798e71684c55801a5d70c0b3afd4",
       "version_major": 2,
       "version_minor": 0
      },
      "text/plain": [
       "interactive(children=(RadioButtons(description='Select Line:', layout=Layout(width='max-content'), options=('L…"
      ]
     },
     "metadata": {},
     "output_type": "display_data"
    },
    {
     "data": {
      "text/plain": [
       "<function __main__.plot_line(selected_line)>"
      ]
     },
     "execution_count": 9,
     "metadata": {},
     "output_type": "execute_result"
    }
   ],
   "source": [
    "import numpy as np\n",
    "import matplotlib.pyplot as plt\n",
    "from ipywidgets import interact, RadioButtons, SelectMultiple\n",
    "\n",
    "# Sample data: Different line equations\n",
    "x = np.linspace(0, 10, 100)\n",
    "lines = {\n",
    "    \"Line 1: y = x\": x,\n",
    "    \"Line 2: y = x^2\": x**2,\n",
    "    \"Line 3: y = sin(x)\": np.sin(x),\n",
    "    \"Line 4: y = cos(x)\": np.cos(x)\n",
    "}\n",
    "\n",
    "selected_line_variable = {\"value\": None}\n",
    "\n",
    "# Function to update plot based on selection\n",
    "def plot_line(selected_line):\n",
    "    plt.figure(figsize=(8, 6))\n",
    "    y = lines[selected_line]\n",
    "    plt.plot(x, y, label=selected_line, linewidth=2, color='blue')\n",
    "    plt.title(f\"Plot of {selected_line}\", fontsize=16)\n",
    "    plt.xlabel(\"x\", fontsize=14)\n",
    "    plt.ylabel(\"y\", fontsize=14)\n",
    "    plt.legend()\n",
    "    plt.grid(True)\n",
    "    plt.show()\n",
    "\n",
    "    selected_line_variable[\"value\"] = selected_line\n",
    "\n",
    "# Create a radio button widget\n",
    "radio_buttons = RadioButtons(\n",
    "    options=list(lines.keys()),\n",
    "    description=\"Select Line:\",\n",
    "    layout={'width': 'max-content'}  # Make the label larger\n",
    ")\n",
    "\n",
    "# Use the interact function to link the widget with the plot\n",
    "interact(plot_line, selected_line=radio_buttons)"
   ]
  },
  {
   "cell_type": "code",
   "execution_count": 10,
   "metadata": {},
   "outputs": [
    {
     "data": {
      "text/plain": [
       "{'value': 'Line 1: y = x'}"
      ]
     },
     "execution_count": 10,
     "metadata": {},
     "output_type": "execute_result"
    }
   ],
   "source": [
    "selected_line_variable"
   ]
  },
  {
   "cell_type": "code",
   "execution_count": 11,
   "metadata": {},
   "outputs": [
    {
     "data": {
      "application/vnd.jupyter.widget-view+json": {
       "model_id": "1a7d3d772b9548a7b19f1f4addb2717d",
       "version_major": 2,
       "version_minor": 0
      },
      "text/plain": [
       "interactive(children=(SelectMultiple(description='Select Lines:', index=(0, 1, 2), options=('Line 1: y = tan(x…"
      ]
     },
     "metadata": {},
     "output_type": "display_data"
    },
    {
     "data": {
      "text/plain": [
       "<function __main__.plot_multiple_lines(selected_lines)>"
      ]
     },
     "execution_count": 11,
     "metadata": {},
     "output_type": "execute_result"
    }
   ],
   "source": [
    "import numpy as np\n",
    "import matplotlib.pyplot as plt\n",
    "from ipywidgets import interact, SelectMultiple\n",
    "\n",
    "# Sample data: Different line equations\n",
    "x = np.linspace(0, 10, 100)\n",
    "lines = {\n",
    "    \"Line 1: y = tan(x) / 10\": np.tan(x) / 10,\n",
    "    \"Line 2: y = sin(x)\": np.sin(x) / 1.1,\n",
    "    \"Line 3: y = cos(x)\": np.cos(x) / 1.1,\n",
    "    \"Line 4: y = tan(x) / 10\": np.tan(x) / 10.1,\n",
    "    \"Line 5: y = sin(x)\": np.sin(x) / 1.25,\n",
    "    \"Line 6: y = cos(x)\": np.cos(x) / 1.25,\n",
    "    \"Line 7: y = tan(x) / 10\": np.tan(x) / 10.25,\n",
    "    \"Line 8: y = sin(x)\": np.sin(x) / 0.9,\n",
    "    \"Line 9: y = cos(x)\": np.cos(x) / 0.9,\n",
    "    \"Line 10: y = tan(x) / 10\": np.tan(x) / 9.9,\n",
    "    \"Line 11: y = sin(x)\": np.sin(x) / 0.8,\n",
    "    \"Line 12: y = cos(x)\": np.cos(x) / 0.8,\n",
    "    \"Line 13: y = tan(x) / 10\": np.tan(x) / 9.8,\n",
    "    \"Line 14: y = sin(x)\": np.sin(x) / 0.7,\n",
    "    \"Line 15: y = cos(x)\": np.cos(x) / 0.7,\n",
    "    \"Line 16: y = tan(x) / 10\": np.tan(x) / 9.3,\n",
    "    \"Line 17: y = sin(x)\": np.sin(x+0.33) ,\n",
    "    \"Line 18: y = cos(x)\": np.cos(x+0.33),\n",
    "    \"Line 19: y = tan(x) / 10\": np.tan(x+0.33) / 10,\n",
    "    \"Line 20: y = sin(x)\": np.sin(x-0.492),\n",
    "}\n",
    "\n",
    "# Function to update the plot based on multiple selections\n",
    "def plot_multiple_lines(selected_lines):\n",
    "    if not selected_lines:\n",
    "        print(\"No lines selected\")\n",
    "        return\n",
    "    \n",
    "    plt.figure(figsize=(6, 3))\n",
    "    \n",
    "    for line in selected_lines:\n",
    "        y = lines[line]\n",
    "        plt.plot(x, y, label=line, linewidth=2)\n",
    "    \n",
    "    plt.title(\"Plot of Selected Lines\", fontsize=16)\n",
    "    plt.xlabel(\"x\", fontsize=14)\n",
    "    plt.ylabel(\"y\", fontsize=14)\n",
    "    plt.legend()\n",
    "    plt.grid(True)\n",
    "    plt.show()\n",
    "    \n",
    "    # Print currently selected lines\n",
    "    print(f\"Currently selected: {', '.join(selected_lines)}\")\n",
    "\n",
    "# Create a SelectMultiple widget for multiple selection\n",
    "multi_select = SelectMultiple(\n",
    "    options=list(lines.keys()),\n",
    "    description=\"Select Lines:\",\n",
    "    # layout={'width': 'max-content', \"height\": f\"{17*20}px\"}, \n",
    "    rows=len(list(lines.keys())),\n",
    "    value=list(lines.keys())[0:3],\n",
    ")\n",
    "\n",
    "# Use the interact function to link the widget with the plot function\n",
    "interact(plot_multiple_lines, selected_lines=multi_select)\n"
   ]
  }
 ],
 "metadata": {
  "kernelspec": {
   "display_name": ".venv",
   "language": "python",
   "name": "python3"
  },
  "language_info": {
   "codemirror_mode": {
    "name": "ipython",
    "version": 3
   },
   "file_extension": ".py",
   "mimetype": "text/x-python",
   "name": "python",
   "nbconvert_exporter": "python",
   "pygments_lexer": "ipython3",
   "version": "3.12.7"
  }
 },
 "nbformat": 4,
 "nbformat_minor": 2
}

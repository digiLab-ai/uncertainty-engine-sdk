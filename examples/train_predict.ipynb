{
 "cells": [
  {
   "cell_type": "markdown",
   "id": "c6392db1",
   "metadata": {},
   "source": [
    "# Uncertainty Engine SDK example workflows - train & predict\n",
    "\n",
    "This notebook goes through how you would set up a workflow to train and save a machine-learning model in the Uncertainty Engine, and then make some predictions with that saved model. If you haven't yet viewed [`node.ipynb`](./node.ipynb) or [`workflow.ipynb`](./workflow.ipynb) then take a look at them first as they take you through the basics of using nodes and  creating workflows in the Uncertainty Engine."
   ]
  },
  {
   "cell_type": "markdown",
   "id": "37a334f5",
   "metadata": {},
   "source": [
    "Start by importing and initialising the `Client` (for more details about the client see the [`node.ipynb`](./node.ipynb) example). "
   ]
  },
  {
   "cell_type": "code",
   "execution_count": 1,
   "id": "dcf999f5",
   "metadata": {},
   "outputs": [],
   "source": [
    "from uncertainty_engine import Client\n",
    "\n",
    "client = Client()\n",
    "client.authenticate()"
   ]
  },
  {
   "cell_type": "markdown",
   "id": "0465b463",
   "metadata": {},
   "source": [
    "## Part 1: Building and running a **train** workflow"
   ]
  },
  {
   "cell_type": "markdown",
   "id": "a6dd74d8",
   "metadata": {},
   "source": [
    "### Viewing the nodes"
   ]
  },
  {
   "cell_type": "markdown",
   "id": "ef237c09",
   "metadata": {},
   "source": [
    "Once you have initialised the Uncertainty Engine client you can use the `list_nodes` method to find your node information. Fields such as the `description`, `inputs` and `outputs` are particularly useful for building your workflow."
   ]
  },
  {
   "cell_type": "code",
   "execution_count": 2,
   "id": "d608d0c8",
   "metadata": {},
   "outputs": [
    {
     "name": "stdout",
     "output_type": "stream",
     "text": [
      "{'cache_url': 'redis-13325.c338.eu-west-2-1.ec2.redns.redis-cloud.com',\n",
      " 'category': 'MachineLearningModels',\n",
      " 'cost': 5,\n",
      " 'description': 'Train a machine-learning model',\n",
      " 'id': 'TrainModel',\n",
      " 'image_name': 'uncertainty-engine-train-model-node',\n",
      " 'inputs': {'config': {'default': None,\n",
      "                       'description': 'Configuration for the model',\n",
      "                       'label': 'Model Config',\n",
      "                       'required': True,\n",
      "                       'set_in_node': False,\n",
      "                       'type': 'ModelConfig'},\n",
      "            'inputs': {'default': None,\n",
      "                       'description': 'Input dataset for training the model',\n",
      "                       'label': 'Input Dataset',\n",
      "                       'required': True,\n",
      "                       'set_in_node': False,\n",
      "                       'type': 'CSVDataset'},\n",
      "            'outputs': {'default': None,\n",
      "                        'description': 'Output dataset for training the model',\n",
      "                        'label': 'Output Dataset',\n",
      "                        'required': True,\n",
      "                        'set_in_node': False,\n",
      "                        'type': 'CSVDataset'}},\n",
      " 'label': 'Train Model',\n",
      " 'load_balancer_url': None,\n",
      " 'long_description': 'Trains a Gaussian Process model on the input data.',\n",
      " 'outputs': {'model': {'description': 'A trained machine-learning model',\n",
      "                       'label': 'Machine Learning Model',\n",
      "                       'type': 'MachineLearningModel'}},\n",
      " 'queue_url': 'https://sqs.eu-west-2.amazonaws.com/939027885851/prod-uncertainty-engine-train-mod-uncertaintyenginetrainmodelnodeQu-1D0RGFSj23ve',\n",
      " 'requirements': {'cpu': 8192, 'gpu': False, 'memory': 16384, 'timeout': 1200},\n",
      " 'service_arn': 'arn:aws:ecs:eu-west-2:939027885851:service/ue_prod/uncertainty-engine-train-model-node',\n",
      " 'version_base_image': 2,\n",
      " 'version_node': 1,\n",
      " 'version_types_lib': '0.9.0'}\n"
     ]
    }
   ],
   "source": [
    "from pprint import pprint\n",
    "\n",
    "# Print the details of the `TrainModel` node\n",
    "pprint(client.get_node_info(\"TrainModel\").model_dump())"
   ]
  },
  {
   "cell_type": "markdown",
   "id": "097715e6",
   "metadata": {},
   "source": [
    "Now we know that the `TrainModel` node needs the following inputs:\n",
    "- **Input Dataset:** Train input data\n",
    "- **Output Dataset:** Target output data\n",
    "- **Model Config:** A model config node specifying the parameters we wish to use for training"
   ]
  },
  {
   "cell_type": "markdown",
   "id": "e50c866f",
   "metadata": {},
   "source": [
    "### Creating our train and test data"
   ]
  },
  {
   "cell_type": "markdown",
   "id": "3fb25a47",
   "metadata": {},
   "source": [
    "In this example we will use some synthetic data to demonstrate training a machine learning model. \n",
    "\n",
    "In the cell below we define our \"ground truth\" target function (the Forrester function) and then generate some input samples for which we can evaluate our target function to produce training and test datasets."
   ]
  },
  {
   "cell_type": "code",
   "execution_count": 3,
   "id": "73e715ca",
   "metadata": {},
   "outputs": [],
   "source": [
    "import numpy as np\n",
    "import pandas as pd\n",
    "\n",
    "# Set random seed for reproducibility and assign number of rows\n",
    "np.random.seed(42)\n",
    "n_rows = 10\n",
    "\n",
    "# Target function: forrester function\n",
    "def f(x, a=6, b=12):\n",
    "    return -((a * x - 2) ** 2) * np.sin(b * x - 4)\n",
    "\n",
    "# Generate synthetic data to train on\n",
    "X_train = np.random.uniform(0, 1, size=n_rows) # 10 randomly sampled points\n",
    "y_train = f(X_train) # Place those points into the target function\n",
    "train_df = pd.DataFrame({\n",
    "    'x': X_train,\n",
    "    'y': y_train\n",
    "})\n",
    "\n",
    "# Generate \"truth\" data for testing\n",
    "X_test = np.linspace(0, 1, 100)\n",
    "y_test = f(X_test)\n",
    "test_df = pd.DataFrame({\"x\": X_test, \"y\": y_test})"
   ]
  },
  {
   "cell_type": "markdown",
   "id": "c91af96b",
   "metadata": {},
   "source": [
    "### Saving and uploading training and test data\n",
    "\n",
    "To use the synthetic data generated above within workflows created in the Uncertainty Engine we need to upload it.\n",
    "\n",
    "To do this we'll first save the data as a set of CSV files."
   ]
  },
  {
   "cell_type": "code",
   "execution_count": 4,
   "id": "d120279c",
   "metadata": {},
   "outputs": [],
   "source": [
    "# Convert dataframes to CSV strings\n",
    "x_csv = train_df[[\"x\"]].to_csv(index=False)\n",
    "y_csv = train_df[[\"y\"]].to_csv(index=False)\n",
    "x_test_csv = test_df[[\"x\"]].to_csv(index=False)\n",
    "\n",
    "# Save CSV strings to files\n",
    "for filename, data in zip(\n",
    "    [\"x_train.csv\", \"y_train.csv\", \"x_test.csv\"], [x_csv, y_csv, x_test_csv]\n",
    "):\n",
    "    with open(filename, \"w\") as f:\n",
    "        f.write(data)"
   ]
  },
  {
   "cell_type": "markdown",
   "id": "d7c84d67",
   "metadata": {},
   "source": [
    "We'll next specify the Uncertainty Engine project that the data will be uploaded into. This notebook will work under the assumption that a user still has the \"Personal\" project that all new Uncertainty Engine accounts are created with."
   ]
  },
  {
   "cell_type": "code",
   "execution_count": 5,
   "id": "3620fa3d",
   "metadata": {},
   "outputs": [],
   "source": [
    "# List all available projects\n",
    "projects = client.projects.list_projects()\n",
    "\n",
    "# Find the project named \"Personal\"\n",
    "personal_project = next(p for p in projects if p.name == \"Personal\")"
   ]
  },
  {
   "cell_type": "markdown",
   "id": "190a8ff1",
   "metadata": {},
   "source": [
    "We'll now upload the datasets we have created into the \"Personal\" project."
   ]
  },
  {
   "cell_type": "code",
   "execution_count": 6,
   "id": "7fa9a1aa",
   "metadata": {},
   "outputs": [
    {
     "name": "stdout",
     "output_type": "stream",
     "text": [
      "Uploaded x_train.csv as resource 'my-x-dataset'\n",
      "Uploaded y_train.csv as resource 'my-y-dataset'\n",
      "Uploaded x_test.csv as resource 'my-x-test-dataset'\n"
     ]
    }
   ],
   "source": [
    "# Define an empty dictionary to hold resource IDs\n",
    "resource_ids: dict[str,str] = dict()\n",
    "\n",
    "# Upload datasets and store their resource IDs\n",
    "for resource_name, file_path in zip(\n",
    "    [\"my-x-dataset\", \"my-y-dataset\", \"my-x-test-dataset\"],\n",
    "    [\"x_train.csv\", \"y_train.csv\", \"x_test.csv\"],\n",
    "):\n",
    "    resource_id = client.resources.upload(\n",
    "        project_id=personal_project.id,\n",
    "        name=resource_name,\n",
    "        file_path=file_path,\n",
    "        resource_type=\"dataset\",\n",
    "    )\n",
    "    resource_ids[resource_name] = resource_id\n",
    "    print(f\"Uploaded {file_path} as resource '{resource_name}'\")"
   ]
  },
  {
   "cell_type": "markdown",
   "id": "021ff199",
   "metadata": {},
   "source": [
    "### Configuring our model"
   ]
  },
  {
   "cell_type": "markdown",
   "id": "66e09f2a",
   "metadata": {},
   "source": [
    "Above we saw that one of the required inputs of the `TrainModel` node is a `ModelConfig`. To define this `ModelConfig` we need a `ModelConfig` node. Like for the `TrainModel` node we can examine the inputs and outputs of the `ModelConfig` node."
   ]
  },
  {
   "cell_type": "code",
   "execution_count": 7,
   "id": "d5bbba59",
   "metadata": {},
   "outputs": [
    {
     "name": "stdout",
     "output_type": "stream",
     "text": [
      "{'cache_url': 'redis-13325.c338.eu-west-2-1.ec2.redns.redis-cloud.com',\n",
      " 'category': 'MachineLearningModels',\n",
      " 'cost': 1,\n",
      " 'description': 'Config for a machine learning model',\n",
      " 'id': 'ModelConfig',\n",
      " 'image_name': 'uncertainty-engine-model-config-node',\n",
      " 'inputs': {'input_retained_dimensions': {'default': None,\n",
      "                                          'description': 'Number of dimensions '\n",
      "                                                         'to retain in the '\n",
      "                                                         'input data',\n",
      "                                          'label': 'Input Retained Dimensions',\n",
      "                                          'required': False,\n",
      "                                          'set_in_node': True,\n",
      "                                          'type': 'int'},\n",
      "            'input_variance': {'default': None,\n",
      "                               'description': 'Percentage of variance to '\n",
      "                                              'retain in the input data',\n",
      "                               'label': 'Input Variance',\n",
      "                               'required': False,\n",
      "                               'set_in_node': True,\n",
      "                               'type': 'float'},\n",
      "            'kernel': {'default': None,\n",
      "                       'description': 'Type of kernel to use for the model',\n",
      "                       'label': 'Kernel',\n",
      "                       'required': False,\n",
      "                       'set_in_node': True,\n",
      "                       'type': 'Optional[str]'},\n",
      "            'model_type': {'default': 'SingleTaskGPTorch',\n",
      "                           'description': 'Type of model to use',\n",
      "                           'label': 'Model Type',\n",
      "                           'required': False,\n",
      "                           'set_in_node': True,\n",
      "                           'type': 'Literal[\"BernoulliClassificationGPTorch\", '\n",
      "                                   '\"SingleTaskGPTorch\", '\n",
      "                                   '\"SingleTaskVariationalGPTorch\"]'},\n",
      "            'output_retained_dimensions': {'default': None,\n",
      "                                           'description': 'Number of '\n",
      "                                                          'dimensions to '\n",
      "                                                          'retain in the '\n",
      "                                                          'output data',\n",
      "                                           'label': 'Output Retained '\n",
      "                                                    'Dimensions',\n",
      "                                           'required': False,\n",
      "                                           'set_in_node': True,\n",
      "                                           'type': 'int'},\n",
      "            'output_variance': {'default': None,\n",
      "                                'description': 'Percentage of variance to '\n",
      "                                               'retain in the output data',\n",
      "                                'label': 'Output Variance',\n",
      "                                'required': False,\n",
      "                                'set_in_node': True,\n",
      "                                'type': 'float'},\n",
      "            'seed': {'default': None,\n",
      "                     'description': 'Seed for  reproducible training',\n",
      "                     'label': 'Seed',\n",
      "                     'required': False,\n",
      "                     'set_in_node': True,\n",
      "                     'type': 'Optional[int]'},\n",
      "            'warp_inputs': {'default': False,\n",
      "                            'description': 'Whether to warp the inputs for the '\n",
      "                                           'model',\n",
      "                            'label': 'Warp Inputs',\n",
      "                            'required': False,\n",
      "                            'set_in_node': True,\n",
      "                            'type': 'bool'}},\n",
      " 'label': 'Model Config',\n",
      " 'load_balancer_url': None,\n",
      " 'long_description': 'Config for a machine learning model',\n",
      " 'outputs': {'config': {'description': 'A model config object',\n",
      "                        'label': 'Model Config',\n",
      "                        'type': 'ModelConfig'}},\n",
      " 'queue_url': 'https://sqs.eu-west-2.amazonaws.com/939027885851/prod-uncertainty-engine-model-con-uncertaintyenginemodelconfignodeQ-GUJsRzjQakHD',\n",
      " 'requirements': {'cpu': 256, 'gpu': False, 'memory': 512, 'timeout': 15},\n",
      " 'service_arn': 'arn:aws:ecs:eu-west-2:939027885851:service/ue_prod/uncertainty-engine-model-config-node',\n",
      " 'version_base_image': 2,\n",
      " 'version_node': 0,\n",
      " 'version_types_lib': '0.9.0'}\n"
     ]
    }
   ],
   "source": [
    "pprint(client.get_node_info(\"ModelConfig\").model_dump())"
   ]
  },
  {
   "cell_type": "markdown",
   "id": "487c4eee",
   "metadata": {},
   "source": [
    "The `ModelConfig` node accepts several optional parameters that control model training. However, as none of the inputs are required we can just use the default input parameters for now. This will configure our model as a `SingleTaskGP` which is ideal for our regression task."
   ]
  },
  {
   "cell_type": "markdown",
   "id": "f6222548",
   "metadata": {},
   "source": [
    "### Constructing a workflow"
   ]
  },
  {
   "cell_type": "markdown",
   "id": "0d73c79a",
   "metadata": {},
   "source": [
    "First, import and initialise the `Graph` class.\n"
   ]
  },
  {
   "cell_type": "code",
   "execution_count": 8,
   "id": "88f36888",
   "metadata": {},
   "outputs": [],
   "source": [
    "from uncertainty_engine.graph import Graph\n",
    "\n",
    "# Create a new graph\n",
    "train_graph = Graph()"
   ]
  },
  {
   "cell_type": "markdown",
   "id": "1e5031d3",
   "metadata": {},
   "source": [
    "Next, we instantiate and add to our graph a `Node` object to act as our `ModelConfig` node. As discussed above we will just use the default configuration. See [`node.ipynb`](./node.ipynb) if you have node yet created a node in the SDK."
   ]
  },
  {
   "cell_type": "code",
   "execution_count": 9,
   "id": "ab0a91c4",
   "metadata": {},
   "outputs": [],
   "source": [
    "from uncertainty_engine.nodes.base import Node\n",
    "\n",
    "# Define the model config node\n",
    "model_config = Node(\n",
    "    node_name=\"ModelConfig\",\n",
    "    label=\"Model Config\",\n",
    ")\n",
    "\n",
    "# Add node to the graph and connect it to the train node\n",
    "train_graph.add_node(model_config)"
   ]
  },
  {
   "cell_type": "markdown",
   "id": "267288e8",
   "metadata": {},
   "source": [
    "Now, we instantiate, and add to our graph, nodes to load the training datasets."
   ]
  },
  {
   "cell_type": "code",
   "execution_count": 10,
   "id": "4cbec887",
   "metadata": {},
   "outputs": [],
   "source": [
    "from uncertainty_engine.nodes.resource_management import LoadDataset\n",
    "\n",
    "# Create a LoadDataset node for the x training data\n",
    "x = LoadDataset(\n",
    "  label=\"LoadDatasetX\", # the node's label (needs to be unique in the graph)\n",
    "  project_id = personal_project.id, # the project id\n",
    "  file_id = resource_ids[\"my-x-dataset\"], # the resource id of the file you want to load\n",
    ")\n",
    "# Create a LoadDataset node for the y training data\n",
    "y = LoadDataset(\n",
    "  label=\"LoadDatasetY\", # the node's label (needs to be unique in the graph)\n",
    "  project_id = personal_project.id, # the project id\n",
    "  file_id = resource_ids[\"my-y-dataset\"], # the resource id of the file you want to load\n",
    ")\n",
    "\n",
    "train_graph.add_node(x)\n",
    "train_graph.add_node(y)"
   ]
  },
  {
   "cell_type": "markdown",
   "id": "413b03fb",
   "metadata": {},
   "source": [
    "With nodes for configuring our model and loading our data added to the graph we can now add a `TrainModel` node to train our GP."
   ]
  },
  {
   "cell_type": "code",
   "execution_count": 11,
   "id": "121e03a6",
   "metadata": {},
   "outputs": [],
   "source": [
    "# Create handles for the configuration and loaded dataset files\n",
    "output_config = model_config.make_handle(\"config\")\n",
    "x_handle = x.make_handle(\"file\")\n",
    "y_handle = y.make_handle(\"file\")\n",
    "\n",
    "# Create the TrainModel node\n",
    "train_model = Node(\n",
    "    node_name=\"TrainModel\",\n",
    "    label=\"Train Model\",\n",
    "    config=output_config,\n",
    "    inputs=x_handle,\n",
    "    outputs=y_handle,\n",
    ")\n",
    "\n",
    "# Add the node to the graph\n",
    "train_graph.add_node(train_model)"
   ]
  },
  {
   "cell_type": "markdown",
   "id": "80ebbff8",
   "metadata": {},
   "source": [
    "To allow us to use our trained model in subsequent workflows we will finally add a `Save` node to our workflow that will save our trained model."
   ]
  },
  {
   "cell_type": "code",
   "execution_count": 12,
   "id": "6ee19241",
   "metadata": {},
   "outputs": [],
   "source": [
    "from uncertainty_engine.nodes.resource_management import Save\n",
    "\n",
    "save_model = Save(\n",
    "    label=\"SaveModel\",\n",
    "    data=train_model.make_handle(\"model\"),\n",
    "    project_id=personal_project.id,\n",
    "    file_name=\"my-machine-learning-model\",\n",
    ")\n",
    "\n",
    "train_graph.add_node(save_model)"
   ]
  },
  {
   "cell_type": "markdown",
   "id": "575839d0",
   "metadata": {},
   "source": [
    "### Executing a workflow"
   ]
  },
  {
   "cell_type": "markdown",
   "id": "1fc75f1e",
   "metadata": {},
   "source": [
    "Create the executable workflow by wrapping our graph in the `Workflow` node."
   ]
  },
  {
   "cell_type": "code",
   "execution_count": 13,
   "id": "8776c585",
   "metadata": {},
   "outputs": [],
   "source": [
    "from uncertainty_engine.nodes.workflow import Workflow\n",
    "\n",
    "# Wrap the graph in a workflow node\n",
    "train_workflow = Workflow(\n",
    "    graph=train_graph.nodes,\n",
    "    inputs=train_graph.external_input,\n",
    "    external_input_id=train_graph.external_input_id,\n",
    "    )"
   ]
  },
  {
   "cell_type": "markdown",
   "id": "249edb3b",
   "metadata": {},
   "source": [
    "Now, we can execute the workflow with the `run_node()` method. This may take a minute for training."
   ]
  },
  {
   "cell_type": "code",
   "execution_count": 14,
   "id": "d560a205",
   "metadata": {},
   "outputs": [],
   "source": [
    "train_response = client.run_node(train_workflow)\n",
    "assert train_response.status.value == \"completed\"  # Ensure the workflow completed successfully"
   ]
  },
  {
   "cell_type": "markdown",
   "id": "d7c0a453",
   "metadata": {},
   "source": [
    "To see the model we have just trained in our Engine resources we can list all of our models."
   ]
  },
  {
   "cell_type": "code",
   "execution_count": 15,
   "id": "097cf8a8",
   "metadata": {},
   "outputs": [
    {
     "name": "stdout",
     "output_type": "stream",
     "text": [
      "Model saved with resource ID: 68ed70e1d39c3b992766e9d1\n"
     ]
    }
   ],
   "source": [
    "for model in client.resources.list_resources(project_id=personal_project.id, resource_type=\"model\"):\n",
    "    if model.name == \"my-machine-learning-model\":\n",
    "        print(f\"Model saved with resource ID: {model.id}\")\n",
    "        break  # Stop after finding the first match. We can use the model ID for future reference"
   ]
  },
  {
   "cell_type": "markdown",
   "id": "7c3288b4",
   "metadata": {},
   "source": [
    "## Part 2: Building and running a **predict** workflow"
   ]
  },
  {
   "cell_type": "markdown",
   "id": "6e704ec7",
   "metadata": {},
   "source": [
    "Next, we will use the saved model to make predictions on a sample dataset. If we take a look at the `PredictModel` node information we can see that the following inputs are needed to run the node:\n",
    "- **Dataset:** The input data on which to make the output predictions (this will be our `test_df` dataset)\n",
    "- **Model:** The pre-trained model to be used to make the predictions"
   ]
  },
  {
   "cell_type": "code",
   "execution_count": 16,
   "id": "0621af06",
   "metadata": {},
   "outputs": [
    {
     "name": "stdout",
     "output_type": "stream",
     "text": [
      "{'cache_url': 'redis-13325.c338.eu-west-2-1.ec2.redns.redis-cloud.com',\n",
      " 'category': 'MachineLearningModels',\n",
      " 'cost': 5,\n",
      " 'description': 'Make predictions using a machine-learning model',\n",
      " 'id': 'PredictModel',\n",
      " 'image_name': 'uncertainty-engine-predict-model-node',\n",
      " 'inputs': {'dataset': {'default': None,\n",
      "                        'description': 'Dataset for predictions',\n",
      "                        'label': 'Dataset',\n",
      "                        'required': True,\n",
      "                        'set_in_node': False,\n",
      "                        'type': 'CSVDataset'},\n",
      "            'model': {'default': None,\n",
      "                      'description': 'Machine-learning model',\n",
      "                      'label': 'Model',\n",
      "                      'required': True,\n",
      "                      'set_in_node': False,\n",
      "                      'type': 'MachineLearningModel'}},\n",
      " 'label': 'Predict Model',\n",
      " 'load_balancer_url': None,\n",
      " 'long_description': 'Generate predictions using a trained machine-learning '\n",
      "                     'model.',\n",
      " 'outputs': {'prediction': {'description': 'Predicted output values from the '\n",
      "                                           'model',\n",
      "                            'label': 'Predictions',\n",
      "                            'type': 'CSVDataset'},\n",
      "             'uncertainty': {'description': 'Predicted uncertainty values from '\n",
      "                                            'the model',\n",
      "                             'label': 'Uncertainty',\n",
      "                             'type': 'CSVDataset'}},\n",
      " 'queue_url': 'https://sqs.eu-west-2.amazonaws.com/939027885851/prod-uncertainty-engine-predict-m-uncertaintyenginepredictmodelnode-puV6iivBr0Na',\n",
      " 'requirements': {'cpu': 4096, 'gpu': False, 'memory': 16384, 'timeout': 600},\n",
      " 'service_arn': 'arn:aws:ecs:eu-west-2:939027885851:service/ue_prod/uncertainty-engine-predict-model-node',\n",
      " 'version_base_image': 2,\n",
      " 'version_node': 1,\n",
      " 'version_types_lib': '0.9.0'}\n"
     ]
    }
   ],
   "source": [
    "pprint(nodes_by_id[\"PredictModel\"])"
   ]
  },
  {
   "cell_type": "markdown",
   "id": "ff08cf08",
   "metadata": {},
   "source": [
    "Now we know what input parameters the `PredictModel` node needs we can start constructing our workflow."
   ]
  },
  {
   "cell_type": "markdown",
   "id": "a98fa0a1",
   "metadata": {},
   "source": [
    "### Constructing the prediction workflow"
   ]
  },
  {
   "cell_type": "markdown",
   "id": "fd956cdc",
   "metadata": {},
   "source": [
    "We will now build the prediction workflow. We'll start by instantiating a new graph object."
   ]
  },
  {
   "cell_type": "code",
   "execution_count": 17,
   "id": "861188c3",
   "metadata": {},
   "outputs": [],
   "source": [
    "predict_graph = Graph()"
   ]
  },
  {
   "cell_type": "markdown",
   "id": "974b9a13",
   "metadata": {},
   "source": [
    "Next we add a node for loading the test dataset inputs."
   ]
  },
  {
   "cell_type": "code",
   "execution_count": 18,
   "id": "1aa35ec4",
   "metadata": {},
   "outputs": [],
   "source": [
    "x_test_node = LoadDataset(\n",
    "    label=\"LoadDatasetXTest\",\n",
    "    project_id=personal_project.id,\n",
    "    file_id=resource_ids[\"my-x-test-dataset\"],\n",
    ")\n",
    "predict_graph.add_node(x_test_node)"
   ]
  },
  {
   "cell_type": "markdown",
   "id": "67b529f9",
   "metadata": {},
   "source": [
    "Then add a node for loading our saved model."
   ]
  },
  {
   "cell_type": "code",
   "execution_count": 19,
   "id": "ea2bd455",
   "metadata": {},
   "outputs": [],
   "source": [
    "from uncertainty_engine.nodes.resource_management import LoadModel\n",
    "\n",
    "load_model = LoadModel(\n",
    "    label=\"LoadModel\",\n",
    "    project_id=personal_project.id,\n",
    "    file_id=model.id,\n",
    ")\n",
    "\n",
    "predict_graph.add_node(load_model)"
   ]
  },
  {
   "cell_type": "markdown",
   "id": "17953f8e",
   "metadata": {},
   "source": [
    "Next add a node for make predictions for the loaded dataset with the loaded model."
   ]
  },
  {
   "cell_type": "code",
   "execution_count": 20,
   "id": "80b352aa",
   "metadata": {},
   "outputs": [],
   "source": [
    "predict = Node(\n",
    "    node_name=\"PredictModel\",\n",
    "    label=\"Predict\",\n",
    "    dataset=x_test_node.make_handle(\"file\"),\n",
    "    model=load_model.make_handle(\"file\"),\n",
    ")\n",
    "predict_graph.add_node(predict)"
   ]
  },
  {
   "cell_type": "markdown",
   "id": "fc520276",
   "metadata": {},
   "source": [
    "Finally, add two download nodes to access the predictions for the test dataset along with the uncertainty on the predictions."
   ]
  },
  {
   "cell_type": "code",
   "execution_count": 21,
   "id": "9bf9429b",
   "metadata": {},
   "outputs": [],
   "source": [
    "# Add handles to the prediction and uncertainty outputs\n",
    "output_predictions = predict.make_handle(\"prediction\")\n",
    "output_uncertainty = predict.make_handle(\"uncertainty\")\n",
    "\n",
    "# Define download nodes for predictions and uncertainty\n",
    "download_predictions = Node(\n",
    "    node_name=\"Download\",\n",
    "    label=\"Download Predictions\",\n",
    "    file=output_predictions\n",
    ")\n",
    "download_uncertainty = Node(\n",
    "    node_name=\"Download\",\n",
    "    label=\"Download Uncertainty\",\n",
    "    file=output_uncertainty\n",
    ")\n",
    "\n",
    "# Add download nodes to the graph and connect them to the predict node\n",
    "predict_graph.add_node(download_predictions)\n",
    "predict_graph.add_node(download_uncertainty)"
   ]
  },
  {
   "cell_type": "markdown",
   "id": "ca7a47a0",
   "metadata": {},
   "source": [
    "### Executing the workflow"
   ]
  },
  {
   "cell_type": "markdown",
   "id": "11f881b1",
   "metadata": {},
   "source": [
    "Now we can run our workflow using the `Workflow` node."
   ]
  },
  {
   "cell_type": "code",
   "execution_count": 22,
   "id": "b2b8b618",
   "metadata": {},
   "outputs": [],
   "source": [
    "# Define the output handles for the download nodes\n",
    "output_download_predictions = download_predictions.make_handle(\"file\")\n",
    "output_download_uncertainty = download_uncertainty.make_handle(\"file\")\n",
    "\n",
    "# Wrap the predict graph in a workflow node\n",
    "predict_workflow = Workflow(\n",
    "    graph=predict_graph.nodes,\n",
    "    inputs=predict_graph.external_input,\n",
    "    external_input_id=predict_graph.external_input_id,\n",
    "    requested_output={\n",
    "        \"Predictions\": output_download_predictions.model_dump(),\n",
    "        \"Uncertainty\": output_download_uncertainty.model_dump(),\n",
    "        }\n",
    "    )\n",
    "\n",
    "# Run the predict workflow and get the response\n",
    "predict_response = client.run_node(predict_workflow)"
   ]
  },
  {
   "cell_type": "markdown",
   "id": "4159fda6",
   "metadata": {},
   "source": [
    "We can download the results and save the `predictions` and `uncertainty` as pandas dataframes so that we can plot them."
   ]
  },
  {
   "cell_type": "code",
   "execution_count": 23,
   "id": "b9318ed0",
   "metadata": {},
   "outputs": [],
   "source": [
    "from io import StringIO\n",
    "import requests\n",
    "\n",
    "def get_presigned_url(url):\n",
    "    \"\"\"\n",
    "    Get the contents from the presigned url.\n",
    "    \"\"\"\n",
    "    url = url.replace(\"https://\", \"http://\")\n",
    "    response = requests.get(url)\n",
    "    response.raise_for_status()  # Raise an exception for HTTP errors\n",
    "    return response\n",
    "\n",
    "# Download the predictions and save as a DataFrame\n",
    "predictions_response = get_presigned_url(predict_response.outputs[\"outputs\"][\"Predictions\"])\n",
    "predictions_df = pd.read_csv(StringIO(predictions_response.text))  # Save the predictions to a DataFrame\n",
    "\n",
    "# Download the uncertainty and save as a DataFrame\n",
    "uncertainty_response = get_presigned_url(predict_response.outputs[\"outputs\"][\"Uncertainty\"])\n",
    "uncertainty_df = pd.read_csv(StringIO(uncertainty_response.text))  # Save the uncertainty to a DataFrame"
   ]
  },
  {
   "cell_type": "markdown",
   "id": "72bb9cc6",
   "metadata": {},
   "source": [
    "### Plot the results"
   ]
  },
  {
   "cell_type": "markdown",
   "id": "5abfbd87",
   "metadata": {},
   "source": [
    "Finally, we can plot our predictions vs our truth function. "
   ]
  },
  {
   "cell_type": "code",
   "execution_count": 24,
   "id": "95420ef7",
   "metadata": {},
   "outputs": [
    {
     "data": {
      "image/png": "[encoded data removed]",
      "text/plain": [
       "<Figure size 550x450 with 1 Axes>"
      ]
     },
     "metadata": {},
     "output_type": "display_data"
    }
   ],
   "source": [
    "import matplotlib.pyplot as plt\n",
    "\n",
    "NORMAL_QUANTILE_99 = 2.576  # symmetric two-sided 99% interval\n",
    "\n",
    "y_pred = predictions_df.to_numpy().flatten()\n",
    "y_std = uncertainty_df.to_numpy().flatten()\n",
    "\n",
    "plt.figure(figsize=(5.5, 4.5))\n",
    "\n",
    "plt.fill_between(\n",
    "    X_test,\n",
    "    (y_pred - NORMAL_QUANTILE_99 * y_std),\n",
    "    (y_pred + NORMAL_QUANTILE_99 * y_std),\n",
    "    color=\"C0\",\n",
    "    alpha=0.25,\n",
    "    label=\"99% Credible Interval\",\n",
    ")\n",
    "plt.plot(X_test, y_pred, c=\"C0\", linewidth=2, label=\"Model Mean Prediction\")\n",
    "\n",
    "plt.scatter(\n",
    "    X_train,\n",
    "    y_train,\n",
    "    color=\"red\",\n",
    "    label=\"Training data\",\n",
    ")\n",
    "plt.xlabel(\"x\")\n",
    "plt.ylabel(\"y\")\n",
    "\n",
    "plt.plot(X_test, y_test, c=\"r\", linewidth=2, linestyle=\"dashed\", label=\"Target Function\")\n",
    "plt.legend()\n",
    "plt.show()"
   ]
  },
  {
   "cell_type": "markdown",
   "id": "9cb82cc5",
   "metadata": {},
   "source": [
    "Qualitatively we can see that the model predictions closely follow the ground truth. The plot also shows the uncertainty on the model predictions. As is typical for a Gaussian Process model, the uncertainty is generally larger in areas with sparse training samples."
   ]
  },
  {
   "cell_type": "markdown",
   "id": "de037604",
   "metadata": {},
   "source": [
    "## Clean up"
   ]
  },
  {
   "cell_type": "markdown",
   "id": "3c4ceb78",
   "metadata": {},
   "source": [
    "These final couple of cells delete any resources that have been created for the sake if this example. "
   ]
  },
  {
   "cell_type": "markdown",
   "id": "65e10334",
   "metadata": {},
   "source": [
    "Start by deleting the training and test datasets."
   ]
  },
  {
   "cell_type": "code",
   "execution_count": 25,
   "id": "335d0e69",
   "metadata": {},
   "outputs": [],
   "source": [
    "for resource_id in resource_ids.values():\n",
    "    client.resources.delete_resource(\n",
    "        project_id=personal_project.id,\n",
    "        resource_id=resource_id,\n",
    "        resource_type=\"dataset\",\n",
    "    )"
   ]
  },
  {
   "cell_type": "markdown",
   "id": "c72b6953",
   "metadata": {},
   "source": [
    "Next delete the model that we trained above."
   ]
  },
  {
   "cell_type": "code",
   "execution_count": 26,
   "id": "df9382ce",
   "metadata": {},
   "outputs": [],
   "source": [
    "client.resources.delete_resource(\n",
    "    project_id=personal_project.id,\n",
    "    resource_id=model.id,\n",
    "    resource_type=\"model\",\n",
    ")"
   ]
  }
 ],
 "metadata": {
  "kernelspec": {
   "display_name": "uncertainty-engine-Jm6ucIAS-py3.13",
   "language": "python",
   "name": "python3"
  },
  "language_info": {
   "codemirror_mode": {
    "name": "ipython",
    "version": 3
   },
   "file_extension": ".py",
   "mimetype": "text/x-python",
   "name": "python",
   "nbconvert_exporter": "python",
   "pygments_lexer": "ipython3",
   "version": "3.13.5"
  }
 },
 "nbformat": 4,
 "nbformat_minor": 5
}

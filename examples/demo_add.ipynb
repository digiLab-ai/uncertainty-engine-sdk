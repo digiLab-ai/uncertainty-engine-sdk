{
 "cells": [
  {
   "cell_type": "markdown",
   "metadata": {},
   "source": [
    "# Uncertainty Engine SDK basic usage - add node\n",
    "\n",
    "This notebook goes through some of the basic functionality of the SDK. It demonstrates how to initialise the `Client`, which is used to facilitate all interactions with the Uncertainty Engine, and uses the `Add` node to demonstrate how nodes can be executed.\n"
   ]
  },
  {
   "cell_type": "markdown",
   "metadata": {},
   "source": [
    "## The `Client`"
   ]
  },
  {
   "cell_type": "markdown",
   "metadata": {},
   "source": [
    "Start by importing the `Client`.\n"
   ]
  },
  {
   "cell_type": "code",
   "execution_count": 1,
   "metadata": {},
   "outputs": [],
   "source": [
    "from uncertainty_engine.client import Client"
   ]
  },
  {
   "cell_type": "markdown",
   "metadata": {},
   "source": [
    "Next initialise the `Client` with your email address and the Uncertainty Engine deployment URL you wish to target.\n"
   ]
  },
  {
   "cell_type": "code",
   "execution_count": null,
   "metadata": {},
   "outputs": [],
   "source": [
    "client = Client(\n",
    "    deployment=\"<a-deployment-url>\",\n",
    ")"
   ]
  },
  {
   "cell_type": "markdown",
   "metadata": {},
   "source": [
    "The `Client` is an important concept in the SDK as all interactions with the Uncertainty Engine go through the `Client`. We can use the `client` object to list all the available nodes, or by passing a `category`, filter this list for the nodes we want. We will filter by the `\"Basic\"` category.\n",
    "\n",
    "(We use `pprint` to make the data display a bit nicer)\n"
   ]
  },
  {
   "cell_type": "code",
   "execution_count": 3,
   "metadata": {},
   "outputs": [
    {
     "name": "stdout",
     "output_type": "stream",
     "text": [
      "[{'cache_url': 'redis-13325.c338.eu-west-2-1.ec2.redns.redis-cloud.com',\n",
      "  'category': 'Basic',\n",
      "  'cost': 1,\n",
      "  'description': 'Sum two numbers',\n",
      "  'id': 'Add',\n",
      "  'image_name': 'uncertainty-engine-add-node',\n",
      "  'inputs': {'lhs': {'default': None,\n",
      "                     'description': 'Left-hand side of the addition',\n",
      "                     'label': 'LHS',\n",
      "                     'required': True,\n",
      "                     'set_in_node': True,\n",
      "                     'type': 'float'},\n",
      "             'rhs': {'default': None,\n",
      "                     'description': 'Right-hand side of the addition',\n",
      "                     'label': 'RHS',\n",
      "                     'required': True,\n",
      "                     'set_in_node': True,\n",
      "                     'type': 'float'}},\n",
      "  'label': 'Add',\n",
      "  'load_balancer_url': 'http://uncert-LoadB-WKNV59RSt2W3-301624139.eu-west-2.elb.amazonaws.com',\n",
      "  'long_description': 'Add two numbers together',\n",
      "  'outputs': {'ans': {'description': 'Result of the addition',\n",
      "                      'label': 'Answer',\n",
      "                      'type': 'float'}},\n",
      "  'queue_url': 'https://sqs.eu-west-2.amazonaws.com/939027885851/uncertainty-engine-add-node-dev-Queue-Y8DkY8tZPdKV',\n",
      "  'requirements': {'cpu': 256, 'gpu': False, 'memory': 512, 'timeout': 15},\n",
      "  'version_base_image': 2,\n",
      "  'version_node': 3,\n",
      "  'version_types_lib': '0.0.14'}]\n"
     ]
    }
   ],
   "source": [
    "from pprint import pprint\n",
    "\n",
    "pprint(client.list_nodes(category=\"Basic\"))"
   ]
  },
  {
   "cell_type": "markdown",
   "metadata": {},
   "source": [
    "The result of the above cell gives us some detail about all the nodes in the `\"Basic\"` category. There is only one; the `Add` node. We can see that this information contains things like the cost of running the node (in tokens) and the inputs and outputs of the nodes along with the corresponding types. This information can be retrieved for all Uncertainty Engine nodes."
   ]
  },
  {
   "cell_type": "markdown",
   "metadata": {},
   "source": [
    "## Node execution"
   ]
  },
  {
   "cell_type": "markdown",
   "metadata": {},
   "source": [
    "To initialise the `Add` node in the SDK we first import it from the relevant module."
   ]
  },
  {
   "cell_type": "code",
   "execution_count": 12,
   "metadata": {},
   "outputs": [],
   "source": [
    "from uncertainty_engine.nodes.basic import Add"
   ]
  },
  {
   "cell_type": "markdown",
   "metadata": {},
   "source": [
    "We then initialise the node with the required inputs."
   ]
  },
  {
   "cell_type": "code",
   "execution_count": 13,
   "metadata": {},
   "outputs": [],
   "source": [
    "add = Add(lhs=1, rhs=2)"
   ]
  },
  {
   "cell_type": "markdown",
   "metadata": {},
   "source": [
    "To execute this node we can use the `run_node` or `queue_node` methods of the `client`. The only difference between these two methods is that `run_node` queues a node for execution and then waits for it to execute and `queue_node` submits the node to the queue and then returns a job ID that can be used to check if the node has executed. For simplicity we'll use the `run_node` method."
   ]
  },
  {
   "cell_type": "code",
   "execution_count": 10,
   "metadata": {},
   "outputs": [
    {
     "name": "stdout",
     "output_type": "stream",
     "text": [
      "{'inputs': {'lhs': 1, 'rhs': 2},\n",
      " 'message': 'Job completed at 2025-05-22 12:47:16.520986',\n",
      " 'outputs': {'ans': 3.0},\n",
      " 'progress': None,\n",
      " 'status': 'completed'}\n"
     ]
    }
   ],
   "source": [
    "response = client.run_node(add)\n",
    "pprint(response)"
   ]
  },
  {
   "cell_type": "markdown",
   "metadata": {},
   "source": [
    "We can see from the above cell that the response from the Uncertainty Engine shows the status of the job along with it's ID, and the resulting output."
   ]
  },
  {
   "cell_type": "markdown",
   "metadata": {},
   "source": [
    "Checkout [`demo_node.ipynb`](./demo_node.ipynb) to find out how to create and run any node."
   ]
  }
 ],
 "metadata": {
  "kernelspec": {
   "display_name": ".venv",
   "language": "python",
   "name": "python3"
  },
  "language_info": {
   "codemirror_mode": {
    "name": "ipython",
    "version": 3
   },
   "file_extension": ".py",
   "mimetype": "text/x-python",
   "name": "python",
   "nbconvert_exporter": "python",
   "pygments_lexer": "ipython3",
   "version": "3.12.8"
  }
 },
 "nbformat": 4,
 "nbformat_minor": 2
}

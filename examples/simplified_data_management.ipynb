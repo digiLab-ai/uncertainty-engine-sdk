{
 "cells": [
  {
   "cell_type": "code",
   "execution_count": 4,
   "id": "a2308bdf",
   "metadata": {},
   "outputs": [],
   "source": [
    "from uncertainty_engine import Client\n",
    "\n",
    "client = Client(env=\"dev\")\n",
    "client.authenticate()"
   ]
  },
  {
   "cell_type": "code",
   "execution_count": null,
   "id": "4351e783",
   "metadata": {},
   "outputs": [],
   "source": [
    "project_id = client.projects.get_project_id_by_name(\"Personal2\")\n",
    "print(project_id)\n",
    "\n",
    "resource_id = client.resources.get_resource_id_by_name(project_id, \"document\", \"e2e_test_dataset\")\n",
    "print(resource_id)"
   ]
  },
  {
   "cell_type": "code",
   "execution_count": null,
   "id": "2cf67896",
   "metadata": {},
   "outputs": [],
   "source": [
    "from pprint import pprint\n",
    "\n",
    "# Print the details of the `TrainModel` node\n",
    "pprint(client.get_node_info(\"TrainModel\").model_dump())"
   ]
  },
  {
   "cell_type": "code",
   "execution_count": null,
   "id": "0fe9f08c",
   "metadata": {},
   "outputs": [],
   "source": [
    "import numpy as np\n",
    "import pandas as pd\n",
    "\n",
    "# Set random seed for reproducibility and assign number of rows\n",
    "np.random.seed(42)\n",
    "n_rows = 10\n",
    "\n",
    "# Target function: forrester function\n",
    "def f(x, a=6, b=12):\n",
    "    return -((a * x - 2) ** 2) * np.sin(b * x - 4)\n",
    "\n",
    "# Generate synthetic data to train on\n",
    "X_train = np.random.uniform(0, 1, size=n_rows) # 10 randomly sampled points\n",
    "y_train = f(X_train) # Place those points into the target function\n",
    "train_df = pd.DataFrame({\n",
    "    'x': X_train,\n",
    "    'y': y_train\n",
    "})\n",
    "\n",
    "# Generate \"truth\" data for testing\n",
    "X_test = np.linspace(0, 1, 100)\n",
    "y_test = f(X_test)\n",
    "test_df = pd.DataFrame({\"x\": X_test, \"y\": y_test})"
   ]
  },
  {
   "cell_type": "code",
   "execution_count": null,
   "id": "1b17b004",
   "metadata": {},
   "outputs": [],
   "source": [
    "# Convert dataframes to CSV strings\n",
    "x_csv = train_df[[\"x\"]].to_csv(index=False)\n",
    "y_csv = train_df[[\"y\"]].to_csv(index=False)\n",
    "x_test_csv = test_df[[\"x\"]].to_csv(index=False)\n",
    "\n",
    "# Save CSV strings to files\n",
    "for filename, data in zip(\n",
    "    [\"x_train.csv\", \"y_train.csv\", \"x_test.csv\"], [x_csv, y_csv, x_test_csv]\n",
    "):\n",
    "    with open(filename, \"w\") as f:\n",
    "        f.write(data)"
   ]
  },
  {
   "cell_type": "code",
   "execution_count": null,
   "id": "31bca196",
   "metadata": {},
   "outputs": [],
   "source": [
    "# List all available projects\n",
    "projects = client.projects.list_projects()\n",
    "\n",
    "# Find the project named \"Personal\"\n",
    "personal_project = next(p for p in projects if p.name == \"Personal\")"
   ]
  },
  {
   "cell_type": "code",
   "execution_count": null,
   "id": "7f78050c",
   "metadata": {},
   "outputs": [],
   "source": [
    "# Define an empty dictionary to hold resource IDs\n",
    "resource_ids: dict[str,str] = dict()\n",
    "\n",
    "# Upload datasets and store their resource IDs\n",
    "for resource_name, file_path in zip(\n",
    "    [\"my-x-dataset\", \"my-y-dataset\", \"my-x-test-dataset\"],\n",
    "    [\"x_train.csv\", \"y_train.csv\", \"x_test.csv\"],\n",
    "):\n",
    "    resource_id = client.resources.upload(\n",
    "        project_id=personal_project.id,\n",
    "        name=resource_name,\n",
    "        file_path=file_path,\n",
    "        resource_type=\"dataset\",\n",
    "    )\n",
    "    resource_ids[resource_name] = resource_id\n",
    "    print(f\"Uploaded {file_path} as resource '{resource_name}'\")"
   ]
  },
  {
   "cell_type": "code",
   "execution_count": null,
   "id": "55177ac4",
   "metadata": {},
   "outputs": [],
   "source": [
    "pprint(client.get_node_info(\"ModelConfig\").model_dump())"
   ]
  },
  {
   "cell_type": "code",
   "execution_count": null,
   "id": "b4cc01b4",
   "metadata": {},
   "outputs": [],
   "source": [
    "from uncertainty_engine.graph import Graph\n",
    "\n",
    "# Create a new graph\n",
    "train_graph = Graph()"
   ]
  },
  {
   "cell_type": "code",
   "execution_count": null,
   "id": "6c3a2cac",
   "metadata": {},
   "outputs": [],
   "source": [
    "from uncertainty_engine.nodes.machine_learning import ModelConfig\n",
    "\n",
    "# Define the model config node\n",
    "model_config = ModelConfig(\n",
    "    label=\"Model Config\",\n",
    ")\n",
    "\n",
    "# Add node to the graph and connect it to the train node\n",
    "train_graph.add_node(model_config)"
   ]
  },
  {
   "cell_type": "code",
   "execution_count": null,
   "id": "06f8d919",
   "metadata": {},
   "outputs": [],
   "source": [
    "from uncertainty_engine.nodes.resource_management import LoadDataset\n",
    "\n",
    "# Create a LoadDataset node for the x training data\n",
    "x = LoadDataset(\n",
    "  label=\"LoadDatasetX\", # the node's label (needs to be unique in the graph)\n",
    "  project_id = personal_project.id, # the project id\n",
    "  file_id = resource_ids[\"my-x-dataset\"], # the resource id of the file you want to load\n",
    ")\n",
    "# Create a LoadDataset node for the y training data\n",
    "y = LoadDataset(\n",
    "  label=\"LoadDatasetY\", # the node's label (needs to be unique in the graph)\n",
    "  project_id = personal_project.id, # the project id\n",
    "  file_id = resource_ids[\"my-y-dataset\"], # the resource id of the file you want to load\n",
    ")\n",
    "\n",
    "train_graph.add_node(x)\n",
    "train_graph.add_node(y)"
   ]
  },
  {
   "cell_type": "code",
   "execution_count": null,
   "id": "28e211da",
   "metadata": {},
   "outputs": [],
   "source": [
    "from uncertainty_engine.nodes.machine_learning import TrainModel\n",
    "\n",
    "# Create handles for the configuration and loaded dataset files\n",
    "output_config = model_config.make_handle(\"config\")\n",
    "x_handle = x.make_handle(\"file\")\n",
    "y_handle = y.make_handle(\"file\")\n",
    "\n",
    "# Create the TrainModel node\n",
    "train_model = TrainModel(\n",
    "    label=\"Train Model\",\n",
    "    config=output_config,\n",
    "    inputs=x_handle,\n",
    "    outputs=y_handle,\n",
    ")\n",
    "\n",
    "# Add the node to the graph\n",
    "train_graph.add_node(train_model)"
   ]
  },
  {
   "cell_type": "code",
   "execution_count": null,
   "id": "efbcc938",
   "metadata": {},
   "outputs": [],
   "source": [
    "from uncertainty_engine.nodes.resource_management import Save\n",
    "\n",
    "save_model = Save(\n",
    "    label=\"SaveModel\",\n",
    "    data=train_model.make_handle(\"model\"),\n",
    "    project_id=personal_project.id,\n",
    "    file_name=\"my-machine-learning-model\",\n",
    ")\n",
    "\n",
    "train_graph.add_node(save_model)"
   ]
  },
  {
   "cell_type": "code",
   "execution_count": null,
   "id": "4cb6fc53",
   "metadata": {},
   "outputs": [],
   "source": [
    "from uncertainty_engine.nodes.workflow import Workflow\n",
    "\n",
    "# Wrap the graph in a workflow node\n",
    "train_workflow = Workflow(\n",
    "    graph=train_graph.nodes,\n",
    "    inputs=train_graph.external_input,\n",
    "    external_input_id=train_graph.external_input_id,\n",
    "    )"
   ]
  },
  {
   "cell_type": "code",
   "execution_count": null,
   "id": "9150c068",
   "metadata": {},
   "outputs": [],
   "source": [
    "train_response = client.run_node(train_workflow)\n",
    "assert train_response.status.value == \"completed\"  # Ensure the workflow completed successfully"
   ]
  },
  {
   "cell_type": "code",
   "execution_count": null,
   "id": "fc643d42",
   "metadata": {},
   "outputs": [],
   "source": [
    "for model in client.resources.list_resources(project_id=personal_project.id, resource_type=\"model\"):\n",
    "    if model.name == \"my-machine-learning-model\":\n",
    "        print(f\"Model saved with resource ID: {model.id}\")\n",
    "        break  # Stop after finding the first match. We can use the model ID for future reference"
   ]
  },
  {
   "cell_type": "code",
   "execution_count": null,
   "id": "4a99fe9c",
   "metadata": {},
   "outputs": [],
   "source": [
    "pprint(client.get_node_info(\"PredictModel\").model_dump())"
   ]
  },
  {
   "cell_type": "code",
   "execution_count": null,
   "id": "afcd296d",
   "metadata": {},
   "outputs": [],
   "source": [
    "predict_graph = Graph()"
   ]
  },
  {
   "cell_type": "code",
   "execution_count": null,
   "id": "022e84d3",
   "metadata": {},
   "outputs": [],
   "source": [
    "x_test_node = LoadDataset(\n",
    "    label=\"LoadDatasetXTest\",\n",
    "    project_id=personal_project.id,\n",
    "    file_id=resource_ids[\"my-x-test-dataset\"],\n",
    ")\n",
    "predict_graph.add_node(x_test_node)"
   ]
  },
  {
   "cell_type": "code",
   "execution_count": null,
   "id": "acc76f29",
   "metadata": {},
   "outputs": [],
   "source": [
    "from uncertainty_engine.nodes.resource_management import LoadModel\n",
    "\n",
    "load_model = LoadModel(\n",
    "    label=\"LoadModel\",\n",
    "    project_id=personal_project.id,\n",
    "    file_id=model.id,\n",
    ")\n",
    "\n",
    "predict_graph.add_node(load_model)"
   ]
  },
  {
   "cell_type": "code",
   "execution_count": null,
   "id": "cc07ee6e",
   "metadata": {},
   "outputs": [],
   "source": [
    "from uncertainty_engine.nodes.machine_learning import PredictModel\n",
    "\n",
    "predict = PredictModel(\n",
    "    label=\"Predict\",\n",
    "    dataset=x_test_node.make_handle(\"file\"),\n",
    "    model=load_model.make_handle(\"file\"),\n",
    ")\n",
    "predict_graph.add_node(predict)"
   ]
  },
  {
   "cell_type": "code",
   "execution_count": null,
   "id": "6d0921d2",
   "metadata": {},
   "outputs": [],
   "source": [
    "from uncertainty_engine.nodes.resource_management import Download\n",
    "\n",
    "# Add handles to the prediction and uncertainty outputs\n",
    "output_predictions = predict.make_handle(\"prediction\")\n",
    "output_uncertainty = predict.make_handle(\"uncertainty\")\n",
    "\n",
    "# Define download nodes for predictions and uncertainty\n",
    "download_predictions = Download(\n",
    "    label=\"Download Predictions\",\n",
    "    file=output_predictions\n",
    ")\n",
    "download_uncertainty = Download(\n",
    "    label=\"Download Uncertainty\",\n",
    "    file=output_uncertainty\n",
    ")\n",
    "\n",
    "# Add download nodes to the graph and connect them to the predict node\n",
    "predict_graph.add_node(download_predictions)\n",
    "predict_graph.add_node(download_uncertainty)"
   ]
  },
  {
   "cell_type": "code",
   "execution_count": null,
   "id": "d9412e54",
   "metadata": {},
   "outputs": [],
   "source": [
    "# Define the output handles for the download nodes\n",
    "output_download_predictions = download_predictions.make_handle(\"file\")\n",
    "output_download_uncertainty = download_uncertainty.make_handle(\"file\")\n",
    "\n",
    "# Wrap the predict graph in a workflow node\n",
    "predict_workflow = Workflow(\n",
    "    graph=predict_graph.nodes,\n",
    "    inputs=predict_graph.external_input,\n",
    "    external_input_id=predict_graph.external_input_id,\n",
    "    requested_output={\n",
    "        \"Predictions\": output_download_predictions.model_dump(),\n",
    "        \"Uncertainty\": output_download_uncertainty.model_dump(),\n",
    "        }\n",
    "    )\n",
    "\n",
    "# Run the predict workflow and get the response\n",
    "predict_response = client.run_node(predict_workflow)"
   ]
  },
  {
   "cell_type": "code",
   "execution_count": null,
   "id": "8d1e8a6b",
   "metadata": {},
   "outputs": [],
   "source": [
    "from io import StringIO\n",
    "import requests\n",
    "\n",
    "def get_presigned_url(url):\n",
    "    \"\"\"\n",
    "    Get the contents from the presigned url.\n",
    "    \"\"\"\n",
    "    url = url.replace(\"https://\", \"http://\")\n",
    "    response = requests.get(url)\n",
    "    response.raise_for_status()  # Raise an exception for HTTP errors\n",
    "    return response\n",
    "\n",
    "# Download the predictions and save as a DataFrame\n",
    "predictions_response = get_presigned_url(predict_response.outputs[\"outputs\"][\"Predictions\"])\n",
    "predictions_df = pd.read_csv(StringIO(predictions_response.text))  # Save the predictions to a DataFrame\n",
    "\n",
    "# Download the uncertainty and save as a DataFrame\n",
    "uncertainty_response = get_presigned_url(predict_response.outputs[\"outputs\"][\"Uncertainty\"])\n",
    "uncertainty_df = pd.read_csv(StringIO(uncertainty_response.text))  # Save the uncertainty to a DataFrame"
   ]
  },
  {
   "cell_type": "code",
   "execution_count": null,
   "id": "cf569438",
   "metadata": {},
   "outputs": [],
   "source": [
    "for resource_id in resource_ids.values():\n",
    "    client.resources.delete_resource(\n",
    "        project_id=personal_project.id,\n",
    "        resource_id=resource_id,\n",
    "        resource_type=\"dataset\",\n",
    "    )"
   ]
  },
  {
   "cell_type": "code",
   "execution_count": null,
   "id": "c51d14e6",
   "metadata": {},
   "outputs": [],
   "source": [
    "client.resources.delete_resource(\n",
    "    project_id=personal_project.id,\n",
    "    resource_id=model.id,\n",
    "    resource_type=\"model\",\n",
    ")"
   ]
  }
 ],
 "metadata": {
  "kernelspec": {
   "display_name": "uncertainty-engine-py3.13",
   "language": "python",
   "name": "python3"
  },
  "language_info": {
   "codemirror_mode": {
    "name": "ipython",
    "version": 3
   },
   "file_extension": ".py",
   "mimetype": "text/x-python",
   "name": "python",
   "nbconvert_exporter": "python",
   "pygments_lexer": "ipython3",
   "version": "3.13.5"
  }
 },
 "nbformat": 4,
 "nbformat_minor": 5
}

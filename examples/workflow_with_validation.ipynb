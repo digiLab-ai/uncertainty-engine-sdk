{
 "cells": [
  {
   "cell_type": "code",
   "execution_count": null,
   "id": "0f334f37",
   "metadata": {},
   "outputs": [],
   "source": [
    "import warnings\n",
    "warnings.turn_off_warnings() # this isn't the thing but suggest to people they don't do this\n",
    "\n",
    "\n",
    "# for when people put code into production suggest that warnings turn into failures\n",
    "# this tells user that node def has changed and validation is failing\n",
    "# easier debugging in prod? ( client prod that is )\n",
    "# warnings.throw_error()"
   ]
  },
  {
   "cell_type": "code",
   "execution_count": null,
   "id": "ae95825c",
   "metadata": {},
   "outputs": [],
   "source": [
    "foo = Node(\n",
    "    node_name = \"Add\",\n",
    "    node_label = \"add 1\"\n",
    ")\n",
    "# this should thrown warning OR helpful message for missing inputs"
   ]
  },
  {
   "cell_type": "code",
   "execution_count": null,
   "id": "97ff6883",
   "metadata": {},
   "outputs": [],
   "source": [
    "foo # this (in future state) is many a nice looking print out"
   ]
  },
  {
   "cell_type": "code",
   "execution_count": null,
   "id": "7307ca38",
   "metadata": {},
   "outputs": [],
   "source": [
    "foo.add_input(\"lhs\", 5) \n",
    "# warning thrown for missing rhs\n",
    "foo.add_input(\"rhs\", 8)\n",
    "# rhs is right here!!!"
   ]
  },
  {
   "cell_type": "code",
   "execution_count": null,
   "id": "31157fb8",
   "metadata": {},
   "outputs": [],
   "source": [
    "# could zip these \n",
    "foo.add_inputs([\"lhs\", \"rhs\"], [5, 8])"
   ]
  },
  {
   "cell_type": "code",
   "execution_count": null,
   "id": "1160c2df",
   "metadata": {},
   "outputs": [],
   "source": [
    "graph.add_node(foo) # also run vali here ?"
   ]
  },
  {
   "cell_type": "code",
   "execution_count": null,
   "id": "1abf022a",
   "metadata": {},
   "outputs": [],
   "source": [
    "# construct graph\n",
    "graph.validate() # check edges etc \n"
   ]
  },
  {
   "cell_type": "markdown",
   "id": "52f292d6",
   "metadata": {},
   "source": [
    "# Think about handles"
   ]
  },
  {
   "cell_type": "code",
   "execution_count": null,
   "id": "d3a59510",
   "metadata": {},
   "outputs": [],
   "source": [
    "number = Node(\n",
    "    node_name=\"Number\",\n",
    "    label=\"num node\",\n",
    ")\n",
    "\n",
    "number.add_input(\"value\", 5)\n",
    "\n",
    "number_handle = number.make_handle(\"value\")\n",
    "\n",
    "# instantiate add node\n",
    "add = Add(label=\"add node\", lhs=5, rhs=number_handle) # this works\n",
    "\n",
    "add = Node(name_name= \"Add\", label=\"add node\") # but this works too \n",
    "\n"
   ]
  },
  {
   "cell_type": "code",
   "execution_count": null,
   "id": "29873a2b",
   "metadata": {},
   "outputs": [],
   "source": [
    "add"
   ]
  },
  {
   "cell_type": "code",
   "execution_count": null,
   "id": "5ce1bbca",
   "metadata": {},
   "outputs": [],
   "source": [
    "# this connection can still be validated here by looking for handle type?\n",
    "add.add_inputs([\"lhs\", \"rhs\"], [5, number_handle])"
   ]
  },
  {
   "cell_type": "markdown",
   "id": "b7ae20dc",
   "metadata": {},
   "source": []
  }
 ],
 "metadata": {
  "language_info": {
   "name": "python"
  }
 },
 "nbformat": 4,
 "nbformat_minor": 5
}

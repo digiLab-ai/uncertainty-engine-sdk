{
 "cells": [
  {
   "cell_type": "code",
   "execution_count": 1,
   "id": "a6a58d75",
   "metadata": {},
   "outputs": [],
   "source": [
    "from uncertainty_engine import Client\n",
    "from pprint import pprint"
   ]
  },
  {
   "cell_type": "code",
   "execution_count": 2,
   "id": "3f970ecb",
   "metadata": {},
   "outputs": [],
   "source": [
    "client = Client(\n",
    "    env=\"dev\"\n",
    ")\n",
    "client.authenticate()"
   ]
  },
  {
   "cell_type": "code",
   "execution_count": 3,
   "id": "ee705f4a",
   "metadata": {},
   "outputs": [],
   "source": [
    "add_node_info = client.get_node_info(\"Add\")"
   ]
  },
  {
   "cell_type": "code",
   "execution_count": 4,
   "id": "a5a3d802",
   "metadata": {},
   "outputs": [
    {
     "data": {
      "text/plain": [
       "{'lhs': NodeInputInfo(type='float', label='LHS', description='Left-hand side of the addition', required=True, set_in_node=True, default=None),\n",
       " 'rhs': NodeInputInfo(type='float', label='RHS', description='Right-hand side of the addition', required=True, set_in_node=True, default=None)}"
      ]
     },
     "execution_count": 4,
     "metadata": {},
     "output_type": "execute_result"
    }
   ],
   "source": [
    "add_node_info.inputs"
   ]
  },
  {
   "cell_type": "code",
   "execution_count": 5,
   "id": "a87102d8",
   "metadata": {},
   "outputs": [
    {
     "data": {
      "text/plain": [
       "{'ans': NodeOutputInfo(type='float', label='Answer', description='Result of the addition')}"
      ]
     },
     "execution_count": 5,
     "metadata": {},
     "output_type": "execute_result"
    }
   ],
   "source": [
    "add_node_info.outputs"
   ]
  },
  {
   "cell_type": "markdown",
   "id": "162a545b",
   "metadata": {},
   "source": [
    "Okay so can use `get_node_info` to get the required information of the node in \n",
    "order to save the relevent information about the input to the `tool_metadata`"
   ]
  },
  {
   "cell_type": "code",
   "execution_count": 6,
   "id": "9bda777c",
   "metadata": {},
   "outputs": [],
   "source": [
    "from uncertainty_engine.nodes.basic import Add\n",
    "from uncertainty_engine.nodes.base import Node"
   ]
  },
  {
   "cell_type": "code",
   "execution_count": 7,
   "id": "109dad5e",
   "metadata": {},
   "outputs": [],
   "source": [
    "add_number_info = client.get_node_info(\"Number\")"
   ]
  },
  {
   "cell_type": "markdown",
   "id": "9a1ff7a7",
   "metadata": {},
   "source": [
    "Number node isn't really a SDK thing but useful for this example?"
   ]
  },
  {
   "cell_type": "code",
   "execution_count": 8,
   "id": "7702919d",
   "metadata": {},
   "outputs": [
    {
     "data": {
      "text/plain": [
       "NodeInfo(id='Number', label='Number', category='Input', description='Define a number', long_description='Define any decimal value, like \"3.14\" or \"4\"', image_name='uncertainty-engine-number-node', cost=1, inputs={'value': NodeInputInfo(type='float', label='Number', description='Real number', required=True, set_in_node=True, default=None)}, outputs={'value': NodeOutputInfo(type='float', label='Number', description='Real number')}, requirements=NodeRequirementsInfo(cpu=256, gpu=False, memory=512, timeout=15), load_balancer_url=None, queue_url='https://sqs.eu-west-2.amazonaws.com/939027885851/dev-uncertainty-engine-number-nod-uncertaintyenginenumbernodeQueueD-k7SMxVgEYvOu', cache_url='redis-13325.c338.eu-west-2-1.ec2.redns.redis-cloud.com', version_types_lib='0.9.0', version_base_image=2, version_node=2, service_arn='arn:aws:ecs:eu-west-2:939027885851:service/ue_dev/uncertainty-engine-number-node')"
      ]
     },
     "execution_count": 8,
     "metadata": {},
     "output_type": "execute_result"
    }
   ],
   "source": [
    "add_number_info"
   ]
  },
  {
   "cell_type": "code",
   "execution_count": 9,
   "id": "1f72af22",
   "metadata": {},
   "outputs": [],
   "source": [
    "number_value_input = add_number_info.inputs"
   ]
  },
  {
   "cell_type": "code",
   "execution_count": null,
   "id": "152ea7c3",
   "metadata": {},
   "outputs": [],
   "source": []
  },
  {
   "cell_type": "code",
   "execution_count": 10,
   "id": "e0836231",
   "metadata": {},
   "outputs": [],
   "source": [
    "number = Node(\n",
    "    node_name=\"Number\",\n",
    "    label=\"num node\",\n",
    "    value=\"5\",\n",
    ")\n",
    "\n",
    "number.add_tool_input(\"value\", add_number_info)\n",
    "\n",
    "\n",
    "number_handle = number.make_handle(\"value\")\n",
    "\n",
    "add = Add(lhs = 4,\n",
    "          rhs = number_handle,\n",
    "          label=\"add node\")\n",
    "\n",
    "add.add_tool_input(\"lhs\", add_node_info)\n",
    "add.add_tool_input(\"rhs\", add_node_info)\n",
    "add.add_tool_output(\"ans\", add_node_info)\n",
    "\n",
    "output_result = add.make_handle(\"ans\")\n"
   ]
  },
  {
   "cell_type": "code",
   "execution_count": 11,
   "id": "8b2d8c58",
   "metadata": {},
   "outputs": [
    {
     "data": {
      "text/plain": [
       "{'node_name': 'Number',\n",
       " 'label': 'num node',\n",
       " 'tool_metadata': {'tool_inputs': {'value': NodeInputInfo(type='float', label='Number', description='Real number', required=True, set_in_node=True, default=None)}},\n",
       " 'value': '5'}"
      ]
     },
     "execution_count": 11,
     "metadata": {},
     "output_type": "execute_result"
    }
   ],
   "source": [
    "number.__dict__"
   ]
  },
  {
   "cell_type": "code",
   "execution_count": 12,
   "id": "8295daaa",
   "metadata": {},
   "outputs": [
    {
     "data": {
      "text/plain": [
       "{'node_name': 'Add',\n",
       " 'label': 'add node',\n",
       " 'tool_metadata': {'tool_inputs': {'lhs': NodeInputInfo(type='float', label='LHS', description='Left-hand side of the addition', required=True, set_in_node=True, default=None),\n",
       "   'rhs': NodeInputInfo(type='float', label='RHS', description='Right-hand side of the addition', required=True, set_in_node=True, default=None)},\n",
       "  'tool_outputs': {'ans': NodeOutputInfo(type='float', label='Answer', description='Result of the addition')}},\n",
       " 'lhs': 4,\n",
       " 'rhs': Handle(node_name='num node', node_handle='value')}"
      ]
     },
     "execution_count": 12,
     "metadata": {},
     "output_type": "execute_result"
    }
   ],
   "source": [
    "add.__dict__"
   ]
  },
  {
   "cell_type": "code",
   "execution_count": null,
   "id": "05b17b42",
   "metadata": {},
   "outputs": [],
   "source": []
  },
  {
   "cell_type": "code",
   "execution_count": 13,
   "id": "9a455de9",
   "metadata": {},
   "outputs": [],
   "source": [
    "from uncertainty_engine.graph import Graph\n",
    "\n",
    "# Create a new graph\n",
    "add_graph = Graph()"
   ]
  },
  {
   "cell_type": "code",
   "execution_count": 14,
   "id": "b6abefb5",
   "metadata": {},
   "outputs": [
    {
     "name": "stdout",
     "output_type": "stream",
     "text": [
      "Processing metadata\n",
      "Processing metadata\n"
     ]
    }
   ],
   "source": [
    "add_graph.add_node(number)\n",
    "\n",
    "add_graph.add_node(add)\n"
   ]
  },
  {
   "cell_type": "code",
   "execution_count": 15,
   "id": "976dd7bb",
   "metadata": {},
   "outputs": [
    {
     "name": "stdout",
     "output_type": "stream",
     "text": [
      "{'nodes': {'add node': {'inputs': {'lhs': {'node_handle': 'add node_lhs',\n",
      "                                           'node_name': '_'},\n",
      "                                   'rhs': {'node_handle': 'value',\n",
      "                                           'node_name': 'num node'}},\n",
      "                        'type': 'Add'},\n",
      "           'num node': {'inputs': {'value': {'node_handle': 'num node_value',\n",
      "                                             'node_name': '_'}},\n",
      "                        'type': 'Number'}}}\n"
     ]
    }
   ],
   "source": [
    "pprint(add_graph.nodes)"
   ]
  },
  {
   "cell_type": "code",
   "execution_count": 16,
   "id": "218a5780",
   "metadata": {},
   "outputs": [
    {
     "name": "stdout",
     "output_type": "stream",
     "text": [
      "{'inputs': {'add node': {'lhs': {'default': None,\n",
      "                                 'description': 'Left-hand side of the '\n",
      "                                                'addition',\n",
      "                                 'label': 'LHS',\n",
      "                                 'required': True,\n",
      "                                 'set_in_node': True,\n",
      "                                 'type': 'float'},\n",
      "                         'rhs': {'default': None,\n",
      "                                 'description': 'Right-hand side of the '\n",
      "                                                'addition',\n",
      "                                 'label': 'RHS',\n",
      "                                 'required': True,\n",
      "                                 'set_in_node': True,\n",
      "                                 'type': 'float'}},\n",
      "            'num node': {'value': {'default': None,\n",
      "                                   'description': 'Real number',\n",
      "                                   'label': 'Number',\n",
      "                                   'required': True,\n",
      "                                   'set_in_node': True,\n",
      "                                   'type': 'float'}}},\n",
      " 'outputs': {'add node': {'ans': {'description': 'Result of the addition',\n",
      "                                  'label': 'Answer',\n",
      "                                  'type': 'float'}}}}\n"
     ]
    }
   ],
   "source": [
    "pprint(add_graph.tool_metadata)"
   ]
  },
  {
   "cell_type": "code",
   "execution_count": 16,
   "id": "1b0229d5",
   "metadata": {},
   "outputs": [],
   "source": [
    "from uncertainty_engine.nodes.workflow import Workflow"
   ]
  },
  {
   "cell_type": "code",
   "execution_count": 20,
   "id": "6587c2f8",
   "metadata": {},
   "outputs": [],
   "source": [
    "# add_workflow = Workflow(\n",
    "#     graph=add_graph.nodes,\n",
    "#     inputs=add_graph.external_input,\n",
    "#     external_input_id=add_graph.external_input_id,\n",
    "#     tool_metadata=add_graph.tool_metadata,\n",
    "#     requested_output={\n",
    "#         \"add result\": output_result.model_dump(),\n",
    "#         }\n",
    "#     )\n",
    "\n",
    "add_workflow = Workflow.from_graph(\n",
    "    add_graph,\n",
    "    requested_output={\n",
    "        \"add result\": output_result.model_dump(),\n",
    "    },\n",
    ")"
   ]
  },
  {
   "cell_type": "code",
   "execution_count": 21,
   "id": "cdbf5086",
   "metadata": {},
   "outputs": [
    {
     "data": {
      "text/plain": [
       "{'inputs': {'num node': {'value': {'type': 'float',\n",
       "    'label': 'Number',\n",
       "    'description': 'Real number',\n",
       "    'required': True,\n",
       "    'set_in_node': True,\n",
       "    'default': None}},\n",
       "  'add node': {'lhs': {'type': 'float',\n",
       "    'label': 'LHS',\n",
       "    'description': 'Left-hand side of the addition',\n",
       "    'required': True,\n",
       "    'set_in_node': True,\n",
       "    'default': None},\n",
       "   'rhs': {'type': 'float',\n",
       "    'label': 'RHS',\n",
       "    'description': 'Right-hand side of the addition',\n",
       "    'required': True,\n",
       "    'set_in_node': True,\n",
       "    'default': None}}},\n",
       " 'outputs': {'add node': {'ans': {'type': 'float',\n",
       "    'label': 'Answer',\n",
       "    'description': 'Result of the addition'}}}}"
      ]
     },
     "execution_count": 21,
     "metadata": {},
     "output_type": "execute_result"
    }
   ],
   "source": [
    "add_workflow.tool_metadata"
   ]
  },
  {
   "cell_type": "code",
   "execution_count": 22,
   "id": "5136e59a",
   "metadata": {},
   "outputs": [],
   "source": [
    "add_response = client.run_node(add_workflow)"
   ]
  },
  {
   "cell_type": "code",
   "execution_count": 23,
   "id": "8994b09a",
   "metadata": {},
   "outputs": [
    {
     "name": "stdout",
     "output_type": "stream",
     "text": [
      "{'external_input_id': '_',\n",
      " 'graph': {'nodes': {'add node': {'inputs': {'lhs': {'node_handle': 'add '\n",
      "                                                                    'node_lhs',\n",
      "                                                     'node_name': '_'},\n",
      "                                             'rhs': {'node_handle': 'value',\n",
      "                                                     'node_name': 'num node'}},\n",
      "                                  'type': 'Add'},\n",
      "                     'num node': {'inputs': {'value': {'node_handle': 'num '\n",
      "                                                                      'node_value',\n",
      "                                                       'node_name': '_'}},\n",
      "                                  'type': 'Number'}}},\n",
      " 'inputs': {'add node_lhs': 4, 'num node_value': '5'},\n",
      " 'requested_output': {'add result': {'node_handle': 'ans',\n",
      "                                     'node_name': 'add node'}},\n",
      " 'tool_metadata': {'inputs': {'add node': {'lhs': {'default': None,\n",
      "                                                   'description': 'Left-hand '\n",
      "                                                                  'side of the '\n",
      "                                                                  'addition',\n",
      "                                                   'label': 'LHS',\n",
      "                                                   'required': True,\n",
      "                                                   'set_in_node': True,\n",
      "                                                   'type': 'float'},\n",
      "                                           'rhs': {'default': None,\n",
      "                                                   'description': 'Right-hand '\n",
      "                                                                  'side of the '\n",
      "                                                                  'addition',\n",
      "                                                   'label': 'RHS',\n",
      "                                                   'required': True,\n",
      "                                                   'set_in_node': True,\n",
      "                                                   'type': 'float'}},\n",
      "                              'num node': {'value': {'default': None,\n",
      "                                                     'description': 'Real '\n",
      "                                                                    'number',\n",
      "                                                     'label': 'Number',\n",
      "                                                     'required': True,\n",
      "                                                     'set_in_node': True,\n",
      "                                                     'type': 'float'}}},\n",
      "                   'outputs': {'add node': {'ans': {'description': 'Result of '\n",
      "                                                                   'the '\n",
      "                                                                   'addition',\n",
      "                                                    'label': 'Answer',\n",
      "                                                    'type': 'float'}}}}}\n"
     ]
    }
   ],
   "source": [
    "pprint(add_response.model_dump()[\"inputs\"])"
   ]
  },
  {
   "cell_type": "code",
   "execution_count": 22,
   "id": "70502e6d",
   "metadata": {},
   "outputs": [
    {
     "name": "stdout",
     "output_type": "stream",
     "text": [
      "{'inputs': {'external_input_id': '_',\n",
      "            'graph': {'nodes': {'add node': {'inputs': {'lhs': {'node_handle': 'add '\n",
      "                                                                               'node_lhs',\n",
      "                                                                'node_name': '_'},\n",
      "                                                        'rhs': {'node_handle': 'value',\n",
      "                                                                'node_name': 'num '\n",
      "                                                                             'node'}},\n",
      "                                             'type': 'Add'},\n",
      "                                'num node': {'inputs': {'value': {'node_handle': 'num '\n",
      "                                                                                 'node_value',\n",
      "                                                                  'node_name': '_'}},\n",
      "                                             'type': 'Number'}}},\n",
      "            'inputs': {'add node_lhs': 4, 'num node_value': '5'},\n",
      "            'requested_output': {'add result': {'node_handle': 'ans',\n",
      "                                                'node_name': 'add node'}},\n",
      "            'tool_metadata': {'inputs': {'add node': {'lhs': {'default': None,\n",
      "                                                              'description': 'Left-hand '\n",
      "                                                                             'side '\n",
      "                                                                             'of '\n",
      "                                                                             'the '\n",
      "                                                                             'addition',\n",
      "                                                              'label': 'LHS',\n",
      "                                                              'required': True,\n",
      "                                                              'set_in_node': True,\n",
      "                                                              'type': 'float'},\n",
      "                                                      'rhs': {'default': None,\n",
      "                                                              'description': 'Right-hand '\n",
      "                                                                             'side '\n",
      "                                                                             'of '\n",
      "                                                                             'the '\n",
      "                                                                             'addition',\n",
      "                                                              'label': 'RHS',\n",
      "                                                              'required': True,\n",
      "                                                              'set_in_node': True,\n",
      "                                                              'type': 'float'}},\n",
      "                                         'num node': {'value': {'default': None,\n",
      "                                                                'description': 'Real '\n",
      "                                                                               'number',\n",
      "                                                                'label': 'Number',\n",
      "                                                                'required': True,\n",
      "                                                                'set_in_node': True,\n",
      "                                                                'type': 'float'}}},\n",
      "                              'outputs': {'add node': {'ans': {'description': 'Result '\n",
      "                                                                              'of '\n",
      "                                                                              'the '\n",
      "                                                                              'addition',\n",
      "                                                               'label': 'Answer',\n",
      "                                                               'type': 'float'}}}}},\n",
      " 'message': 'Job completed at 2025-10-22 10:12:19.120373',\n",
      " 'outputs': {'outputs': {'add result': 9.0}},\n",
      " 'progress': {'add node': {'inputs': {'lhs': 4, 'rhs': 5.0},\n",
      "                           'message': 'Job completed at 2025-10-22 '\n",
      "                                      '10:12:18.501669',\n",
      "                           'outputs': {'ans': 9.0},\n",
      "                           'progress': None,\n",
      "                           'status': <JobStatus.COMPLETED: 'completed'>},\n",
      "              'num node': {'inputs': {'value': '5'},\n",
      "                           'message': 'Job completed at 2025-10-22 '\n",
      "                                      '10:12:14.629073',\n",
      "                           'outputs': {'value': 5.0},\n",
      "                           'progress': None,\n",
      "                           'status': <JobStatus.COMPLETED: 'completed'>}},\n",
      " 'status': <JobStatus.COMPLETED: 'completed'>}\n"
     ]
    }
   ],
   "source": [
    "pprint(add_response.model_dump())"
   ]
  },
  {
   "cell_type": "code",
   "execution_count": null,
   "id": "f6943320",
   "metadata": {},
   "outputs": [],
   "source": []
  }
 ],
 "metadata": {
  "kernelspec": {
   "display_name": "uncertainty-engine-py3.13",
   "language": "python",
   "name": "python3"
  },
  "language_info": {
   "codemirror_mode": {
    "name": "ipython",
    "version": 3
   },
   "file_extension": ".py",
   "mimetype": "text/x-python",
   "name": "python",
   "nbconvert_exporter": "python",
   "pygments_lexer": "ipython3",
   "version": "3.13.5"
  }
 },
 "nbformat": 4,
 "nbformat_minor": 5
}

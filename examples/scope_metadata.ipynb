{
 "cells": [
  {
   "cell_type": "code",
   "execution_count": null,
   "id": "a6a58d75",
   "metadata": {},
   "outputs": [],
   "source": [
    "from uncertainty_engine import Client\n",
    "from pprint import pprint"
   ]
  },
  {
   "cell_type": "code",
   "execution_count": null,
   "id": "3f970ecb",
   "metadata": {},
   "outputs": [],
   "source": [
    "client = Client(\n",
    "    env=\"dev\"\n",
    ")\n",
    "client.authenticate()"
   ]
  },
  {
   "cell_type": "code",
   "execution_count": null,
   "id": "ee705f4a",
   "metadata": {},
   "outputs": [],
   "source": [
    "add_node_info = client.get_node_info(\"Add\")"
   ]
  },
  {
   "cell_type": "code",
   "execution_count": null,
   "id": "a5a3d802",
   "metadata": {},
   "outputs": [],
   "source": [
    "add_node_info.inputs"
   ]
  },
  {
   "cell_type": "code",
   "execution_count": null,
   "id": "a87102d8",
   "metadata": {},
   "outputs": [],
   "source": [
    "add_node_info.outputs"
   ]
  },
  {
   "cell_type": "markdown",
   "id": "162a545b",
   "metadata": {},
   "source": [
    "Okay so can use `get_node_info` to get the required information of the node in \n",
    "order to save the relevent information about the input to the `tool_metadata`"
   ]
  },
  {
   "cell_type": "code",
   "execution_count": null,
   "id": "9bda777c",
   "metadata": {},
   "outputs": [],
   "source": [
    "from uncertainty_engine.nodes.basic import Add\n",
    "from uncertainty_engine.nodes.base import Node"
   ]
  },
  {
   "cell_type": "code",
   "execution_count": null,
   "id": "109dad5e",
   "metadata": {},
   "outputs": [],
   "source": [
    "add_number_info = client.get_node_info(\"Number\")"
   ]
  },
  {
   "cell_type": "markdown",
   "id": "9a1ff7a7",
   "metadata": {},
   "source": [
    "Number node isn't really a SDK thing but useful for this example?"
   ]
  },
  {
   "cell_type": "code",
   "execution_count": null,
   "id": "7702919d",
   "metadata": {},
   "outputs": [],
   "source": [
    "add_number_info"
   ]
  },
  {
   "cell_type": "code",
   "execution_count": null,
   "id": "1f72af22",
   "metadata": {},
   "outputs": [],
   "source": [
    "number_value_input = add_number_info.inputs"
   ]
  },
  {
   "cell_type": "code",
   "execution_count": null,
   "id": "152ea7c3",
   "metadata": {},
   "outputs": [],
   "source": []
  },
  {
   "cell_type": "code",
   "execution_count": null,
   "id": "e0836231",
   "metadata": {},
   "outputs": [],
   "source": [
    "number = Node(\n",
    "    node_name=\"Number\",\n",
    "    label=\"num node\",\n",
    "    value=\"5\",\n",
    ")\n",
    "\n",
    "number.add_tool_input(\"value\", add_number_info)\n",
    "\n",
    "\n",
    "number_handle = number.make_handle(\"value\")\n",
    "\n",
    "add = Add(lhs = 4,\n",
    "          rhs = number_handle,\n",
    "          label=\"add node\")\n",
    "\n",
    "add.add_tool_input(\"lhs\", add_node_info)\n",
    "add.add_tool_input(\"rhs\", add_node_info)\n",
    "add.add_tool_output(\"ans\", add_node_info)\n",
    "\n",
    "output_result = add.make_handle(\"ans\")\n"
   ]
  },
  {
   "cell_type": "code",
   "execution_count": null,
   "id": "8b2d8c58",
   "metadata": {},
   "outputs": [],
   "source": [
    "number.__dict__"
   ]
  },
  {
   "cell_type": "code",
   "execution_count": null,
   "id": "8295daaa",
   "metadata": {},
   "outputs": [],
   "source": [
    "add.__dict__"
   ]
  },
  {
   "cell_type": "code",
   "execution_count": null,
   "id": "05b17b42",
   "metadata": {},
   "outputs": [],
   "source": []
  },
  {
   "cell_type": "code",
   "execution_count": null,
   "id": "9a455de9",
   "metadata": {},
   "outputs": [],
   "source": [
    "from uncertainty_engine.graph import Graph\n",
    "\n",
    "# Create a new graph\n",
    "add_graph = Graph()"
   ]
  },
  {
   "cell_type": "code",
   "execution_count": null,
   "id": "b6abefb5",
   "metadata": {},
   "outputs": [],
   "source": [
    "add_graph.add_node(number)\n",
    "\n",
    "add_graph.add_node(add)\n"
   ]
  },
  {
   "cell_type": "code",
   "execution_count": null,
   "id": "976dd7bb",
   "metadata": {},
   "outputs": [],
   "source": [
    "pprint(add_graph.nodes)"
   ]
  },
  {
   "cell_type": "code",
   "execution_count": null,
   "id": "218a5780",
   "metadata": {},
   "outputs": [],
   "source": [
    "pprint(add_graph.tool_metadata)"
   ]
  },
  {
   "cell_type": "code",
   "execution_count": null,
   "id": "1b0229d5",
   "metadata": {},
   "outputs": [],
   "source": [
    "from uncertainty_engine.nodes.workflow import Workflow"
   ]
  },
  {
   "cell_type": "code",
   "execution_count": null,
   "id": "6587c2f8",
   "metadata": {},
   "outputs": [],
   "source": [
    "add_workflow = Workflow(\n",
    "    graph=add_graph.nodes,\n",
    "    inputs=add_graph.external_input,\n",
    "    external_input_id=add_graph.external_input_id,\n",
    "    tool_metadata=add_graph.tool_metadata,\n",
    "    requested_output={\n",
    "        \"add result\": output_result.model_dump(),\n",
    "        }\n",
    "    )"
   ]
  },
  {
   "cell_type": "code",
   "execution_count": null,
   "id": "cdbf5086",
   "metadata": {},
   "outputs": [],
   "source": [
    "add_workflow.tool_metadata"
   ]
  },
  {
   "cell_type": "code",
   "execution_count": null,
   "id": "5136e59a",
   "metadata": {},
   "outputs": [],
   "source": [
    "add_response = client.run_node(add_workflow)"
   ]
  },
  {
   "cell_type": "code",
   "execution_count": null,
   "id": "8994b09a",
   "metadata": {},
   "outputs": [],
   "source": [
    "pprint(add_response.model_dump()[\"inputs\"])"
   ]
  },
  {
   "cell_type": "code",
   "execution_count": null,
   "id": "70502e6d",
   "metadata": {},
   "outputs": [],
   "source": [
    "pprint(add_response.model_dump())"
   ]
  },
  {
   "cell_type": "code",
   "execution_count": null,
   "id": "f6943320",
   "metadata": {},
   "outputs": [],
   "source": []
  }
 ],
 "metadata": {
  "kernelspec": {
   "display_name": "uncertainty-engine-sfnf_qYZ-py3.11",
   "language": "python",
   "name": "python3"
  },
  "language_info": {
   "codemirror_mode": {
    "name": "ipython",
    "version": 3
   },
   "file_extension": ".py",
   "mimetype": "text/x-python",
   "name": "python",
   "nbconvert_exporter": "python",
   "pygments_lexer": "ipython3",
   "version": "3.11.12"
  }
 },
 "nbformat": 4,
 "nbformat_minor": 5
}

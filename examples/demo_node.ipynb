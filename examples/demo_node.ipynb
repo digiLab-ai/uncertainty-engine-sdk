{
 "cells": [
  {
   "cell_type": "markdown",
   "metadata": {},
   "source": [
    "# Uncertainty Engine SDK basic usage - nodes\n",
    "\n",
    "This notebook goes through some of the basic functionality of the SDK. It demonstrates how to initialize the `Client`, which is used to facilitate all interactions with the Uncertainty Engine, and uses the `Add` node to demonstrate how nodes can be executed.\n"
   ]
  },
  {
   "cell_type": "markdown",
   "metadata": {},
   "source": [
    "## The `Client`"
   ]
  },
  {
   "cell_type": "markdown",
   "metadata": {},
   "source": [
    "Start by importing the `Client`.\n"
   ]
  },
  {
   "cell_type": "code",
   "execution_count": 1,
   "metadata": {},
   "outputs": [],
   "source": [
    "from uncertainty_engine.client import Client"
   ]
  },
  {
   "cell_type": "markdown",
   "metadata": {},
   "source": [
    "Next initialize the `Client` with your email address and the Uncertainty Engine deployment URL you wish to target.\n"
   ]
  },
  {
   "cell_type": "code",
   "execution_count": 2,
   "metadata": {},
   "outputs": [],
   "source": [
    "client = Client(\n",
    "    email=\"jasper@digilab.ai\",  # Note: There must be token associated with this email.\n",
    "    deployment=\"https://07y3pw9ud1.execute-api.eu-west-2.amazonaws.com/\",\n",
    "    resource_deployment=\"https://tu8vus047g.execute-api.eu-west-2.amazonaws.com\"\n",
    ")"
   ]
  },
  {
   "cell_type": "markdown",
   "metadata": {},
   "source": [
    "The `Client` is an important concept in the SDK as all interactions with the Uncertainty Engine go through the `Client`. We can use the `client` object to list all the available nodes, or by passing a `category`, filter this list for the nodes we want. We will filter by the `\"Basic\"` category.\n",
    "\n",
    "(We use `pprint` to make the data display a bit nicer)\n"
   ]
  },
  {
   "cell_type": "code",
   "execution_count": 3,
   "metadata": {},
   "outputs": [
    {
     "name": "stdout",
     "output_type": "stream",
     "text": [
      "[{'cache_url': 'redis-13325.c338.eu-west-2-1.ec2.redns.redis-cloud.com',\n",
      "  'category': 'Basic',\n",
      "  'cost': 1,\n",
      "  'description': 'Sum two numbers',\n",
      "  'id': 'Add',\n",
      "  'image_name': 'uncertainty-engine-add-node',\n",
      "  'inputs': {'lhs': {'default': None,\n",
      "                     'description': 'Left-hand side of the addition',\n",
      "                     'label': 'LHS',\n",
      "                     'required': True,\n",
      "                     'set_in_node': True,\n",
      "                     'type': 'float'},\n",
      "             'rhs': {'default': None,\n",
      "                     'description': 'Right-hand side of the addition',\n",
      "                     'label': 'RHS',\n",
      "                     'required': True,\n",
      "                     'set_in_node': True,\n",
      "                     'type': 'float'}},\n",
      "  'label': 'Add',\n",
      "  'load_balancer_url': 'http://uncert-LoadB-WKNV59RSt2W3-301624139.eu-west-2.elb.amazonaws.com',\n",
      "  'long_description': 'Add two numbers together',\n",
      "  'outputs': {'ans': {'description': 'Result of the addition',\n",
      "                      'label': 'Answer',\n",
      "                      'type': 'float'}},\n",
      "  'queue_url': 'https://sqs.eu-west-2.amazonaws.com/939027885851/uncertainty-engine-add-node-dev-Queue-Y8DkY8tZPdKV',\n",
      "  'requirements': None,\n",
      "  'version_base_image': 2,\n",
      "  'version_node': 3,\n",
      "  'version_types_lib': '0.0.8'}]\n"
     ]
    }
   ],
   "source": [
    "from pprint import pprint\n",
    "\n",
    "pprint(client.list_nodes(category=\"Basic\"))"
   ]
  },
  {
   "cell_type": "markdown",
   "metadata": {},
   "source": [
    "The result of the above cell gives us some detail about all the nodes in the `\"Basic\"` category. There is only one; the `Add` node. We can see that this information contains things like the cost of running the node (in tokens) and the inputs and outputs of the nodes along with the corresponding types. This information can be retrieved for all Uncertainty Engine nodes."
   ]
  },
  {
   "cell_type": "code",
   "execution_count": 4,
   "metadata": {},
   "outputs": [],
   "source": [
    "client.authenticate(\"67bf2b881deba2985079ae95\")"
   ]
  },
  {
   "cell_type": "code",
   "execution_count": 5,
   "metadata": {},
   "outputs": [
    {
     "ename": "UnauthorizedException",
     "evalue": "(401)\nReason: Unauthorized\nHTTP response headers: HTTPHeaderDict({'Date': 'Mon, 12 May 2025 10:03:53 GMT', 'Content-Type': 'application/json', 'Content-Length': '26', 'Connection': 'keep-alive', 'www-authenticate': 'Bearer', 'apigw-requestid': 'KcwdeiW6rPEENjw='})\nHTTP response body: {\"message\":\"Unauthorized\"}\n",
     "output_type": "error",
     "traceback": [
      "\u001b[0;31m---------------------------------------------------------------------------\u001b[0m",
      "\u001b[0;31mUnauthorizedException\u001b[0m                     Traceback (most recent call last)",
      "Cell \u001b[0;32mIn[5], line 1\u001b[0m\n\u001b[0;32m----> 1\u001b[0m \u001b[43mclient\u001b[49m\u001b[38;5;241;43m.\u001b[39;49m\u001b[43mresources\u001b[49m\u001b[38;5;241;43m.\u001b[39;49m\u001b[43mlist\u001b[49m\u001b[43m(\u001b[49m\u001b[38;5;124;43m\"\u001b[39;49m\u001b[38;5;124;43m67bf2b881deba2985079ae95\u001b[39;49m\u001b[38;5;124;43m\"\u001b[39;49m\u001b[43m,\u001b[49m\u001b[43m \u001b[49m\u001b[38;5;124;43m\"\u001b[39;49m\u001b[38;5;124;43mdataset\u001b[39;49m\u001b[38;5;124;43m\"\u001b[39;49m\u001b[43m)\u001b[49m\n",
      "File \u001b[0;32m~/uncertainty-engine/uncertainty-engine-sdk/uncertainty_engine/api_providers/resource_provider.py:352\u001b[0m, in \u001b[0;36mResourceProvider.list\u001b[0;34m(self, project_id, resource_type)\u001b[0m\n\u001b[1;32m    330\u001b[0m \u001b[38;5;28;01mdef\u001b[39;00m\u001b[38;5;250m \u001b[39m\u001b[38;5;21mlist\u001b[39m(\u001b[38;5;28mself\u001b[39m, project_id, resource_type: \u001b[38;5;28mstr\u001b[39m) \u001b[38;5;241m-\u001b[39m\u001b[38;5;241m>\u001b[39m \u001b[38;5;28mlist\u001b[39m:\n\u001b[1;32m    331\u001b[0m \u001b[38;5;250m    \u001b[39m\u001b[38;5;124;03m\"\"\"\u001b[39;00m\n\u001b[1;32m    332\u001b[0m \u001b[38;5;124;03m    Get a list of all resources of a specific type in your project.\u001b[39;00m\n\u001b[1;32m    333\u001b[0m \n\u001b[0;32m   (...)\u001b[0m\n\u001b[1;32m    350\u001b[0m \u001b[38;5;124;03m        >>> print(models)\u001b[39;00m\n\u001b[1;32m    351\u001b[0m \u001b[38;5;124;03m    \"\"\"\u001b[39;00m\n\u001b[0;32m--> 352\u001b[0m     resource_records \u001b[38;5;241m=\u001b[39m \u001b[38;5;28;43mself\u001b[39;49m\u001b[38;5;241;43m.\u001b[39;49m\u001b[43mresources_client\u001b[49m\u001b[38;5;241;43m.\u001b[39;49m\u001b[43mget_project_resource_records\u001b[49m\u001b[43m(\u001b[49m\n\u001b[1;32m    353\u001b[0m \u001b[43m        \u001b[49m\u001b[43mproject_id\u001b[49m\u001b[43m,\u001b[49m\u001b[43m \u001b[49m\u001b[43mresource_type\u001b[49m\n\u001b[1;32m    354\u001b[0m \u001b[43m    \u001b[49m\u001b[43m)\u001b[49m\u001b[38;5;241m.\u001b[39mresource_records\n\u001b[1;32m    356\u001b[0m     \u001b[38;5;28;01mreturn\u001b[39;00m [\n\u001b[1;32m    357\u001b[0m         {\n\u001b[1;32m    358\u001b[0m             \u001b[38;5;124m\"\u001b[39m\u001b[38;5;124mid\u001b[39m\u001b[38;5;124m\"\u001b[39m: record\u001b[38;5;241m.\u001b[39mid,\n\u001b[0;32m   (...)\u001b[0m\n\u001b[1;32m    362\u001b[0m         \u001b[38;5;28;01mfor\u001b[39;00m record \u001b[38;5;129;01min\u001b[39;00m resource_records\n\u001b[1;32m    363\u001b[0m     ]\n",
      "File \u001b[0;32m~/uncertainty-engine/uncertainty-engine-sdk/.venv/lib/python3.12/site-packages/pydantic/_internal/_validate_call.py:39\u001b[0m, in \u001b[0;36mupdate_wrapper_attributes.<locals>.wrapper_function\u001b[0;34m(*args, **kwargs)\u001b[0m\n\u001b[1;32m     37\u001b[0m \u001b[38;5;129m@functools\u001b[39m\u001b[38;5;241m.\u001b[39mwraps(wrapped)\n\u001b[1;32m     38\u001b[0m \u001b[38;5;28;01mdef\u001b[39;00m\u001b[38;5;250m \u001b[39m\u001b[38;5;21mwrapper_function\u001b[39m(\u001b[38;5;241m*\u001b[39margs, \u001b[38;5;241m*\u001b[39m\u001b[38;5;241m*\u001b[39mkwargs):\n\u001b[0;32m---> 39\u001b[0m     \u001b[38;5;28;01mreturn\u001b[39;00m \u001b[43mwrapper\u001b[49m\u001b[43m(\u001b[49m\u001b[38;5;241;43m*\u001b[39;49m\u001b[43margs\u001b[49m\u001b[43m,\u001b[49m\u001b[43m \u001b[49m\u001b[38;5;241;43m*\u001b[39;49m\u001b[38;5;241;43m*\u001b[39;49m\u001b[43mkwargs\u001b[49m\u001b[43m)\u001b[49m\n",
      "File \u001b[0;32m~/uncertainty-engine/uncertainty-engine-sdk/.venv/lib/python3.12/site-packages/pydantic/_internal/_validate_call.py:136\u001b[0m, in \u001b[0;36mValidateCallWrapper.__call__\u001b[0;34m(self, *args, **kwargs)\u001b[0m\n\u001b[1;32m    133\u001b[0m \u001b[38;5;28;01mif\u001b[39;00m \u001b[38;5;129;01mnot\u001b[39;00m \u001b[38;5;28mself\u001b[39m\u001b[38;5;241m.\u001b[39m__pydantic_complete__:\n\u001b[1;32m    134\u001b[0m     \u001b[38;5;28mself\u001b[39m\u001b[38;5;241m.\u001b[39m_create_validators()\n\u001b[0;32m--> 136\u001b[0m res \u001b[38;5;241m=\u001b[39m \u001b[38;5;28;43mself\u001b[39;49m\u001b[38;5;241;43m.\u001b[39;49m\u001b[43m__pydantic_validator__\u001b[49m\u001b[38;5;241;43m.\u001b[39;49m\u001b[43mvalidate_python\u001b[49m\u001b[43m(\u001b[49m\u001b[43mpydantic_core\u001b[49m\u001b[38;5;241;43m.\u001b[39;49m\u001b[43mArgsKwargs\u001b[49m\u001b[43m(\u001b[49m\u001b[43margs\u001b[49m\u001b[43m,\u001b[49m\u001b[43m \u001b[49m\u001b[43mkwargs\u001b[49m\u001b[43m)\u001b[49m\u001b[43m)\u001b[49m\n\u001b[1;32m    137\u001b[0m \u001b[38;5;28;01mif\u001b[39;00m \u001b[38;5;28mself\u001b[39m\u001b[38;5;241m.\u001b[39m__return_pydantic_validator__:\n\u001b[1;32m    138\u001b[0m     \u001b[38;5;28;01mreturn\u001b[39;00m \u001b[38;5;28mself\u001b[39m\u001b[38;5;241m.\u001b[39m__return_pydantic_validator__(res)\n",
      "File \u001b[0;32m~/uncertainty-engine/uncertainty-engine-sdk/.venv/lib/python3.12/site-packages/uncertainty_engine_resource_client/api/resources_api.py:1008\u001b[0m, in \u001b[0;36mResourcesApi.get_project_resource_records\u001b[0;34m(self, project_id, resource_type, _request_timeout, _request_auth, _content_type, _headers, _host_index)\u001b[0m\n\u001b[1;32m   1003\u001b[0m response_data \u001b[38;5;241m=\u001b[39m \u001b[38;5;28mself\u001b[39m\u001b[38;5;241m.\u001b[39mapi_client\u001b[38;5;241m.\u001b[39mcall_api(\n\u001b[1;32m   1004\u001b[0m     \u001b[38;5;241m*\u001b[39m_param,\n\u001b[1;32m   1005\u001b[0m     _request_timeout\u001b[38;5;241m=\u001b[39m_request_timeout\n\u001b[1;32m   1006\u001b[0m )\n\u001b[1;32m   1007\u001b[0m response_data\u001b[38;5;241m.\u001b[39mread()\n\u001b[0;32m-> 1008\u001b[0m \u001b[38;5;28;01mreturn\u001b[39;00m \u001b[38;5;28;43mself\u001b[39;49m\u001b[38;5;241;43m.\u001b[39;49m\u001b[43mapi_client\u001b[49m\u001b[38;5;241;43m.\u001b[39;49m\u001b[43mresponse_deserialize\u001b[49m\u001b[43m(\u001b[49m\n\u001b[1;32m   1009\u001b[0m \u001b[43m    \u001b[49m\u001b[43mresponse_data\u001b[49m\u001b[38;5;241;43m=\u001b[39;49m\u001b[43mresponse_data\u001b[49m\u001b[43m,\u001b[49m\n\u001b[1;32m   1010\u001b[0m \u001b[43m    \u001b[49m\u001b[43mresponse_types_map\u001b[49m\u001b[38;5;241;43m=\u001b[39;49m\u001b[43m_response_types_map\u001b[49m\u001b[43m,\u001b[49m\n\u001b[1;32m   1011\u001b[0m \u001b[43m\u001b[49m\u001b[43m)\u001b[49m\u001b[38;5;241m.\u001b[39mdata\n",
      "File \u001b[0;32m~/uncertainty-engine/uncertainty-engine-sdk/.venv/lib/python3.12/site-packages/uncertainty_engine_resource_client/api_client.py:323\u001b[0m, in \u001b[0;36mApiClient.response_deserialize\u001b[0;34m(self, response_data, response_types_map)\u001b[0m\n\u001b[1;32m    321\u001b[0m \u001b[38;5;28;01mfinally\u001b[39;00m:\n\u001b[1;32m    322\u001b[0m     \u001b[38;5;28;01mif\u001b[39;00m \u001b[38;5;129;01mnot\u001b[39;00m \u001b[38;5;241m200\u001b[39m \u001b[38;5;241m<\u001b[39m\u001b[38;5;241m=\u001b[39m response_data\u001b[38;5;241m.\u001b[39mstatus \u001b[38;5;241m<\u001b[39m\u001b[38;5;241m=\u001b[39m \u001b[38;5;241m299\u001b[39m:\n\u001b[0;32m--> 323\u001b[0m         \u001b[38;5;28;01mraise\u001b[39;00m \u001b[43mApiException\u001b[49m\u001b[38;5;241;43m.\u001b[39;49m\u001b[43mfrom_response\u001b[49m\u001b[43m(\u001b[49m\n\u001b[1;32m    324\u001b[0m \u001b[43m            \u001b[49m\u001b[43mhttp_resp\u001b[49m\u001b[38;5;241;43m=\u001b[39;49m\u001b[43mresponse_data\u001b[49m\u001b[43m,\u001b[49m\n\u001b[1;32m    325\u001b[0m \u001b[43m            \u001b[49m\u001b[43mbody\u001b[49m\u001b[38;5;241;43m=\u001b[39;49m\u001b[43mresponse_text\u001b[49m\u001b[43m,\u001b[49m\n\u001b[1;32m    326\u001b[0m \u001b[43m            \u001b[49m\u001b[43mdata\u001b[49m\u001b[38;5;241;43m=\u001b[39;49m\u001b[43mreturn_data\u001b[49m\u001b[43m,\u001b[49m\n\u001b[1;32m    327\u001b[0m \u001b[43m        \u001b[49m\u001b[43m)\u001b[49m\n\u001b[1;32m    329\u001b[0m \u001b[38;5;28;01mreturn\u001b[39;00m ApiResponse(\n\u001b[1;32m    330\u001b[0m     status_code \u001b[38;5;241m=\u001b[39m response_data\u001b[38;5;241m.\u001b[39mstatus,\n\u001b[1;32m    331\u001b[0m     data \u001b[38;5;241m=\u001b[39m return_data,\n\u001b[1;32m    332\u001b[0m     headers \u001b[38;5;241m=\u001b[39m response_data\u001b[38;5;241m.\u001b[39mgetheaders(),\n\u001b[1;32m    333\u001b[0m     raw_data \u001b[38;5;241m=\u001b[39m response_data\u001b[38;5;241m.\u001b[39mdata\n\u001b[1;32m    334\u001b[0m )\n",
      "File \u001b[0;32m~/uncertainty-engine/uncertainty-engine-sdk/.venv/lib/python3.12/site-packages/uncertainty_engine_resource_client/exceptions.py:145\u001b[0m, in \u001b[0;36mApiException.from_response\u001b[0;34m(cls, http_resp, body, data)\u001b[0m\n\u001b[1;32m    142\u001b[0m     \u001b[38;5;28;01mraise\u001b[39;00m BadRequestException(http_resp\u001b[38;5;241m=\u001b[39mhttp_resp, body\u001b[38;5;241m=\u001b[39mbody, data\u001b[38;5;241m=\u001b[39mdata)\n\u001b[1;32m    144\u001b[0m \u001b[38;5;28;01mif\u001b[39;00m http_resp\u001b[38;5;241m.\u001b[39mstatus \u001b[38;5;241m==\u001b[39m \u001b[38;5;241m401\u001b[39m:\n\u001b[0;32m--> 145\u001b[0m     \u001b[38;5;28;01mraise\u001b[39;00m UnauthorizedException(http_resp\u001b[38;5;241m=\u001b[39mhttp_resp, body\u001b[38;5;241m=\u001b[39mbody, data\u001b[38;5;241m=\u001b[39mdata)\n\u001b[1;32m    147\u001b[0m \u001b[38;5;28;01mif\u001b[39;00m http_resp\u001b[38;5;241m.\u001b[39mstatus \u001b[38;5;241m==\u001b[39m \u001b[38;5;241m403\u001b[39m:\n\u001b[1;32m    148\u001b[0m     \u001b[38;5;28;01mraise\u001b[39;00m ForbiddenException(http_resp\u001b[38;5;241m=\u001b[39mhttp_resp, body\u001b[38;5;241m=\u001b[39mbody, data\u001b[38;5;241m=\u001b[39mdata)\n",
      "\u001b[0;31mUnauthorizedException\u001b[0m: (401)\nReason: Unauthorized\nHTTP response headers: HTTPHeaderDict({'Date': 'Mon, 12 May 2025 10:03:53 GMT', 'Content-Type': 'application/json', 'Content-Length': '26', 'Connection': 'keep-alive', 'www-authenticate': 'Bearer', 'apigw-requestid': 'KcwdeiW6rPEENjw='})\nHTTP response body: {\"message\":\"Unauthorized\"}\n"
     ]
    }
   ],
   "source": [
    "client.resources.list(\"67bf2b881deba2985079ae95\", \"dataset\")"
   ]
  },
  {
   "cell_type": "markdown",
   "metadata": {},
   "source": [
    "## Node execution"
   ]
  },
  {
   "cell_type": "markdown",
   "metadata": {},
   "source": [
    "To initialize the `Add` node in the SDK we first import it from the relevant module."
   ]
  },
  {
   "cell_type": "code",
   "execution_count": null,
   "metadata": {},
   "outputs": [],
   "source": [
    "from uncertainty_engine.nodes.basic import Add"
   ]
  },
  {
   "cell_type": "markdown",
   "metadata": {},
   "source": [
    "We then initialize the node with the required inputs."
   ]
  },
  {
   "cell_type": "code",
   "execution_count": null,
   "metadata": {},
   "outputs": [],
   "source": [
    "add = Add(lhs=1, rhs=2)"
   ]
  },
  {
   "cell_type": "markdown",
   "metadata": {},
   "source": [
    "To execute this node we can use the `run_node` or `queue_node` methods of the `client`. The only difference between these two methods is that `run_node` queues a node for execution and then waits for it to execute and `queue_node` submits the node to the queue and then returns a job ID that can be used to check if the node has executed. For simplicity we'll use the `run_node` method."
   ]
  },
  {
   "cell_type": "code",
   "execution_count": null,
   "metadata": {},
   "outputs": [
    {
     "name": "stdout",
     "output_type": "stream",
     "text": [
      "{'inputs': {'lhs': 1, 'rhs': 2},\n",
      " 'message': 'Job completed at 2025-03-11 13:38:52.150825',\n",
      " 'outputs': {'ans': 3.0},\n",
      " 'status': 'completed'}\n"
     ]
    }
   ],
   "source": [
    "response = client.run_node(add)\n",
    "pprint(response)"
   ]
  },
  {
   "cell_type": "markdown",
   "metadata": {},
   "source": [
    "We can see from the above cell that the response from the Uncertainty Engine shows the status of the job along with it's ID, and the resulting output."
   ]
  },
  {
   "cell_type": "markdown",
   "metadata": {},
   "source": [
    "Although the result here is a simple one that we could have achieved very easily without the Uncertainty Engine, all Uncertainty Engine nodes behave in the same way. This means that if you're comfortable with the concepts covered in this notebook you're ready to run **any** Uncertainty Engine node."
   ]
  },
  {
   "cell_type": "markdown",
   "metadata": {},
   "source": [
    "Checkout our other example notebooks to find out how to construct workflows out of multiple nodes and see example execution of some more complex nodes."
   ]
  }
 ],
 "metadata": {
  "kernelspec": {
   "display_name": ".venv",
   "language": "python",
   "name": "python3"
  },
  "language_info": {
   "codemirror_mode": {
    "name": "ipython",
    "version": 3
   },
   "file_extension": ".py",
   "mimetype": "text/x-python",
   "name": "python",
   "nbconvert_exporter": "python",
   "pygments_lexer": "ipython3",
   "version": "3.12.9"
  }
 },
 "nbformat": 4,
 "nbformat_minor": 2
}

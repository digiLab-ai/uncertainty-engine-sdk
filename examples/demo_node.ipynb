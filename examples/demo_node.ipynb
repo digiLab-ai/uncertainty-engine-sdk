{
 "cells": [
  {
   "cell_type": "markdown",
   "metadata": {},
   "source": [
    "# Uncertainty Engine SDK basic usage - nodes\n",
    "\n",
    "This notebook goes through some of the basic functionality of the SDK as demonstrated in the [`demo_add.ipynb`](./demo_add.ipynb) notebook, but uses the `Node` class which can be used to run **any** node on the Uncertainty Engine.\n",
    "\n",
    "If you haven't yet taken a look at [`demo_add.ipynb`](./demo_add.ipynb) we recommend you check it out first as it will take you through the basic of the Uncertainty Engine `Client` and how to sue it."
   ]
  },
  {
   "cell_type": "markdown",
   "metadata": {},
   "source": [
    "## The `Client`"
   ]
  },
  {
   "cell_type": "markdown",
   "metadata": {},
   "source": [
    "Start by importing and initialising the `Client`.\n"
   ]
  },
  {
   "cell_type": "code",
   "execution_count": null,
   "metadata": {},
   "outputs": [],
   "source": [
    "from uncertainty_engine.client import Client\n",
    "\n",
    "client = Client(\n",
    "    email=\"<your-email>\",  # Note: There must be token associated with this email.\n",
    "    deployment=\"<a-deployment-url>\",\n",
    ")"
   ]
  },
  {
   "cell_type": "markdown",
   "metadata": {},
   "source": [
    "## Node execution"
   ]
  },
  {
   "cell_type": "markdown",
   "metadata": {},
   "source": [
    "To initialise a `Node` in the SDK we first import it from the relevant module."
   ]
  },
  {
   "cell_type": "code",
   "execution_count": 2,
   "metadata": {},
   "outputs": [],
   "source": [
    "from uncertainty_engine.nodes.basic import Node"
   ]
  },
  {
   "cell_type": "markdown",
   "metadata": {},
   "source": [
    "There are currently importable classes for `Add`, `Workflow` and the `SensorDesigner` nodes. However, we can create and run nodes more generically by using the `Node` class and passing the node we wish to define as the `node_name`. The following cell demonstrated how you create and run a node using the `Node` class."
   ]
  },
  {
   "cell_type": "code",
   "execution_count": 3,
   "metadata": {},
   "outputs": [],
   "source": [
    "add = Node(\n",
    "  node_name=\"Add\", # the type of node you want to create\n",
    "  lhs=3, # left-hand side input\n",
    "  rhs=4, # right-hand side input\n",
    "  label=\"Add Node\" # label for the node\n",
    ")"
   ]
  },
  {
   "cell_type": "markdown",
   "metadata": {},
   "source": [
    "Once you have defined your `add` node it can be run in the same way as the `add` node in the previous notebook was run using either the `run_node` or `queue_node` methods of the `client`. In this example we will use the `run_node` method."
   ]
  },
  {
   "cell_type": "code",
   "execution_count": 4,
   "metadata": {},
   "outputs": [
    {
     "name": "stdout",
     "output_type": "stream",
     "text": [
      "{'inputs': {'lhs': 3, 'rhs': 4},\n",
      " 'message': 'Job completed at 2025-05-27 08:55:17.218045',\n",
      " 'outputs': {'ans': 7.0},\n",
      " 'progress': None,\n",
      " 'status': 'completed'}\n"
     ]
    }
   ],
   "source": [
    "from pprint import pprint\n",
    "\n",
    "response = client.run_node(add)\n",
    "pprint(response)"
   ]
  },
  {
   "cell_type": "markdown",
   "metadata": {},
   "source": [
    "We can see from the above cell that the response from the Uncertainty Engine shows the type of node we are queueing and its job ID, and the resulting output."
   ]
  },
  {
   "cell_type": "markdown",
   "metadata": {},
   "source": [
    "Although the result here is a simple one that we could have achieved very easily without the Uncertainty Engine, all Uncertainty Engine nodes behave in the same way. This means that if you're comfortable with the concepts covered in this notebook you're ready to run **any** Uncertainty Engine node."
   ]
  },
  {
   "cell_type": "markdown",
   "metadata": {},
   "source": [
    "Checkout [`demo_workflow.ipynb`](./demo_workflow.ipynb) to find out how to construct end execute workflows out of multiple nodes."
   ]
  }
 ],
 "metadata": {
  "kernelspec": {
   "display_name": ".venv",
   "language": "python",
   "name": "python3"
  },
  "language_info": {
   "codemirror_mode": {
    "name": "ipython",
    "version": 3
   },
   "file_extension": ".py",
   "mimetype": "text/x-python",
   "name": "python",
   "nbconvert_exporter": "python",
   "pygments_lexer": "ipython3",
   "version": "3.12.8"
  }
 },
 "nbformat": 4,
 "nbformat_minor": 2
}

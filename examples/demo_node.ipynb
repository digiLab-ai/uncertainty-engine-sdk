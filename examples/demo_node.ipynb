{
 "cells": [
  {
   "cell_type": "markdown",
   "metadata": {},
   "source": [
    "# Uncertainty Engine SDK basic usage\n",
    "\n",
    "This notebook goes through some of the basic functionality of the SDK. It demonstrates how to initialize the `Client`, which is used to facilitate all interactions with the Uncertainty Engine, and uses the `Add` node to demonstrate how nodes can be executed.\n"
   ]
  },
  {
   "cell_type": "markdown",
   "metadata": {},
   "source": [
    "Start by importing the `Client`.\n"
   ]
  },
  {
   "cell_type": "code",
   "execution_count": 1,
   "metadata": {},
   "outputs": [],
   "source": [
    "from uncertainty_engine.client import Client"
   ]
  },
  {
   "cell_type": "markdown",
   "metadata": {},
   "source": [
    "Next initialize the `Client` with your email address and the Uncertainty Engine deployment URL you wish to target.\n"
   ]
  },
  {
   "cell_type": "code",
   "execution_count": 2,
   "metadata": {},
   "outputs": [],
   "source": [
    "client = Client(\n",
    "    email=\"<you-email>\",  # Note: There must be token associated with this email.\n",
    "    deployment=\"<a-deployment-url>\",\n",
    ")"
   ]
  },
  {
   "cell_type": "markdown",
   "metadata": {},
   "source": [
    "The `Client` is an important concept in the SDK as all interactions with the Uncertainty Engine go through the `Client`. We can use the `client` object to list all the available nodes, or by passing a `category`, filter this list for the nodes we want. We will filter by the `\"demo\"` category.\n"
   ]
  },
  {
   "cell_type": "code",
   "execution_count": 3,
   "metadata": {},
   "outputs": [
    {
     "data": {
      "text/plain": [
       "[{'type': 'Add',\n",
       "  'category': 'demo',\n",
       "  'cost': 1,\n",
       "  'token': 'Standard',\n",
       "  'short_description': 'Add two numbers together.',\n",
       "  'long_description': '',\n",
       "  'inputs': {'lhs': {'type': 'float',\n",
       "    'label': 'LHS',\n",
       "    'description': 'Left hand side of the addition.',\n",
       "    'required': True,\n",
       "    'default': None},\n",
       "   'rhs': {'type': 'float',\n",
       "    'label': 'RHS',\n",
       "    'description': 'Right hand side of the addition.',\n",
       "    'required': True,\n",
       "    'default': None}},\n",
       "  'outputs': {'ans': {'type': 'int',\n",
       "    'label': 'Answer',\n",
       "    'description': 'Result of the addition.'}}}]"
      ]
     },
     "execution_count": 3,
     "metadata": {},
     "output_type": "execute_result"
    }
   ],
   "source": [
    "client.list_nodes(category=\"demo\")"
   ]
  },
  {
   "cell_type": "markdown",
   "metadata": {},
   "source": [
    "The result of the above cell gives us some detail about all the nodes in the `\"demo\"` category. There is only one; the `Add` node. We can see that this information contains things like the cost of running the node (in tokens) and the inputs and outputs of the nodes along with the corresponding types. This information can be retrieved for all Uncertainty Engine nodes."
   ]
  },
  {
   "cell_type": "markdown",
   "metadata": {},
   "source": [
    "To initialize the `Add` node in the SDK we first import it from the relevant module."
   ]
  },
  {
   "cell_type": "code",
   "execution_count": 4,
   "metadata": {},
   "outputs": [],
   "source": [
    "from uncertainty_engine.nodes.demo import Add"
   ]
  },
  {
   "cell_type": "markdown",
   "metadata": {},
   "source": [
    "We then initialize the node with the required inputs."
   ]
  },
  {
   "cell_type": "code",
   "execution_count": 5,
   "metadata": {},
   "outputs": [],
   "source": [
    "add = Add(lhs=1, rhs=2)"
   ]
  },
  {
   "cell_type": "markdown",
   "metadata": {},
   "source": [
    "To execute this node we can use the `run_node` or `queue_node` methods of the `client`. The only difference between these two methods is that `run_node` queues a node for execution and then waits for it to execute and `queue_node` submits the node to the queue and then returns a job ID that can be used to check if the node has executed. For simplicity we'll use the `run_node` method."
   ]
  },
  {
   "cell_type": "code",
   "execution_count": 6,
   "metadata": {},
   "outputs": [
    {
     "data": {
      "text/plain": [
       "{'status': 'SUCCESS',\n",
       " 'task_id': '160a7810-cf77-4390-b498-785035bec628',\n",
       " 'output': {'ans': 3}}"
      ]
     },
     "execution_count": 6,
     "metadata": {},
     "output_type": "execute_result"
    }
   ],
   "source": [
    "response = client.run_node(add)\n",
    "response"
   ]
  },
  {
   "cell_type": "markdown",
   "metadata": {},
   "source": [
    "We can see from the above cell that the response from the Uncertainty Engine shows the status of the job along with it's ID, and the resulting output."
   ]
  },
  {
   "cell_type": "markdown",
   "metadata": {},
   "source": [
    "Although the result here is a simple one that we could have achieved very easily without the Uncertainty Engine, all Uncertainty Engine nodes behave in the same way. This means that if you're comfortable with the concepts covered in this notebook you're ready to run **any** Uncertainty Engine node."
   ]
  },
  {
   "cell_type": "markdown",
   "metadata": {},
   "source": [
    "Checkout our other example notebooks to find out how to construct workflows out of multiple nodes and see example execute of some more complex nodes."
   ]
  }
 ],
 "metadata": {
  "kernelspec": {
   "display_name": "uncertainty-engine-Jm6ucIAS-py3.12",
   "language": "python",
   "name": "python3"
  },
  "language_info": {
   "codemirror_mode": {
    "name": "ipython",
    "version": 3
   },
   "file_extension": ".py",
   "mimetype": "text/x-python",
   "name": "python",
   "nbconvert_exporter": "python",
   "pygments_lexer": "ipython3",
   "version": "3.12.8"
  }
 },
 "nbformat": 4,
 "nbformat_minor": 2
}

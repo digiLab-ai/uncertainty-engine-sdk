{
 "cells": [
  {
   "cell_type": "markdown",
   "id": "c6392db1",
   "metadata": {},
   "source": [
    "# Uncertainty Engine SDK example workflows - train & predict\n",
    "\n",
    "This notebook goes through how you would set up a workflow to train and save a machine-learning model using the `TrainModel` node and then make predictions on new data using the `PredictModel` node. If you haven't yet viewed [`demo_node.ipynb`](./demo_node.ipynb) or [`demo_workflow.ipynb`](./demo_workflow.ipynb) then take a look at them first as they take you through the basics of creating nodes and workflows using the Uncertainty Engine."
   ]
  },
  {
   "cell_type": "markdown",
   "id": "37a334f5",
   "metadata": {},
   "source": [
    "Start by importing and initializing the `Client` (for more details about the client see the `demo_node.ipynb` example). "
   ]
  },
  {
   "cell_type": "code",
   "execution_count": null,
   "id": "dcf999f5",
   "metadata": {},
   "outputs": [],
   "source": [
    "from uncertainty_engine.client import Client\n",
    "\n",
    "client = Client(\n",
    "    email=\"<your-email>\",  # Note: There must be token associated with this email.\n",
    "    deployment=\"<a-deployment-url>\",\n",
    ")"
   ]
  },
  {
   "cell_type": "markdown",
   "id": "0465b463",
   "metadata": {},
   "source": [
    "## Part 1: Building and running a **train** workflow"
   ]
  },
  {
   "cell_type": "markdown",
   "id": "a6dd74d8",
   "metadata": {},
   "source": [
    "### Viewing the nodes"
   ]
  },
  {
   "cell_type": "markdown",
   "id": "ef237c09",
   "metadata": {},
   "source": [
    "Once you have initialised the Uncertainty Engine client you can use the `list_nodes` method to view the available nodes."
   ]
  },
  {
   "cell_type": "code",
   "execution_count": 2,
   "id": "d608d0c8",
   "metadata": {},
   "outputs": [
    {
     "name": "stdout",
     "output_type": "stream",
     "text": [
      "['Add', 'AnalyseVariance', 'AppendDataset', 'BuildSensorDesigner', 'CoralScop', 'CreateChat', 'CreateDatasetSlice', 'CreateFEM', 'CustomPython', 'Dict', 'Display', 'Download', 'EmbeddingsConfig', 'FilterDataset', 'GetContext', 'Join', 'KaustWP6PH', 'LLMConfig', 'Load', 'LoadChatHistory', 'LoadDataset', 'LoadDocument', 'LoadModel', 'LoadMultiple', 'Message', 'ModelConfig', 'Number', 'PcdProcessing', 'PredictModel', 'PromptLLM', 'Recommend', 'Save', 'ScoreModel', 'ScoreSensorDesign', 'SimpleLLM', 'Splitter', 'StereoReconstruction', 'SuggestSensorDesign', 'Text', 'TrainModel', 'UncertaintyPlot', 'Workflow']\n"
     ]
    }
   ],
   "source": [
    " # Create a dictionary with node IDs as keys\n",
    "nodes = client.list_nodes()\n",
    "nodes_by_id = {node[\"id\"]: node for node in nodes}\n",
    "\n",
    "# Print a list of all the node IDs\n",
    "print(sorted(nodes_by_id.keys()))"
   ]
  },
  {
   "cell_type": "markdown",
   "id": "4c954692",
   "metadata": {},
   "source": [
    "Once you have found your required node it can be useful to view its information, fields such as the `description`, `inputs` and `outputs` are particularly useful for building your workflow."
   ]
  },
  {
   "cell_type": "code",
   "execution_count": 3,
   "id": "4d987377",
   "metadata": {},
   "outputs": [
    {
     "name": "stdout",
     "output_type": "stream",
     "text": [
      "{'cache_url': 'redis-13325.c338.eu-west-2-1.ec2.redns.redis-cloud.com',\n",
      " 'category': 'MachineLearningModels',\n",
      " 'cost': 5,\n",
      " 'description': 'Train a machine-learning model',\n",
      " 'id': 'TrainModel',\n",
      " 'image_name': 'uncertainty-engine-train-model-node',\n",
      " 'inputs': {'config': {'default': None,\n",
      "                       'description': 'Configuration for the model',\n",
      "                       'label': 'Model Config',\n",
      "                       'required': True,\n",
      "                       'set_in_node': False,\n",
      "                       'type': 'ModelConfig'},\n",
      "            'inputs': {'default': None,\n",
      "                       'description': 'Input dataset for training the model',\n",
      "                       'label': 'Input Dataset',\n",
      "                       'required': True,\n",
      "                       'set_in_node': True,\n",
      "                       'type': 'CSVDataset'},\n",
      "            'outputs': {'default': None,\n",
      "                        'description': 'Output dataset for training the model',\n",
      "                        'label': 'Output Dataset',\n",
      "                        'required': True,\n",
      "                        'set_in_node': True,\n",
      "                        'type': 'CSVDataset'}},\n",
      " 'label': 'Train Model',\n",
      " 'load_balancer_url': 'http://uncert-LoadB-Ld43k6t2BH88-170883323.eu-west-2.elb.amazonaws.com',\n",
      " 'long_description': 'Trains a Gaussian Process model on the input data.',\n",
      " 'outputs': {'model': {'description': 'A trained machine-learning model',\n",
      "                       'label': 'Machine Learning Model',\n",
      "                       'type': 'MachineLearningModel'}},\n",
      " 'queue_url': 'https://sqs.eu-west-2.amazonaws.com/939027885851/uncertainty-engine-train-model-node-dev-Queue-r13fW9mEIpdi',\n",
      " 'requirements': {'cpu': 8192, 'gpu': False, 'memory': 16384, 'timeout': 1200},\n",
      " 'version_base_image': 2,\n",
      " 'version_node': 1,\n",
      " 'version_types_lib': '0.0.14'}\n"
     ]
    }
   ],
   "source": [
    "from pprint import pprint\n",
    "\n",
    "# Print the details of the `TrainModel` node\n",
    "train_node_info = nodes_by_id[\"TrainModel\"]\n",
    "pprint(train_node_info)"
   ]
  },
  {
   "cell_type": "markdown",
   "id": "097715e6",
   "metadata": {},
   "source": [
    "Now we know that the `TrainModel` node needs the following inputs:\n",
    "- **Input Dataset:** Train input data\n",
    "- **Output Dataset:** Target output data\n",
    "- **Model Config:** A model config node specifying the parameters we wish to use for training"
   ]
  },
  {
   "cell_type": "markdown",
   "id": "e50c866f",
   "metadata": {},
   "source": [
    "### Creating our train data"
   ]
  },
  {
   "cell_type": "markdown",
   "id": "3fb25a47",
   "metadata": {},
   "source": [
    "In this example we will use some random data to demonstrate how it can be used to train a model. \n",
    "\n",
    "We're using the Forrester function as our \"ground truth\" target function and then 12 randomly sampled points with added Gaussian noise (σ=0.1) as our training data."
   ]
  },
  {
   "cell_type": "code",
   "execution_count": 4,
   "id": "73e715ca",
   "metadata": {},
   "outputs": [
    {
     "data": {
      "image/png": "[encoded data removed]",
      "text/plain": [
       "<Figure size 550x450 with 1 Axes>"
      ]
     },
     "metadata": {},
     "output_type": "display_data"
    }
   ],
   "source": [
    "import numpy as np\n",
    "import pandas as pd\n",
    "import matplotlib.pyplot as plt\n",
    "\n",
    "# Set random seed for reproducibility and assign number of rows\n",
    "n_rows = 10\n",
    "np.random.seed(42)\n",
    "\n",
    "# Target function: forrester function\n",
    "def f(x, a=6, b=12):\n",
    "    return -((a * x - 2) ** 2) * np.sin(b * x - 4)\n",
    "\n",
    "X = np.linspace(0, 1, 100)[:, np.newaxis]\n",
    "y = f(X)  # Arrange outputs as feature columns\n",
    "\n",
    "# Set up training data dataframe\n",
    "X_data = np.random.uniform(0, 1, size=n_rows) # 12 random points\n",
    "y_data = f(X_data) + np.random.normal(scale=0.1, size=X_data.shape) # Add noise to the target function\n",
    "\n",
    "# Plot\n",
    "plt.figure(figsize=(5.5, 4.5))\n",
    "plt.plot(X, y, label=\"Target Function\")\n",
    "plt.scatter(X_data, y_data, color=\"red\", label=\"Training Data\")\n",
    "plt.xlabel(\"Input\")\n",
    "plt.ylabel(\"True Objective Function\")\n",
    "plt.legend()\n",
    "plt.show()\n",
    "\n",
    "# Create a pandas DataFrame for training and testing data\n",
    "train_df = pd.DataFrame({\n",
    "    'x': X_data,\n",
    "    'y': y_data\n",
    "})\n",
    "test_df = pd.DataFrame({\"x\": X.flatten(), \"y\": y.flatten()})"
   ]
  },
  {
   "cell_type": "markdown",
   "id": "f6222548",
   "metadata": {},
   "source": [
    "### Constructing a workflow"
   ]
  },
  {
   "cell_type": "markdown",
   "id": "0d73c79a",
   "metadata": {},
   "source": [
    "First, import and initialize the `Graph` class.\n"
   ]
  },
  {
   "cell_type": "code",
   "execution_count": 5,
   "id": "88f36888",
   "metadata": {},
   "outputs": [],
   "source": [
    "from uncertainty_engine.graph import Graph\n",
    "\n",
    "# Create a new graph\n",
    "train_graph = Graph()"
   ]
  },
  {
   "cell_type": "markdown",
   "id": "66e09f2a",
   "metadata": {},
   "source": [
    "As we can see by the `TrainModel` node info, it needs a `ModelConfig`. If we print out its information we can see what it's inputs and outputs are."
   ]
  },
  {
   "cell_type": "code",
   "execution_count": 6,
   "id": "d5bbba59",
   "metadata": {},
   "outputs": [
    {
     "name": "stdout",
     "output_type": "stream",
     "text": [
      "{'cache_url': 'redis-13325.c338.eu-west-2-1.ec2.redns.redis-cloud.com',\n",
      " 'category': 'MachineLearningModels',\n",
      " 'cost': 1,\n",
      " 'description': 'Config for a machine learning model',\n",
      " 'id': 'ModelConfig',\n",
      " 'image_name': 'uncertainty-engine-model-config-node',\n",
      " 'inputs': {'input_retained_dimensions': {'default': None,\n",
      "                                          'description': 'Number of dimensions '\n",
      "                                                         'to retain in the '\n",
      "                                                         'input data',\n",
      "                                          'label': 'Input Retained Dimensions',\n",
      "                                          'required': False,\n",
      "                                          'set_in_node': True,\n",
      "                                          'type': 'int'},\n",
      "            'input_variance': {'default': None,\n",
      "                               'description': 'Percentage of variance to '\n",
      "                                              'retain in the input data',\n",
      "                               'label': 'Input Variance',\n",
      "                               'required': False,\n",
      "                               'set_in_node': True,\n",
      "                               'type': 'float'},\n",
      "            'model_type': {'default': 'SingleTaskGPTorch',\n",
      "                           'description': 'Type of model to use',\n",
      "                           'label': 'Model Type',\n",
      "                           'required': False,\n",
      "                           'set_in_node': True,\n",
      "                           'type': 'Literal[\"SingleTaskGPTorch\"]'},\n",
      "            'output_retained_dimensions': {'default': None,\n",
      "                                           'description': 'Number of '\n",
      "                                                          'dimensions to '\n",
      "                                                          'retain in the '\n",
      "                                                          'output data',\n",
      "                                           'label': 'Output Retained '\n",
      "                                                    'Dimensions',\n",
      "                                           'required': False,\n",
      "                                           'set_in_node': True,\n",
      "                                           'type': 'int'},\n",
      "            'output_variance': {'default': None,\n",
      "                                'description': 'Percentage of variance to '\n",
      "                                               'retain in the output data',\n",
      "                                'label': 'Output Variance',\n",
      "                                'required': False,\n",
      "                                'set_in_node': True,\n",
      "                                'type': 'float'},\n",
      "            'seed': {'default': None,\n",
      "                     'description': 'Seed for  reproducible training',\n",
      "                     'label': 'Seed',\n",
      "                     'required': False,\n",
      "                     'set_in_node': True,\n",
      "                     'type': 'Optional[int]'}},\n",
      " 'label': 'Model Config',\n",
      " 'load_balancer_url': 'http://uncert-LoadB-MzOetboGOS36-1190645994.eu-west-2.elb.amazonaws.com',\n",
      " 'long_description': 'Config for a machine learning model',\n",
      " 'outputs': {'config': {'description': 'A model config object',\n",
      "                        'label': 'Model Config',\n",
      "                        'type': 'ModelConfig'}},\n",
      " 'queue_url': 'https://sqs.eu-west-2.amazonaws.com/939027885851/uncertainty-engine-model-config-node-dev-Queue-wl4LwRGkYi3z',\n",
      " 'requirements': {'cpu': 256, 'gpu': False, 'memory': 512, 'timeout': 15},\n",
      " 'version_base_image': 2,\n",
      " 'version_node': 0,\n",
      " 'version_types_lib': '0.0.14'}\n"
     ]
    }
   ],
   "source": [
    "# Print `ModelConfig` node details\n",
    "model_config_info = nodes_by_id[\"ModelConfig\"]\n",
    "pprint(model_config_info)"
   ]
  },
  {
   "cell_type": "markdown",
   "id": "487c4eee",
   "metadata": {},
   "source": [
    "The `ModelConfig` node accepts several optional parameters that control model training. However, as none of the inputs are required we can just use the default input parameters for now. This will configure our model as a `SingleTaskGP` which is ideal for our regression task. A `SingleTaskGP` (Single Task Gaussian Process) models the relationship between a single input and output variable while providing uncertainty estimates alongside predictions."
   ]
  },
  {
   "cell_type": "code",
   "execution_count": 7,
   "id": "ab0a91c4",
   "metadata": {},
   "outputs": [],
   "source": [
    "from uncertainty_engine.nodes.base import Node\n",
    "\n",
    "# Define the model config node\n",
    "model_config = Node(\n",
    "    node_name=\"ModelConfig\",\n",
    "    label=\"Model Config\",\n",
    ")\n",
    "\n",
    "# Add node to the graph and connect it to the train node\n",
    "train_graph.add_node(model_config)\n",
    "\n",
    "# Add a handle to the the config output\n",
    "output_config = model_config.make_handle(\"config\")"
   ]
  },
  {
   "cell_type": "markdown",
   "id": "267288e8",
   "metadata": {},
   "source": [
    "Then we can start adding nodes to the graph. The first node we will add is the `TrainModel` node, with our train `x` and `y` CSVs as inputs."
   ]
  },
  {
   "cell_type": "code",
   "execution_count": 8,
   "id": "4cbec887",
   "metadata": {},
   "outputs": [],
   "source": [
    "from io import StringIO\n",
    "\n",
    "# Convert X values to CSV string\n",
    "x_buffer = StringIO()\n",
    "train_df[['x']].to_csv(x_buffer, index=False)\n",
    "x_csv = x_buffer.getvalue()\n",
    "\n",
    "# Convert Y values to CSV string\n",
    "y_buffer = StringIO()\n",
    "train_df[['y']].to_csv(y_buffer, index=False)\n",
    "y_csv = y_buffer.getvalue()\n",
    "\n",
    "# Create the train node with the data as input\n",
    "train_model = Node(\n",
    "    node_name=\"TrainModel\",\n",
    "    label=\"Train Model\",\n",
    "    config=output_config,\n",
    "    inputs={\"csv\": x_csv},\n",
    "    outputs={\"csv\": y_csv}\n",
    ")\n",
    "\n",
    "# Add the node to the graph\n",
    "train_graph.add_node(train_model)"
   ]
  },
  {
   "cell_type": "markdown",
   "id": "407f7d36",
   "metadata": {},
   "source": [
    "### Assigning an output node"
   ]
  },
  {
   "cell_type": "markdown",
   "id": "312a91e5",
   "metadata": {},
   "source": [
    "Now our graph has been built we can use an output node to decide how we wish to collect the output. The output nodes we can use here are:\n",
    "- **Display:** To view the trained model JSON directly in the workflow outputs.\n",
    "- **Download:** To download the model JSON using an AWS pre-signed url.\n",
    "- **Save:** To save the model JSON to the Uncertainty Engine cloud.\n",
    "\n",
    "First lets make a handle for the output `model` of the `Train` node."
   ]
  },
  {
   "cell_type": "code",
   "execution_count": 9,
   "id": "ec9c8453",
   "metadata": {},
   "outputs": [],
   "source": [
    "output_model = train_model.make_handle(\"model\")"
   ]
  },
  {
   "cell_type": "markdown",
   "id": "20ef8c47",
   "metadata": {},
   "source": [
    "In this case we will use the `Download` node to get a pre-signed URL for our trained model so we can use it for the `Predict` part of this notebook."
   ]
  },
  {
   "cell_type": "code",
   "execution_count": 10,
   "id": "d416840d",
   "metadata": {},
   "outputs": [
    {
     "name": "stdout",
     "output_type": "stream",
     "text": [
      "{'nodes': {'Download': {'inputs': {'file': {'node_handle': 'model',\n",
      "                                            'node_name': 'Train Model'}},\n",
      "                        'type': 'Download'},\n",
      "           'Model Config': {'inputs': {}, 'type': 'ModelConfig'},\n",
      "           'Train Model': {'inputs': {'config': {'node_handle': 'config',\n",
      "                                                 'node_name': 'Model Config'},\n",
      "                                      'inputs': {'node_handle': 'Train '\n",
      "                                                                'Model_inputs',\n",
      "                                                 'node_name': '_'},\n",
      "                                      'outputs': {'node_handle': 'Train '\n",
      "                                                                 'Model_outputs',\n",
      "                                                  'node_name': '_'}},\n",
      "                           'type': 'TrainModel'}}}\n"
     ]
    }
   ],
   "source": [
    "# Define the Download node\n",
    "download = Node(\n",
    "  node_name=\"Download\",\n",
    "  label=\"Download\",\n",
    "  file=output_model\n",
    ")\n",
    "\n",
    "# Add the download node to the graph and connect it to the train node\n",
    "train_graph.add_node(download)\n",
    "\n",
    "# Print graph to check the structure\n",
    "pprint(train_graph.nodes)"
   ]
  },
  {
   "cell_type": "markdown",
   "id": "575839d0",
   "metadata": {},
   "source": [
    "### Executing a workflow"
   ]
  },
  {
   "cell_type": "markdown",
   "id": "1fc75f1e",
   "metadata": {},
   "source": [
    "Create the executable workflow by wrapping our graph in the `Workflow` node and defining the `requested_output` as the output handle of the `Download` node."
   ]
  },
  {
   "cell_type": "code",
   "execution_count": 11,
   "id": "8776c585",
   "metadata": {},
   "outputs": [],
   "source": [
    "from uncertainty_engine.nodes.workflow import Workflow\n",
    "\n",
    "# Wrap the graph in a workflow node\n",
    "train_workflow = Workflow(\n",
    "    graph=train_graph.nodes,\n",
    "    input=train_graph.external_input,\n",
    "    external_input_id=train_graph.external_input_id,\n",
    "    requested_output={\n",
    "        \"Trained Model\": {\"node_name\":\"Download\", \"node_handle\":\"file\"},\n",
    "        }\n",
    "    )"
   ]
  },
  {
   "cell_type": "markdown",
   "id": "249edb3b",
   "metadata": {},
   "source": [
    "Now, we can execute the workflow by running `client.run_node(workflow)` and passing the workflow object. This may take a minute for training."
   ]
  },
  {
   "cell_type": "code",
   "execution_count": 12,
   "id": "d560a205",
   "metadata": {},
   "outputs": [],
   "source": [
    "train_response = client.run_node(train_workflow)"
   ]
  },
  {
   "cell_type": "markdown",
   "id": "e9646b7e",
   "metadata": {},
   "source": [
    "Above you will see the URL to our trained model printed under `outputs`. Following the presigned URL will download the trained model. This model can be saved locally and used in the `Predict` part of the notebook by running the following cell."
   ]
  },
  {
   "cell_type": "code",
   "execution_count": 13,
   "id": "474450a9",
   "metadata": {},
   "outputs": [],
   "source": [
    "import requests\n",
    "\n",
    "# Get the presigned URL from the response\n",
    "trained_model_url = train_response[\"outputs\"][\"outputs\"][\"Trained Model\"]\n",
    "\n",
    "def get_presigned_url(url):\n",
    "    \"\"\"\n",
    "    Get the contents from the presigned url.\n",
    "    \"\"\"\n",
    "    url = url.replace(\"https://\", \"http://\")\n",
    "    response = requests.get(url)\n",
    "    response.raise_for_status()  # Raise an exception for HTTP errors\n",
    "    return response\n",
    "\n",
    "# Get the model from the presigned URL\n",
    "model_response = get_presigned_url(trained_model_url)\n",
    "model_json = model_response.json()"
   ]
  },
  {
   "cell_type": "markdown",
   "id": "7c3288b4",
   "metadata": {},
   "source": [
    "## Part 2: Building and running a **predict** workflow"
   ]
  },
  {
   "cell_type": "markdown",
   "id": "6e704ec7",
   "metadata": {},
   "source": [
    "Next, we will use the saved model json to make predictions on a sample dataset. If we take a look at the `PredictModel` node information we can see that the following inputs are needed to run the node:\n",
    "- **Dataset:** The input data on which to make the output predictions (this will be our `test_df` dataset)\n",
    "- **Model:** The pre-trained model to be used to make the predictions\n",
    "- **Seed (optional):** A random seed for reproducibility"
   ]
  },
  {
   "cell_type": "code",
   "execution_count": 14,
   "id": "0621af06",
   "metadata": {},
   "outputs": [
    {
     "name": "stdout",
     "output_type": "stream",
     "text": [
      "{'cache_url': 'redis-13325.c338.eu-west-2-1.ec2.redns.redis-cloud.com',\n",
      " 'category': 'MachineLearningModels',\n",
      " 'cost': 5,\n",
      " 'description': 'Make predictions using a machine-learning model',\n",
      " 'id': 'PredictModel',\n",
      " 'image_name': 'uncertainty-engine-predict-model-node',\n",
      " 'inputs': {'dataset': {'default': None,\n",
      "                        'description': 'Dataset for predictions',\n",
      "                        'label': 'Dataset',\n",
      "                        'required': True,\n",
      "                        'set_in_node': False,\n",
      "                        'type': 'CSVDataset'},\n",
      "            'model': {'default': None,\n",
      "                      'description': 'Machine-learning model',\n",
      "                      'label': 'Model',\n",
      "                      'required': True,\n",
      "                      'set_in_node': False,\n",
      "                      'type': 'MachineLearningModel'},\n",
      "            'seed': {'default': None,\n",
      "                     'description': 'Random seed for reproducibility',\n",
      "                     'label': 'Seed',\n",
      "                     'required': False,\n",
      "                     'set_in_node': True,\n",
      "                     'type': 'Optional[int]'}},\n",
      " 'label': 'Predict Model',\n",
      " 'load_balancer_url': 'http://uncert-LoadB-RzBaGqdjQHzA-1364690351.eu-west-2.elb.amazonaws.com',\n",
      " 'long_description': 'Generate predictions using a trained machine-learning '\n",
      "                     'model.',\n",
      " 'outputs': {'prediction': {'description': 'Predicted output values from the '\n",
      "                                           'model',\n",
      "                            'label': 'Predictions',\n",
      "                            'type': 'CSVDataset'},\n",
      "             'uncertainty': {'description': 'Predicted uncertainty values from '\n",
      "                                            'the model',\n",
      "                             'label': 'Uncertainty',\n",
      "                             'type': 'CSVDataset'}},\n",
      " 'queue_url': 'https://sqs.eu-west-2.amazonaws.com/939027885851/uncertainty-engine-predict-model-node-dev-Queue-O4bBN0dwUACS',\n",
      " 'requirements': {'cpu': 4096, 'gpu': False, 'memory': 16384, 'timeout': 600},\n",
      " 'version_base_image': 2,\n",
      " 'version_node': 1,\n",
      " 'version_types_lib': '0.0.14'}\n"
     ]
    }
   ],
   "source": [
    "# Print `PredictModel` node details\n",
    "predict_node_info = nodes_by_id[\"PredictModel\"]\n",
    "pprint(predict_node_info)"
   ]
  },
  {
   "cell_type": "markdown",
   "id": "ff08cf08",
   "metadata": {},
   "source": [
    "Now we know what input parameters the `PredictModel` node needs we can start constructing our workflow."
   ]
  },
  {
   "cell_type": "markdown",
   "id": "a98fa0a1",
   "metadata": {},
   "source": [
    "### Constructing the workflow"
   ]
  },
  {
   "cell_type": "markdown",
   "id": "fd956cdc",
   "metadata": {},
   "source": [
    "Let's create a new instance of the `Graph` class (as we don't wish to build on top of our train workflow) and add our predict node using our local `trained_model.json` as the `model` and the `x` column of our `test_df` as the `dataset` we wish to make predictions on."
   ]
  },
  {
   "cell_type": "code",
   "execution_count": 15,
   "id": "7c1b3571",
   "metadata": {},
   "outputs": [],
   "source": [
    "# Initialise the predict graph\n",
    "predict_graph = Graph()\n",
    "\n",
    "# Convert test values to CSV string\n",
    "test_x_buffer = StringIO()\n",
    "test_df[['x']].to_csv(test_x_buffer, index=False)\n",
    "test_x_csv = test_x_buffer.getvalue()\n",
    "\n",
    "# Define predict node with test data as input dataset and model json as model\n",
    "predict = Node(\n",
    "    node_name=\"PredictModel\",\n",
    "    label=\"Predict\",\n",
    "    dataset={\"csv\": test_x_csv},\n",
    "    model=model_json,\n",
    "    seed=42,\n",
    ")\n",
    "\n",
    "# Add the predict node to the graph\n",
    "predict_graph.add_node(predict)"
   ]
  },
  {
   "cell_type": "markdown",
   "id": "fc520276",
   "metadata": {},
   "source": [
    "We can use the `Download` node to get our resulting datasets. We will need one `Download` node for both the predictions and uncertainty output."
   ]
  },
  {
   "cell_type": "code",
   "execution_count": 16,
   "id": "9bf9429b",
   "metadata": {},
   "outputs": [
    {
     "name": "stdout",
     "output_type": "stream",
     "text": [
      "{'nodes': {'Download Predictions': {'inputs': {'file': {'node_handle': 'prediction',\n",
      "                                                        'node_name': 'Predict'}},\n",
      "                                    'type': 'Download'},\n",
      "           'Download Uncertainty': {'inputs': {'file': {'node_handle': 'uncertainty',\n",
      "                                                        'node_name': 'Predict'}},\n",
      "                                    'type': 'Download'},\n",
      "           'Predict': {'inputs': {'dataset': {'node_handle': 'Predict_dataset',\n",
      "                                              'node_name': '_'},\n",
      "                                  'model': {'node_handle': 'Predict_model',\n",
      "                                            'node_name': '_'},\n",
      "                                  'seed': {'node_handle': 'Predict_seed',\n",
      "                                           'node_name': '_'}},\n",
      "                       'type': 'PredictModel'}}}\n"
     ]
    }
   ],
   "source": [
    "# Add handles to the prediction and uncertainty outputs\n",
    "output_predictions = predict.make_handle(\"prediction\")\n",
    "output_uncertainty = predict.make_handle(\"uncertainty\")\n",
    "\n",
    "# Define download nodes for predictions and uncertainty\n",
    "display_predictions = Node(\n",
    "    node_name=\"Download\",\n",
    "    label=\"Download Predictions\",\n",
    "    file=output_predictions\n",
    ")\n",
    "display_uncertainty = Node(\n",
    "    node_name=\"Download\",\n",
    "    label=\"Download Uncertainty\",\n",
    "    file=output_uncertainty\n",
    ")\n",
    "\n",
    "# Add download nodes to the graph and connect them to the predict node\n",
    "predict_graph.add_node(display_predictions)\n",
    "predict_graph.add_node(display_uncertainty)\n",
    "\n",
    "# Print the predict graph\n",
    "pprint(predict_graph.nodes)"
   ]
  },
  {
   "cell_type": "markdown",
   "id": "ca7a47a0",
   "metadata": {},
   "source": [
    "### Executing the workflow"
   ]
  },
  {
   "cell_type": "markdown",
   "id": "11f881b1",
   "metadata": {},
   "source": [
    "Now we can run our workflow using the `Workflow` node."
   ]
  },
  {
   "cell_type": "code",
   "execution_count": 17,
   "id": "b2b8b618",
   "metadata": {},
   "outputs": [],
   "source": [
    "# Wrap the predict graph in a workflow node\n",
    "predict_workflow = Workflow(\n",
    "    graph=predict_graph.nodes,\n",
    "    input=predict_graph.external_input,\n",
    "    external_input_id=predict_graph.external_input_id,\n",
    "    requested_output={\n",
    "        \"Predictions\": {\"node_name\":\"Download Predictions\", \"node_handle\":\"file\"},\n",
    "        \"Uncertainty\": {\"node_name\":\"Download Uncertainty\", \"node_handle\":\"file\"},\n",
    "        }\n",
    "    )\n",
    "\n",
    "# Run the predict workflow and get the response\n",
    "predict_response = client.run_node(predict_workflow)"
   ]
  },
  {
   "cell_type": "markdown",
   "id": "4159fda6",
   "metadata": {},
   "source": [
    "We can download the results and save the `predictions` and `uncertainty` as pandas dataframes so that we can plot them."
   ]
  },
  {
   "cell_type": "code",
   "execution_count": 18,
   "id": "b9318ed0",
   "metadata": {},
   "outputs": [],
   "source": [
    "# Download the predictions and save as a DataFrame\n",
    "predictions_response = get_presigned_url(predict_response[\"outputs\"][\"outputs\"][\"Predictions\"])\n",
    "predictions_df = pd.read_csv(StringIO(predictions_response.text)) # Save the predictions to a DataFrame\n",
    "\n",
    "# Download the uncertainty and save as a DataFrame\n",
    "uncertainty_response = get_presigned_url(predict_response[\"outputs\"][\"outputs\"][\"Uncertainty\"])\n",
    "uncertainty_df = pd.read_csv(StringIO(uncertainty_response.text)) # Save the uncertainty to a DataFrame"
   ]
  },
  {
   "cell_type": "markdown",
   "id": "72bb9cc6",
   "metadata": {},
   "source": [
    "### Plot the results"
   ]
  },
  {
   "cell_type": "markdown",
   "id": "5abfbd87",
   "metadata": {},
   "source": [
    "Finally, we can plot our predictions vs our truth function. "
   ]
  },
  {
   "cell_type": "code",
   "execution_count": 19,
   "id": "95420ef7",
   "metadata": {},
   "outputs": [
    {
     "data": {
      "image/png": "[encoded data removed]",
      "text/plain": [
       "<Figure size 550x450 with 1 Axes>"
      ]
     },
     "metadata": {},
     "output_type": "display_data"
    }
   ],
   "source": [
    "CONFIDENCE_99_ZSCORE = 2.58  # z-score for 99% confidence interval\n",
    "\n",
    "x_plot = test_df[\"x\"].to_numpy()\n",
    "y_pred = predictions_df.to_numpy().flatten()\n",
    "y_std = uncertainty_df.to_numpy().flatten()\n",
    "\n",
    "plt.figure(figsize=(5.5, 4.5))\n",
    "\n",
    "plt.fill_between(\n",
    "    x_plot,\n",
    "    (y_pred - CONFIDENCE_99_ZSCORE * y_std),\n",
    "    (y_pred + CONFIDENCE_99_ZSCORE * y_std),\n",
    "    color=\"C0\",\n",
    "    alpha=0.25,\n",
    "    label=\"Model Confidence Interval\",\n",
    ")\n",
    "plt.plot(X, y_pred, c=\"C0\", linewidth=2, label=\"Model Mean Prediction\")\n",
    "\n",
    "plt.scatter(\n",
    "    train_df[\"x\"],\n",
    "    train_df[\"y\"],\n",
    "    color=\"red\",\n",
    "    label=\"Training data\",\n",
    ")\n",
    "plt.xlabel(\"x\")\n",
    "plt.ylabel(\"y\")\n",
    "\n",
    "plt.plot(X, y, c=\"r\", linewidth=2, linestyle=\"dashed\", label=\"Target Function\")\n",
    "plt.legend()\n",
    "plt.show()"
   ]
  },
  {
   "cell_type": "markdown",
   "id": "34e4253f",
   "metadata": {},
   "source": [
    "### Conclusion"
   ]
  },
  {
   "cell_type": "markdown",
   "id": "9cb82cc5",
   "metadata": {},
   "source": [
    "As you can see by the plot, the model is able to predict the target function accurately. The confidence interval is also shown, which indicates the uncertainty in the model's predictions. \n",
    "- **Areas of high confidence:** Near training points, the confidence bands narrow significantly, showing the model's certainty in these regions.\n",
    "- **Areas of high uncertainty:** Between x=0.3 and x=0.5, we observe notably wider confidence bands, reflecting the model's increased uncertainty due to the sparse sampling in this region. We can see that at the edges the uncertainty increases as well. This edge behaviour is characteristic of Gaussian Processes, as the model lacks training points beyond these boundaries to constrain its predictions.\n",
    "\n",
    "The uncertainty could probably be decreased by adding more training points between x=0.3 and x=0.5."
   ]
  },
  {
   "cell_type": "markdown",
   "id": "71d4ad4d",
   "metadata": {},
   "source": [
    "In this notebook we have demonstrated how to use the SDK to train a model and then use it to make predictions. \n",
    "\n",
    "If you wanted to lead on from this and get a more accurate reading of how well the model performed you could try using the `ScoreModel` node to evaluate the model. Otherwise, checkout [`demo_resource.ipynb`](./demo_resource.ipynb) to learn about how you can use resources in the Uncertainty Engine SDK."
   ]
  }
 ],
 "metadata": {
  "kernelspec": {
   "display_name": ".venv",
   "language": "python",
   "name": "python3"
  },
  "language_info": {
   "codemirror_mode": {
    "name": "ipython",
    "version": 3
   },
   "file_extension": ".py",
   "mimetype": "text/x-python",
   "name": "python",
   "nbconvert_exporter": "python",
   "pygments_lexer": "ipython3",
   "version": "3.12.8"
  }
 },
 "nbformat": 4,
 "nbformat_minor": 5
}

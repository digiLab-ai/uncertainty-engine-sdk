{
 "cells": [
  {
   "cell_type": "markdown",
   "metadata": {},
   "source": [
    "# Uncertainty Engine SDK - save and load\n",
    "\n",
    "This notebook goes through some of the basic functionality of the SDK. It demonstrates how to save and load workflows.\n"
   ]
  },
  {
   "cell_type": "markdown",
   "metadata": {},
   "source": [
    "## The `Client`"
   ]
  },
  {
   "cell_type": "markdown",
   "metadata": {},
   "source": [
    "Start by importing the `Client`.\n"
   ]
  },
  {
   "cell_type": "code",
   "execution_count": 1,
   "metadata": {},
   "outputs": [],
   "source": [
    "from uncertainty_engine import Client, Environment\n",
    "from pprint import pprint"
   ]
  },
  {
   "cell_type": "markdown",
   "metadata": {},
   "source": [
    "Next initialise the `Client` with the Uncertainty Engine environment to target."
   ]
  },
  {
   "cell_type": "code",
   "execution_count": 2,
   "metadata": {},
   "outputs": [],
   "source": [
    "import os\n",
    "\n",
    "client = Client(\n",
    "    env=Environment(\n",
    "        cognito_user_pool_client_id=os.environ[\"UE_COGNITO_CLIENT_ID\"],\n",
    "        core_api=os.environ[\"UE_CORE_API\"],\n",
    "        region=os.environ[\"UE_REGION\"],\n",
    "        resource_api=os.environ[\"UE_RESOURCE_API\"],\n",
    "    ),\n",
    ")"
   ]
  },
  {
   "cell_type": "markdown",
   "metadata": {},
   "source": [
    "The `Client` is an important concept in the SDK as all interactions with the Uncertainty Engine go through the `Client`. Before accessing your resources you must authenticate with your account ID."
   ]
  },
  {
   "cell_type": "code",
   "execution_count": 3,
   "metadata": {},
   "outputs": [],
   "source": [
    "# client.authenticate(os.environ[\"UE_ACCOUNT_ID\"])\n",
    "PROJECT_ID = os.environ[\"UE_PROJECT_ID\"]"
   ]
  },
  {
   "cell_type": "markdown",
   "metadata": {},
   "source": [
    "## Saving"
   ]
  },
  {
   "cell_type": "code",
   "execution_count": 4,
   "metadata": {},
   "outputs": [],
   "source": [
    "from uncertainty_engine.graph import Graph\n",
    "from uncertainty_engine.nodes.basic import Add\n",
    "\n",
    "graph = Graph()\n",
    "\n",
    "add = Add(\n",
    "  rhs=1,\n",
    "  lhs=42,\n",
    "  label=\"Add\"\n",
    ")\n",
    "\n",
    "# Add the node to the graph\n",
    "graph.add_node(add)\n",
    "\n",
    "# Define our add output handle\n",
    "ans = add.make_handle(\"ans\")"
   ]
  },
  {
   "cell_type": "code",
   "execution_count": 5,
   "metadata": {},
   "outputs": [
    {
     "name": "stdout",
     "output_type": "stream",
     "text": [
      "{'external_input_id': '_',\n",
      " 'graph': {'nodes': {'Add': {'inputs': {'lhs': {'node_handle': 'Add_lhs',\n",
      "                                                'node_name': '_'},\n",
      "                                        'rhs': {'node_handle': 'Add_rhs',\n",
      "                                                'node_name': '_'}},\n",
      "                             'type': 'Add'}}},\n",
      " 'inputs': {'Add_lhs': 42, 'Add_rhs': 1},\n",
      " 'label': None,\n",
      " 'node_name': 'Workflow',\n",
      " 'requested_output': {'Add': {'node_handle': 'ans', 'node_name': 'Add'}}}\n"
     ]
    }
   ],
   "source": [
    "from uncertainty_engine.nodes.workflow import Workflow\n",
    "\n",
    "workflow = Workflow(\n",
    "    graph=graph.nodes,\n",
    "    input=graph.external_input,\n",
    "    external_input_id=graph.external_input_id,\n",
    "    requested_output={\n",
    "      \"Add\": ans.model_dump()\n",
    "    }\n",
    ")\n",
    "\n",
    "pprint(workflow.__dict__)"
   ]
  },
  {
   "cell_type": "code",
   "execution_count": 6,
   "metadata": {},
   "outputs": [],
   "source": [
    "# workflow_id = client.workflows.save(\n",
    "#     project_id=PROJECT_ID,\n",
    "#     workflow=workflow,\n",
    "#     workflow_name=\"NewNewWorkflow\"\n",
    "# )"
   ]
  },
  {
   "cell_type": "markdown",
   "metadata": {},
   "source": [
    "Once authenticate you will have access to all of your available resources. In the Uncertainty Engine, resources always belong to a `project`, this helps keep your work organised and allows you to share resources with other users. You can think of a `project` as a folder that contains all of your resources. To make life easier we will define our project ID here.\n",
    "\n",
    "Resources are split into different categories (e.g `dataset`, `document`, `model`, ...), listing resources is filtered by these categories. \n",
    "\n",
    "(We use `pprint` to make the data display a bit nicer)"
   ]
  },
  {
   "cell_type": "code",
   "execution_count": 7,
   "metadata": {},
   "outputs": [
    {
     "name": "stdout",
     "output_type": "stream",
     "text": [
      "[{'created_at': '14:59:35 2025-05-15',\n",
      "  'id': '68260157982da250adee2828',\n",
      "  'name': 'Chatwithcontext',\n",
      "  'versions': ['68260158982da250adee2829']},\n",
      " {'created_at': '14:59:48 2025-05-15',\n",
      "  'id': '68260164982da250adee282a',\n",
      "  'name': 'Chatsimple',\n",
      "  'versions': ['68260164982da250adee282b']},\n",
      " {'created_at': '16:17:59 2025-06-11',\n",
      "  'id': '6849ac37d465c24bf9e9e34d',\n",
      "  'name': 'no-version-wf',\n",
      "  'versions': []},\n",
      " {'created_at': '10:06:09 2025-06-12',\n",
      "  'id': '684aa691d465c24bf9e9e356',\n",
      "  'name': 'FunWorkflow',\n",
      "  'versions': ['684aa691d465c24bf9e9e357',\n",
      "               '684aa776d465c24bf9e9e358',\n",
      "               '684aa7cbd465c24bf9e9e359',\n",
      "               '684aa8b2d465c24bf9e9e35a',\n",
      "               '684aa9b9d465c24bf9e9e35b',\n",
      "               '684ab0c5d465c24bf9e9e35c',\n",
      "               '684ab13cd465c24bf9e9e35d',\n",
      "               '684acd90d465c24bf9e9e362']},\n",
      " {'created_at': '12:53:15 2025-06-12',\n",
      "  'id': '684acdbbd465c24bf9e9e363',\n",
      "  'name': 'NewWorkflow',\n",
      "  'versions': ['684acdbbd465c24bf9e9e364']},\n",
      " {'created_at': '12:53:43 2025-06-12',\n",
      "  'id': '684acdd7d465c24bf9e9e365',\n",
      "  'name': 'NewNewWorkflow',\n",
      "  'versions': ['684acdd7d465c24bf9e9e366']}]\n"
     ]
    }
   ],
   "source": [
    "\n",
    "\n",
    "my_workflows = client.workflows.list_workflows(PROJECT_ID)\n",
    "\n",
    "pprint(my_workflows)"
   ]
  },
  {
   "cell_type": "markdown",
   "metadata": {},
   "source": [
    "## Uploading Resources"
   ]
  },
  {
   "cell_type": "markdown",
   "metadata": {},
   "source": [
    "When uploading a resource, it must be to a project (using the project ID) and you must provide a name and resource type. The name is the user friendly display name of the resource while the resource ID is the value used to retrieve the resource later. The resource ID is automatically generated by the Uncertainty Engine and is unique to the project."
   ]
  },
  {
   "cell_type": "code",
   "execution_count": 8,
   "metadata": {},
   "outputs": [
    {
     "name": "stdout",
     "output_type": "stream",
     "text": [
      "{'external_input_id': '_',\n",
      " 'graph': {'nodes': {'Add': {'inputs': {'lhs': {'node_handle': 'Add_lhs',\n",
      "                                                'node_name': '_'},\n",
      "                                        'rhs': {'node_handle': 'Add_rhs',\n",
      "                                                'node_name': '_'}},\n",
      "                             'type': 'Add'}}},\n",
      " 'inputs': {'Add_lhs': 2, 'Add_rhs': 1},\n",
      " 'label': None,\n",
      " 'node_name': 'Workflow',\n",
      " 'requested_output': {'Add': {'node_handle': 'ans', 'node_name': 'Add'}}}\n"
     ]
    }
   ],
   "source": [
    "fun_workflow = client.workflows.load(\n",
    "    project_id=PROJECT_ID,\n",
    "    workflow_id=\"684aa691d465c24bf9e9e356\",\n",
    "    version_id=\"684ab0c5d465c24bf9e9e35c\"\n",
    ")\n",
    "\n",
    "pprint(fun_workflow.__dict__)"
   ]
  },
  {
   "cell_type": "code",
   "execution_count": 9,
   "metadata": {},
   "outputs": [
    {
     "name": "stdout",
     "output_type": "stream",
     "text": [
      "{'inputs': {'external_input_id': '_',\n",
      "            'graph': {'nodes': {'Add': {'inputs': {'lhs': {'node_handle': 'Add_lhs',\n",
      "                                                           'node_name': '_'},\n",
      "                                                   'rhs': {'node_handle': 'Add_rhs',\n",
      "                                                           'node_name': '_'}},\n",
      "                                        'type': 'Add'}}},\n",
      "            'inputs': {'Add_lhs': 2, 'Add_rhs': 1},\n",
      "            'requested_output': {'Add': {'node_handle': 'ans',\n",
      "                                         'node_name': 'Add'}}},\n",
      " 'message': 'Job completed at 2025-06-12 12:56:29.422283',\n",
      " 'outputs': {'outputs': {'Add': 3.0}},\n",
      " 'progress': {'Add': {'inputs': {'lhs': 2, 'rhs': 1},\n",
      "                      'message': 'Job completed at 2025-06-12 12:56:29.009693',\n",
      "                      'outputs': {'ans': 3.0},\n",
      "                      'progress': None,\n",
      "                      'status': 'completed'}},\n",
      " 'status': 'completed'}\n"
     ]
    }
   ],
   "source": [
    "response = client.run_node(fun_workflow)\n",
    "pprint(response)"
   ]
  },
  {
   "cell_type": "code",
   "execution_count": null,
   "metadata": {},
   "outputs": [],
   "source": []
  }
 ],
 "metadata": {
  "kernelspec": {
   "display_name": ".venv",
   "language": "python",
   "name": "python3"
  },
  "language_info": {
   "codemirror_mode": {
    "name": "ipython",
    "version": 3
   },
   "file_extension": ".py",
   "mimetype": "text/x-python",
   "name": "python",
   "nbconvert_exporter": "python",
   "pygments_lexer": "ipython3",
   "version": "3.12.8"
  }
 },
 "nbformat": 4,
 "nbformat_minor": 2
}

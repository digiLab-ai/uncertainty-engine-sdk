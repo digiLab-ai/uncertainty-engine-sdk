{
 "cells": [
  {
   "cell_type": "markdown",
   "metadata": {},
   "source": [
    "# Uncertainty Engine SDK basic usage - nodes\n",
    "\n",
    "This notebook goes through some of the basic functionality of the SDK as demonstrated in the [`add.ipynb`](./add.ipynb) notebook, but uses the `Node` class which can be used to run **any** node on the Uncertainty Engine.\n",
    "\n",
    "If you haven't yet taken a look at [`add.ipynb`](./add.ipynb) we recommend you check it out first as it will take you through the basic of the Uncertainty Engine `Client` and how to sue it."
   ]
  },
  {
   "cell_type": "markdown",
   "metadata": {},
   "source": [
    "## The `Client`"
   ]
  },
  {
   "cell_type": "markdown",
   "metadata": {},
   "source": [
    "Start by importing and initialising the `Client`.\n"
   ]
  },
  {
   "cell_type": "code",
   "execution_count": null,
   "metadata": {},
   "outputs": [],
   "source": [
    "from uncertainty_engine import Client, Environment\n",
    "\n",
    "client = Client(\n",
    "    env=Environment(\n",
    "        cognito_user_pool_client_id=\"<COGNITO USER POOL APPLICATION CLIENT ID>\",\n",
    "        core_api=\"<UNCERTAINTY ENGINE CORE API URL>\",\n",
    "        region=\"<REGION>\",\n",
    "        resource_api=\"<UNCERTAINTY ENGINE RESOURCE SERVICE API URL>\",\n",
    "    ),\n",
    ")\n",
    "client.authenticate()"
   ]
  },
  {
   "cell_type": "markdown",
   "metadata": {},
   "source": [
    "## Node execution"
   ]
  },
  {
   "cell_type": "markdown",
   "metadata": {},
   "source": [
    "To initialise a `Node` in the SDK we first import it from the relevant module."
   ]
  },
  {
   "cell_type": "code",
   "execution_count": null,
   "metadata": {},
   "outputs": [],
   "source": [
    "from uncertainty_engine.nodes.base import Node"
   ]
  },
  {
   "cell_type": "markdown",
   "metadata": {},
   "source": [
    "There are currently importable classes for `Add`, `Workflow` and the `SensorDesigner` nodes. However, we can create and run nodes more generically by using the `Node` class and passing the node we wish to define as the `node_name`. The following cell demonstrated how you create and run a node using the `Node` class."
   ]
  },
  {
   "cell_type": "code",
   "execution_count": 3,
   "metadata": {},
   "outputs": [],
   "source": [
    "add = Node(\n",
    "  node_name=\"Add\", # the type of node you want to create\n",
    "  lhs=3, # left-hand side input\n",
    "  rhs=4, # right-hand side input\n",
    "  label=\"Add Node\" # label for the node\n",
    ")"
   ]
  },
  {
   "cell_type": "markdown",
   "metadata": {},
   "source": [
    "Once you have defined your `Node` it can be run in the same way as the `Add` node in the previous notebook was run using either the `run_node` or `queue_node` methods of the `client`. In this example we will use the `run_node` method."
   ]
  },
  {
   "cell_type": "code",
   "execution_count": 4,
   "metadata": {},
   "outputs": [
    {
     "name": "stdout",
     "output_type": "stream",
     "text": [
      "{'inputs': {'lhs': 3, 'rhs': 4},\n",
      " 'message': 'Job completed at 2025-05-27 08:55:17.218045',\n",
      " 'outputs': {'ans': 7.0},\n",
      " 'progress': None,\n",
      " 'status': 'completed'}\n"
     ]
    }
   ],
   "source": [
    "from pprint import pprint\n",
    "\n",
    "response = client.run_node(add)\n",
    "pprint(response.model_dump())"
   ]
  },
  {
   "cell_type": "markdown",
   "metadata": {},
   "source": [
    "We can see from the above cell that the response from the Uncertainty Engine shows the type of node we are queueing and its job ID, and the resulting output."
   ]
  },
  {
   "cell_type": "markdown",
   "metadata": {},
   "source": [
    "Although the result here is a simple one that we could have achieved very easily without the Uncertainty Engine, all Uncertainty Engine nodes behave in the same way. This means that if you're comfortable with the concepts covered in this notebook you're ready to run **any** Uncertainty Engine node."
   ]
  },
  {
   "cell_type": "markdown",
   "metadata": {},
   "source": [
    "Checkout [`workflow.ipynb`](./workflow.ipynb) to find out how to construct end execute workflows out of multiple nodes."
   ]
  }
 ],
 "metadata": {
  "kernelspec": {
   "display_name": "uncertainty-engine-py3.12 (3.12.11)",
   "language": "python",
   "name": "python3"
  },
  "language_info": {
   "codemirror_mode": {
    "name": "ipython",
    "version": 3
   },
   "file_extension": ".py",
   "mimetype": "text/x-python",
   "name": "python",
   "nbconvert_exporter": "python",
   "pygments_lexer": "ipython3",
   "version": "3.12.11"
  }
 },
 "nbformat": 4,
 "nbformat_minor": 2
}

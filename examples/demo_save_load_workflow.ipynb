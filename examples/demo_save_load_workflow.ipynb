{
 "cells": [
  {
   "cell_type": "markdown",
   "metadata": {},
   "source": [
    "# Uncertainty Engine SDK - saving and loading workflows\n",
    "\n",
    "This notebook goes through some of the basic functionality of the SDK. It demonstrates how to save and load your workflows.\n"
   ]
  },
  {
   "cell_type": "markdown",
   "metadata": {},
   "source": [
    "## The `Client`"
   ]
  },
  {
   "cell_type": "markdown",
   "metadata": {},
   "source": [
    "Start by importing the `Client`.\n"
   ]
  },
  {
   "cell_type": "code",
   "execution_count": null,
   "metadata": {},
   "outputs": [],
   "source": [
    "from uncertainty_engine import Client, Environment"
   ]
  },
  {
   "cell_type": "markdown",
   "metadata": {},
   "source": [
    "Next initialise the `Client` with the Uncertainty Engine environment to target."
   ]
  },
  {
   "cell_type": "code",
   "execution_count": null,
   "metadata": {},
   "outputs": [],
   "source": [
    "client = Client(\n",
    "    env=Environment(\n",
    "        cognito_user_pool_client_id=\"<COGNITO USER POOL APPLICATION CLIENT ID>\",\n",
    "        core_api=\"<UNCERTAINTY ENGINE CORE API URL>\",\n",
    "        region=\"<REGION>\",\n",
    "        resource_api=\"<UNCERTAINTY ENGINE RESOURCE SERVICE API URL>\",\n",
    "    ),\n",
    ")"
   ]
  },
  {
   "cell_type": "markdown",
   "metadata": {},
   "source": [
    "Before accessing your workflows you must authenticate with your account ID and select the project you wish to save and load from."
   ]
  },
  {
   "cell_type": "code",
   "execution_count": null,
   "metadata": {},
   "outputs": [],
   "source": [
    "# Authenticate using your account ID\n",
    "client.authenticate(\"YOUR_ACCOUNT_ID\")\n",
    "\n",
    "# Select your project you wish to save and load from using your selected project ID\n",
    "PROJECT_ID = \"YOUR_PROJECT_ID\""
   ]
  },
  {
   "cell_type": "markdown",
   "metadata": {},
   "source": [
    "## Saving a new workflow"
   ]
  },
  {
   "cell_type": "markdown",
   "metadata": {},
   "source": [
    "Firstly, we will create a basic add workflow to save. "
   ]
  },
  {
   "cell_type": "code",
   "execution_count": null,
   "metadata": {},
   "outputs": [],
   "source": [
    "from uncertainty_engine.graph import Graph\n",
    "from uncertainty_engine.nodes.basic import Add\n",
    "\n",
    "graph = Graph()\n",
    "\n",
    "add = Add(rhs=1, lhs=42, label=\"Add\")\n",
    "\n",
    "# Add the node to the graph\n",
    "graph.add_node(add)\n",
    "\n",
    "# Define our add output handle\n",
    "ans = add.make_handle(\"ans\")"
   ]
  },
  {
   "cell_type": "markdown",
   "metadata": {},
   "source": [
    "Make sure to wrap your basic workflow in the `Workflow` node before saving. The save method requires the workflow you wish to save to be an instance of the `Workflow` class."
   ]
  },
  {
   "cell_type": "code",
   "execution_count": null,
   "metadata": {},
   "outputs": [],
   "source": [
    "from uncertainty_engine.nodes.workflow import Workflow\n",
    "from pprint import pprint\n",
    "\n",
    "basic_workflow = Workflow(\n",
    "    graph=graph.nodes,\n",
    "    input=graph.external_input,\n",
    "    external_input_id=graph.external_input_id,\n",
    "    requested_output={\"Add\": ans.model_dump()},\n",
    ")"
   ]
  },
  {
   "cell_type": "markdown",
   "metadata": {},
   "source": [
    "Now we can save our workflow. As it is a new workflow you will need to make sure you pass it a `workflow_name`. This must be unique to your other saved workflows.\n",
    "\n",
    "You can tell your workflow has been saved successfully if your workflow ID is returned."
   ]
  },
  {
   "cell_type": "code",
   "execution_count": 6,
   "metadata": {},
   "outputs": [
    {
     "name": "stdout",
     "output_type": "stream",
     "text": [
      "684ffd7bd465c24bf9e9e384\n"
     ]
    }
   ],
   "source": [
    "basic_workflow_id = client.workflows.save(\n",
    "    project_id=PROJECT_ID,\n",
    "    workflow=basic_workflow,\n",
    "    workflow_name=\"MyBasicAddWorkflow\",\n",
    ")\n",
    "\n",
    "print(basic_workflow_id)"
   ]
  },
  {
   "cell_type": "markdown",
   "metadata": {},
   "source": [
    "## Listing your existing workflows"
   ]
  },
  {
   "cell_type": "markdown",
   "metadata": {},
   "source": [
    "We can now list our workflows using the `list_workflows` method to see our saved workflow details."
   ]
  },
  {
   "cell_type": "code",
   "execution_count": 7,
   "metadata": {},
   "outputs": [
    {
     "name": "stdout",
     "output_type": "stream",
     "text": [
      "[{'created_at': '11:18:19 2025-06-16',\n",
      "  'id': '684ffd7bd465c24bf9e9e384',\n",
      "  'name': 'MyBasicAddWorkflow',\n",
      "  'versions': ['684ffd7bd465c24bf9e9e385']}]\n"
     ]
    }
   ],
   "source": [
    "pprint(client.workflows.list_workflows(PROJECT_ID))"
   ]
  },
  {
   "cell_type": "markdown",
   "metadata": {},
   "source": [
    "You will see that along side the ID this method returns the name, list of versions and time the workflow was created. \n",
    "\n",
    "This is a particularly useful method when you start having many workflows and would like to view which one you wish to load."
   ]
  },
  {
   "cell_type": "markdown",
   "metadata": {},
   "source": [
    "## Loading your saved workflow"
   ]
  },
  {
   "cell_type": "markdown",
   "metadata": {},
   "source": [
    "When loading a resource you must provide the `project_id` and the `workflow_id`. Optionally, if you wish to load a specific previous version of your workflow, you can provide the `version_id` as well. Otherwise, the latest version of your workflow will be loaded."
   ]
  },
  {
   "cell_type": "code",
   "execution_count": null,
   "metadata": {},
   "outputs": [],
   "source": [
    "loaded_workflow = client.workflows.load(\n",
    "    project_id=PROJECT_ID, workflow_id=basic_workflow_id\n",
    ")"
   ]
  },
  {
   "cell_type": "markdown",
   "metadata": {},
   "source": [
    "Now we have loaded our basic add workflow we can run it as shown below."
   ]
  },
  {
   "cell_type": "code",
   "execution_count": 9,
   "metadata": {},
   "outputs": [
    {
     "name": "stdout",
     "output_type": "stream",
     "text": [
      "{'inputs': {'external_input_id': '_',\n",
      "            'graph': {'nodes': {'Add': {'inputs': {'lhs': {'node_handle': 'Add_lhs',\n",
      "                                                           'node_name': '_'},\n",
      "                                                   'rhs': {'node_handle': 'Add_rhs',\n",
      "                                                           'node_name': '_'}},\n",
      "                                        'type': 'Add'}}},\n",
      "            'inputs': {'Add_lhs': 42, 'Add_rhs': 1},\n",
      "            'requested_output': {'Add': {'node_handle': 'ans',\n",
      "                                         'node_name': 'Add'}}},\n",
      " 'message': 'Job completed at 2025-06-16 11:18:29.386789',\n",
      " 'outputs': {'outputs': {'Add': 43.0}},\n",
      " 'progress': {'Add': {'inputs': {'lhs': 42, 'rhs': 1},\n",
      "                      'message': 'Job completed at 2025-06-16 11:18:29.022477',\n",
      "                      'outputs': {'ans': 43.0},\n",
      "                      'progress': None,\n",
      "                      'status': 'completed'}},\n",
      " 'status': 'completed'}\n"
     ]
    }
   ],
   "source": [
    "response = client.run_node(loaded_workflow)\n",
    "pprint(response)"
   ]
  },
  {
   "cell_type": "markdown",
   "metadata": {},
   "source": [
    "## Creating a new version of an existing workflow"
   ]
  },
  {
   "cell_type": "markdown",
   "metadata": {},
   "source": [
    "When we wish to save a new version of an already existing workflow we can simply use the `save` method but make sure to provide the `workflow_id` under which you wish the new version to be saved.\n",
    "\n",
    "Note that when saving an already existing workflow, the `workflow_name` is not required."
   ]
  },
  {
   "cell_type": "code",
   "execution_count": null,
   "metadata": {},
   "outputs": [
    {
     "name": "stdout",
     "output_type": "stream",
     "text": [
      "[{'created_at': '11:18:19 2025-06-16',\n",
      "  'id': '684ffd7bd465c24bf9e9e384',\n",
      "  'name': 'MyBasicAddWorkflow',\n",
      "  'versions': ['684ffd7bd465c24bf9e9e385', '684ffd87d465c24bf9e9e386']}]\n"
     ]
    }
   ],
   "source": [
    "client.workflows.save(\n",
    "    project_id=PROJECT_ID,\n",
    "    workflow=basic_workflow,\n",
    "    workflow_id=basic_workflow_id,\n",
    ")\n",
    "\n",
    "# List all workflows in the project\n",
    "pprint(client.workflows.list_workflows(PROJECT_ID))"
   ]
  },
  {
   "cell_type": "markdown",
   "metadata": {},
   "source": [
    "As you can see above `MyBasicAddWorkflow` now has another version in its list of versions."
   ]
  }
 ],
 "metadata": {
  "kernelspec": {
   "display_name": ".venv",
   "language": "python",
   "name": "python3"
  },
  "language_info": {
   "codemirror_mode": {
    "name": "ipython",
    "version": 3
   },
   "file_extension": ".py",
   "mimetype": "text/x-python",
   "name": "python",
   "nbconvert_exporter": "python",
   "pygments_lexer": "ipython3",
   "version": "3.12.8"
  }
 },
 "nbformat": 4,
 "nbformat_minor": 2
}
